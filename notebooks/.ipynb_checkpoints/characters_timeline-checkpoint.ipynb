{
 "cells": [
  {
   "cell_type": "code",
   "execution_count": 65,
   "id": "24374121",
   "metadata": {},
   "outputs": [],
   "source": [
    "import pandas as pd\n",
    "from os import path\n",
    "import plotly.express as px"
   ]
  },
  {
   "cell_type": "code",
   "execution_count": 66,
   "id": "59f3cee4",
   "metadata": {},
   "outputs": [],
   "source": [
    "durations = pd.read_csv('/galitylab/data/studyforrest-data-annotations/old/structure/segments.csv')\n",
    "durations['durations'] = durations['end'] - durations['start']\n",
    "durations['durations'][0]\n",
    "\n",
    "start_time = 0\n",
    "all_segments = []\n",
    "for i, segment in enumerate(range(1,9)):\n",
    "    df = pd.read_csv(f'/galitylab/data/studyforrest-data-annotations/segments/avmovie/emotions_av_1s_events_run-{segment}_events.tsv', sep='\\t')\n",
    "    df['onset'] = df['onset'] + start_time\n",
    "    all_segments.append(df)\n",
    "    start_time += durations['durations'][i]\n",
    "df = pd.concat(all_segments)\n"
   ]
  },
  {
   "cell_type": "code",
   "execution_count": 67,
   "id": "8b957e5f",
   "metadata": {},
   "outputs": [
    {
     "data": {
      "text/html": [
       "<div>\n",
       "<style scoped>\n",
       "    .dataframe tbody tr th:only-of-type {\n",
       "        vertical-align: middle;\n",
       "    }\n",
       "\n",
       "    .dataframe tbody tr th {\n",
       "        vertical-align: top;\n",
       "    }\n",
       "\n",
       "    .dataframe thead th {\n",
       "        text-align: right;\n",
       "    }\n",
       "</style>\n",
       "<table border=\"1\" class=\"dataframe\">\n",
       "  <thead>\n",
       "    <tr style=\"text-align: right;\">\n",
       "      <th></th>\n",
       "      <th>character</th>\n",
       "      <th>onset</th>\n",
       "      <th>duration</th>\n",
       "    </tr>\n",
       "  </thead>\n",
       "  <tbody>\n",
       "    <tr>\n",
       "      <th>0</th>\n",
       "      <td>FORREST</td>\n",
       "      <td>192.00</td>\n",
       "      <td>12.0</td>\n",
       "    </tr>\n",
       "    <tr>\n",
       "      <th>1</th>\n",
       "      <td>FORREST</td>\n",
       "      <td>204.00</td>\n",
       "      <td>2.0</td>\n",
       "    </tr>\n",
       "    <tr>\n",
       "      <th>2</th>\n",
       "      <td>FORREST</td>\n",
       "      <td>206.00</td>\n",
       "      <td>3.0</td>\n",
       "    </tr>\n",
       "    <tr>\n",
       "      <th>3</th>\n",
       "      <td>FORREST</td>\n",
       "      <td>209.00</td>\n",
       "      <td>16.0</td>\n",
       "    </tr>\n",
       "    <tr>\n",
       "      <th>4</th>\n",
       "      <td>FORREST</td>\n",
       "      <td>225.00</td>\n",
       "      <td>15.0</td>\n",
       "    </tr>\n",
       "    <tr>\n",
       "      <th>...</th>\n",
       "      <td>...</td>\n",
       "      <td>...</td>\n",
       "      <td>...</td>\n",
       "    </tr>\n",
       "    <tr>\n",
       "      <th>108</th>\n",
       "      <td>FORREST</td>\n",
       "      <td>7017.68</td>\n",
       "      <td>4.0</td>\n",
       "    </tr>\n",
       "    <tr>\n",
       "      <th>109</th>\n",
       "      <td>FORREST</td>\n",
       "      <td>7021.68</td>\n",
       "      <td>10.0</td>\n",
       "    </tr>\n",
       "    <tr>\n",
       "      <th>110</th>\n",
       "      <td>FORREST</td>\n",
       "      <td>7031.68</td>\n",
       "      <td>1.0</td>\n",
       "    </tr>\n",
       "    <tr>\n",
       "      <th>111</th>\n",
       "      <td>FORREST</td>\n",
       "      <td>7032.68</td>\n",
       "      <td>3.0</td>\n",
       "    </tr>\n",
       "    <tr>\n",
       "      <th>112</th>\n",
       "      <td>FORREST</td>\n",
       "      <td>7035.68</td>\n",
       "      <td>3.0</td>\n",
       "    </tr>\n",
       "  </tbody>\n",
       "</table>\n",
       "<p>1407 rows × 3 columns</p>\n",
       "</div>"
      ],
      "text/plain": [
       "    character    onset  duration\n",
       "0     FORREST   192.00      12.0\n",
       "1     FORREST   204.00       2.0\n",
       "2     FORREST   206.00       3.0\n",
       "3     FORREST   209.00      16.0\n",
       "4     FORREST   225.00      15.0\n",
       "..        ...      ...       ...\n",
       "108   FORREST  7017.68       4.0\n",
       "109   FORREST  7021.68      10.0\n",
       "110   FORREST  7031.68       1.0\n",
       "111   FORREST  7032.68       3.0\n",
       "112   FORREST  7035.68       3.0\n",
       "\n",
       "[1407 rows x 3 columns]"
      ]
     },
     "execution_count": 67,
     "metadata": {},
     "output_type": "execute_result"
    }
   ],
   "source": [
    "df[['character', 'onset', 'duration']]"
   ]
  },
  {
   "cell_type": "code",
   "execution_count": 68,
   "id": "257f4be2",
   "metadata": {},
   "outputs": [],
   "source": [
    "def merge_consecutive_labels(labels: pd.DataFrame, labels_col: str) -> pd.DataFrame:\n",
    "    merged = {labels_col: [], 'onset': [], 'duration': []}\n",
    "    for i in range(len(labels)):\n",
    "        character = labels.iloc[i][labels_col]\n",
    "        onset = labels.iloc[i].onset\n",
    "        duration = labels.iloc[i].duration\n",
    "\n",
    "        if (len(merged[labels_col]) > 0) \\\n",
    "            and (merged[labels_col][-1] == character) \\\n",
    "            and (merged['onset'][-1] + merged['duration'][-1] == labels.iloc[i]['onset']):\n",
    "\n",
    "            # If the next seen character is the same as the previous one\n",
    "            # and their both consecutive (onset[i-1] + duration[i-1] == onset[i])\n",
    "            # we merge the 2 exposures into one\n",
    "            merged['duration'][-1] += labels.iloc[i]['duration']\n",
    "        else:\n",
    "            # Otherwise we add a new exposure\n",
    "            merged[labels_col].append(character)\n",
    "            merged['onset'].append(onset)\n",
    "            merged['duration'].append(duration)\n",
    "    \n",
    "    return pd.DataFrame(merged)"
   ]
  },
  {
   "cell_type": "code",
   "execution_count": 69,
   "id": "d9f15624",
   "metadata": {},
   "outputs": [],
   "source": [
    "df = merge_consecutive_labels(df, 'character')"
   ]
  },
  {
   "cell_type": "code",
   "execution_count": 71,
   "id": "257ab3dc",
   "metadata": {},
   "outputs": [
    {
     "data": {
      "application/vnd.plotly.v1+json": {
       "config": {
        "plotlyServerURL": "https://plot.ly"
       },
       "data": [
        {
         "alignmentgroup": "True",
         "base": [
          192,
          238,
          245,
          253,
          275,
          308,
          318,
          357,
          418,
          422,
          434,
          441,
          467,
          475,
          493,
          496,
          500,
          501,
          513,
          519,
          529,
          547,
          555,
          556,
          571,
          580,
          580,
          588,
          615,
          630,
          630,
          632,
          634,
          637,
          638,
          644,
          644,
          645,
          652,
          654,
          655,
          655,
          675,
          680,
          691,
          703,
          714,
          723,
          729,
          741,
          756,
          759,
          760,
          761,
          762,
          768,
          773,
          786,
          791,
          794,
          795,
          799,
          809,
          819,
          840,
          844,
          847,
          847,
          848,
          848,
          852,
          856,
          857,
          864,
          866,
          871,
          873,
          883,
          891.24,
          900.24,
          907.24,
          907.24,
          908.24,
          908.24,
          912.24,
          913.24,
          914.24,
          915.24,
          916.24,
          920.24,
          920.24,
          933.24,
          949.24,
          953.24,
          957.24,
          998.24,
          1029.24,
          1050.24,
          1068.24,
          1071.24,
          1072.24,
          1075.24,
          1105.24,
          1116.24,
          1137.24,
          1140.24,
          1141.24,
          1147.24,
          1153.24,
          1153.24,
          1153.24,
          1161.24,
          1164.24,
          1167.24,
          1169.24,
          1176.24,
          1176.24,
          1177.24,
          1178.24,
          1192.24,
          1195.24,
          1199.24,
          1207.24,
          1210.24,
          1232.24,
          1242.24,
          1242.24,
          1245.24,
          1246.24,
          1254.24,
          1290.24,
          1290.24,
          1320.24,
          1339.24,
          1347.24,
          1349.24,
          1352.24,
          1352.24,
          1353.24,
          1353.24,
          1360.24,
          1370.24,
          1371.24,
          1375.24,
          1379.24,
          1379.24,
          1386.24,
          1394.24,
          1405.24,
          1439.24,
          1446.24,
          1453.24,
          1458.24,
          1459.24,
          1490.24,
          1503.24,
          1512.24,
          1513.24,
          1516.24,
          1517.24,
          1524.24,
          1524.24,
          1527.24,
          1530.24,
          1550.24,
          1559.24,
          1562.24,
          1575.24,
          1575.24,
          1583.24,
          1602.24,
          1633.24,
          1642.24,
          1646.24,
          1649.24,
          1658.24,
          1667.24,
          1669.24,
          1674.24,
          1676.24,
          1677.24,
          1678.24,
          1695.24,
          1753.24,
          1764.1200000000001,
          1773.1200000000001,
          1821.1200000000001,
          1879.1200000000001,
          1880.1200000000001,
          1884.1200000000001,
          1890.1200000000001,
          1896.1200000000001,
          1910.1200000000001,
          1939.1200000000001,
          1975.1200000000001,
          1993.1200000000001,
          2001.1200000000001,
          2005.1200000000001,
          2007.1200000000001,
          2009.1200000000001,
          2009.1200000000001,
          2013.1200000000001,
          2023.1200000000001,
          2036.1200000000001,
          2041.1200000000001,
          2051.12,
          2052.12,
          2052.12,
          2058.12,
          2066.12,
          2098.12,
          2107.12,
          2119.12,
          2121.12,
          2125.12,
          2142.12,
          2151.12,
          2152.12,
          2169.12,
          2169.12,
          2221.12,
          2228.12,
          2236.12,
          2251.12,
          2262.12,
          2297.12,
          2306.12,
          2322.12,
          2363.12,
          2405.12,
          2408.12,
          2413.12,
          2416.12,
          2418.12,
          2428.12,
          2438.12,
          2446.12,
          2450.12,
          2462.12,
          2496.12,
          2516.12,
          2530.12,
          2548.12,
          2560.12,
          2562.12,
          2584.12,
          2594.12,
          2597.12,
          2609.12,
          2610.12,
          2614.12,
          2619.12,
          2621.6800000000003,
          2649.6800000000003,
          2652.6800000000003,
          2654.6800000000003,
          2657.6800000000003,
          2667.6800000000003,
          2667.6800000000003,
          2667.6800000000003,
          2668.6800000000003,
          2672.6800000000003,
          2673.6800000000003,
          2675.6800000000003,
          2678.6800000000003,
          2688.6800000000003,
          2690.6800000000003,
          2701.6800000000003,
          2707.6800000000003,
          2709.6800000000003,
          2711.6800000000003,
          2715.6800000000003,
          2716.6800000000003,
          2718.6800000000003,
          2722.6800000000003,
          2733.6800000000003,
          2733.6800000000003,
          2787.6800000000003,
          2788.6800000000003,
          2788.6800000000003,
          2811.6800000000003,
          2826.6800000000003,
          2830.6800000000003,
          2840.6800000000003,
          2843.6800000000003,
          2849.6800000000003,
          2872.6800000000003,
          2873.6800000000003,
          2875.6800000000003,
          2880.6800000000003,
          2884.6800000000003,
          2889.6800000000003,
          2908.6800000000003,
          2917.6800000000003,
          2938.6800000000003,
          2944.6800000000003,
          2957.6800000000003,
          2960.6800000000003,
          2966.6800000000003,
          2980.6800000000003,
          3002.6800000000003,
          3020.6800000000003,
          3021.6800000000003,
          3022.6800000000003,
          3027.6800000000003,
          3031.6800000000003,
          3037.6800000000003,
          3044.6800000000003,
          3047.6800000000003,
          3049.6800000000003,
          3052.6800000000003,
          3065.6800000000003,
          3073.6800000000003,
          3075.6800000000003,
          3100.6800000000003,
          3100.6800000000003,
          3109.6800000000003,
          3110.6800000000003,
          3117.6800000000003,
          3122.6800000000003,
          3126.6800000000003,
          3160.6800000000003,
          3184.6800000000003,
          3227.6800000000003,
          3230.6800000000003,
          3245.6800000000003,
          3256.6800000000003,
          3271.6800000000003,
          3274.6800000000003,
          3312.6800000000003,
          3313.6800000000003,
          3314.6800000000003,
          3325.6800000000003,
          3333.6800000000003,
          3335.6800000000003,
          3336.6800000000003,
          3354.6800000000003,
          3389.6800000000003,
          3394.6800000000003,
          3415.6800000000003,
          3428.6800000000003,
          3438.6800000000003,
          3438.6800000000003,
          3448.6800000000003,
          3450.6800000000003,
          3486.6800000000003,
          3497.6800000000003,
          3508.6800000000003,
          3545.6800000000003,
          3550.6800000000003,
          3563.6800000000003,
          3570.6800000000003,
          3573.6800000000003,
          3573.6800000000003,
          3573.6800000000003,
          3574.6800000000003,
          3581.28,
          3584.28,
          3584.28,
          3585.28,
          3586.28,
          3595.28,
          3600.28,
          3601.28,
          3604.28,
          3604.28,
          3605.28,
          3615.28,
          3620.28,
          3623.28,
          3626.28,
          3631.28,
          3640.28,
          3652.28,
          3658.28,
          3660.28,
          3661.28,
          3662.28,
          3672.28,
          3673.28,
          3681.28,
          3690.28,
          3692.28,
          3692.28,
          3701.28,
          3707.28,
          3710.28,
          3711.28,
          3711.28,
          3712.28,
          3712.28,
          3713.28,
          3717.28,
          3722.28,
          3723.28,
          3725.28,
          3734.28,
          3738.28,
          3748.28,
          3762.28,
          3775.28,
          3780.28,
          3782.28,
          3783.28,
          3785.28,
          3788.28,
          3798.28,
          3799.28,
          3799.28,
          3803.28,
          3804.28,
          3813.28,
          3813.28,
          3817.28,
          3825.28,
          3829.28,
          3831.28,
          3831.28,
          3832.28,
          3839.28,
          3849.28,
          3857.28,
          3882.28,
          3886.28,
          3891.28,
          3891.28,
          3899.28,
          3904.28,
          3907.28,
          3913.28,
          3933.28,
          3934.28,
          3944.28,
          3948.28,
          3964.28,
          3967.28,
          3969.28,
          3981.28,
          3983.28,
          3993.28,
          3997.28,
          4010.28,
          4018.28,
          4028.28,
          4038.28,
          4041.28,
          4041.28,
          4045.28,
          4046.28,
          4064.28,
          4083.28,
          4101.28,
          4102.28,
          4113.28,
          4139.28,
          4167.28,
          4183.28,
          4197.28,
          4202.28,
          4226.28,
          4246.28,
          4250.28,
          4261.28,
          4276.28,
          4278.28,
          4288.28,
          4300.28,
          4312.28,
          4312.28,
          4315.28,
          4321.28,
          4342.28,
          4349.28,
          4358.28,
          4365.28,
          4365.28,
          4390.28,
          4407.28,
          4428.28,
          4437.28,
          4444.28,
          4467.28,
          4495.72,
          4517.72,
          4519.72,
          4525.72,
          4536.72,
          4536.72,
          4537.72,
          4537.72,
          4562.72,
          4576.72,
          4608.72,
          4629.72,
          4659.72,
          4667.72,
          4670.72,
          4679.72,
          4689.72,
          4696.72,
          4705.72,
          4715.72,
          4717.72,
          4720.72,
          4731.72,
          4747.72,
          4820.72,
          4823.72,
          4842.72,
          4885.72,
          4889.72,
          4892.72,
          4894.72,
          4895.72,
          4896.72,
          4896.72,
          4897.72,
          4897.72,
          4902.72,
          4905.72,
          4907.72,
          4908.72,
          4915.72,
          4926.72,
          4967.72,
          4969.72,
          4975.72,
          4981.72,
          4991.72,
          4992.72,
          5003.72,
          5009.72,
          5009.72,
          5012.72,
          5013.72,
          5026.72,
          5038.72,
          5039.72,
          5041.72,
          5055.72,
          5074.72,
          5092.72,
          5095.72,
          5103.72,
          5103.72,
          5125.72,
          5133.72,
          5133.72,
          5135.72,
          5148.72,
          5148.72,
          5149.72,
          5179.72,
          5192.72,
          5210.72,
          5215.72,
          5230.72,
          5232.72,
          5232.72,
          5249.72,
          5262.72,
          5264.72,
          5284.72,
          5293.72,
          5297.72,
          5303.72,
          5306.72,
          5314.72,
          5317.72,
          5324.72,
          5386.84,
          5389.84,
          5409.84,
          5418.84,
          5430.84,
          5445.84,
          5450.84,
          5454.84,
          5455.84,
          5456.84,
          5467.84,
          5476.84,
          5480.84,
          5483.84,
          5488.84,
          5489.84,
          5491.84,
          5494.84,
          5494.84,
          5495.84,
          5495.84,
          5509.84,
          5514.84,
          5514.84,
          5515.84,
          5517.84,
          5520.84,
          5523.84,
          5523.84,
          5537.84,
          5547.84,
          5549.84,
          5555.84,
          5560.84,
          5563.84,
          5576.84,
          5580.84,
          5581.84,
          5581.84,
          5586.84,
          5598.84,
          5600.84,
          5600.84,
          5608.84,
          5632.84,
          5640.84,
          5658.84,
          5689.84,
          5722.84,
          5750.84,
          5779.84,
          5789.84,
          5826.84,
          5854.84,
          5900.84,
          5922.84,
          5947.84,
          5951.84,
          5956.84,
          5979.84,
          5990.84,
          6024.84,
          6035.84,
          6040.84,
          6047.84,
          6057.84,
          6092.84,
          6106.84,
          6129.84,
          6164.84,
          6166.84,
          6169.84,
          6179.84,
          6194.84,
          6198.84,
          6208.84,
          6210.84,
          6223.84,
          6236.84,
          6241.84,
          6258.84,
          6263.84,
          6270.84,
          6275.84,
          6285.84,
          6291.84,
          6319.84,
          6333.84,
          6344.84,
          6366.84,
          6373.84,
          6373.84,
          6381.84,
          6382.84,
          6396.84,
          6418.68,
          6427.68,
          6438.68,
          6470.68,
          6470.68,
          6473.68,
          6475.68,
          6496.68,
          6510.68,
          6518.68,
          6523.68,
          6534.68,
          6541.68,
          6543.68,
          6545.68,
          6564.68,
          6568.68,
          6568.68,
          6570.68,
          6573.68,
          6574.68,
          6576.68,
          6593.68,
          6627.68,
          6651.68,
          6669.68,
          6677.68,
          6680.68,
          6683.68,
          6700.68,
          6703.68,
          6716.68,
          6720.68,
          6723.68,
          6729.68,
          6740.68,
          6744.68,
          6746.68,
          6767.68,
          6808.68,
          6821.68,
          6960.68,
          6985.68,
          6993.68,
          6998.68,
          7010.68,
          7012.68
         ],
         "hovertemplate": "onset=%{base}<br>end=%{x}<br>character=%{y}<extra></extra>",
         "legendgroup": "",
         "marker": {
          "color": "#636efa",
          "pattern": {
           "shape": ""
          }
         },
         "name": "",
         "offsetgroup": "",
         "orientation": "h",
         "showlegend": false,
         "textposition": "auto",
         "type": "bar",
         "x": [
          48,
          4,
          15,
          7,
          13,
          4,
          25,
          26,
          2,
          12,
          13,
          6,
          11,
          21,
          3,
          4,
          7,
          11,
          4,
          7,
          12,
          3,
          1,
          9,
          9,
          6,
          3,
          7,
          2,
          4,
          4,
          6,
          7,
          2,
          6,
          1,
          1,
          15,
          3,
          1,
          5,
          14,
          25,
          10,
          2,
          9,
          7,
          8,
          7,
          4,
          4,
          2,
          1,
          12,
          3,
          2,
          5,
          5,
          2,
          7,
          10,
          14,
          7,
          13,
          5,
          3,
          5,
          1,
          10,
          8,
          5,
          8,
          1,
          1,
          5,
          1,
          13,
          3,
          7,
          4,
          1,
          1,
          5,
          7,
          1,
          7,
          2,
          18,
          4,
          33,
          29,
          24,
          2,
          1,
          57,
          8,
          2,
          5,
          4,
          44,
          33,
          30,
          3,
          13,
          3,
          9,
          8,
          2,
          14,
          8,
          11,
          15,
          5,
          1,
          7,
          1,
          2,
          15,
          21,
          7,
          3,
          7,
          35,
          9,
          9,
          3,
          3,
          1,
          44,
          27,
          7,
          7,
          27,
          13,
          5,
          4,
          1,
          18,
          7,
          5,
          11,
          5,
          8,
          4,
          7,
          8,
          3,
          3,
          41,
          14,
          12,
          6,
          32,
          44,
          22,
          10,
          4,
          4,
          14,
          7,
          2,
          3,
          3,
          20,
          4,
          2,
          13,
          8,
          7,
          21,
          2,
          6,
          5,
          5,
          7,
          2,
          7,
          7,
          2,
          2,
          1,
          18,
          10,
          9,
          2,
          12,
          16,
          4,
          10,
          11,
          1,
          1,
          5,
          9,
          26,
          12,
          7,
          18,
          2,
          22,
          5,
          8,
          12,
          16,
          5,
          1,
          6,
          14,
          40,
          34,
          10,
          9,
          6,
          1,
          26,
          10,
          2,
          5,
          5,
          5,
          11,
          2,
          9,
          2,
          8,
          19,
          10,
          7,
          4,
          7,
          8,
          5,
          1,
          10,
          3,
          3,
          2,
          8,
          1,
          16,
          7,
          17,
          13,
          1,
          28,
          6,
          13,
          11,
          5,
          8,
          4,
          3,
          3,
          2,
          5,
          13,
          10,
          1,
          5,
          6,
          2,
          29,
          5,
          2,
          31,
          2,
          9,
          10,
          8,
          7,
          7,
          1,
          6,
          5,
          11,
          6,
          55,
          1,
          23,
          24,
          19,
          3,
          13,
          9,
          24,
          24,
          3,
          7,
          9,
          9,
          24,
          28,
          30,
          1,
          19,
          16,
          9,
          20,
          36,
          39,
          18,
          9,
          3,
          4,
          7,
          13,
          9,
          8,
          18,
          15,
          1,
          10,
          6,
          1,
          10,
          9,
          8,
          9,
          9,
          11,
          23,
          17,
          5,
          1,
          7,
          10,
          1,
          2,
          26,
          2,
          1,
          2,
          4,
          1,
          1,
          4,
          13,
          6,
          21,
          23,
          10,
          12,
          38,
          2,
          17,
          15,
          10,
          13,
          18,
          20,
          10,
          3,
          11,
          1,
          11,
          7,
          3,
          1,
          1,
          8,
          7,
          5,
          4,
          3,
          1,
          11,
          13,
          11,
          2,
          3,
          32,
          21,
          20,
          38,
          3,
          2,
          10,
          11,
          9,
          14,
          5,
          2,
          8,
          3,
          3,
          4,
          1,
          1,
          1,
          1,
          5,
          6,
          6,
          3,
          4,
          23,
          3,
          20,
          10,
          8,
          4,
          3,
          1,
          1,
          6,
          11,
          1,
          1,
          5,
          10,
          21,
          4,
          16,
          11,
          7,
          2,
          1,
          1,
          17,
          18,
          33,
          29,
          9,
          5,
          8,
          13,
          8,
          13,
          2,
          3,
          11,
          10,
          3,
          16,
          4,
          1,
          16,
          12,
          13,
          22,
          10,
          3,
          8,
          13,
          3,
          4,
          4,
          19,
          18,
          19,
          1,
          2,
          16,
          4,
          44,
          2,
          15,
          6,
          17,
          24,
          5,
          26,
          15,
          2,
          14,
          18,
          12,
          3,
          1,
          1,
          21,
          6,
          31,
          7,
          15,
          13,
          7,
          7,
          5,
          5,
          3,
          27,
          24,
          1,
          2,
          10,
          1,
          1,
          1,
          14,
          8,
          19,
          3,
          7,
          6,
          12,
          11,
          2,
          2,
          19,
          4,
          5,
          3,
          1,
          13,
          60,
          5,
          2,
          40,
          3,
          5,
          3,
          2,
          1,
          1,
          1,
          5,
          8,
          5,
          3,
          1,
          2,
          6,
          32,
          8,
          11,
          5,
          11,
          5,
          4,
          6,
          3,
          4,
          6,
          7,
          13,
          3,
          16,
          30,
          16,
          7,
          3,
          2,
          3,
          22,
          8,
          2,
          15,
          12,
          1,
          2,
          22,
          12,
          22,
          5,
          17,
          2,
          9,
          12,
          11,
          2,
          6,
          1,
          4,
          2,
          2,
          8,
          10,
          7,
          32,
          2,
          5,
          21,
          18,
          6,
          6,
          1,
          13,
          12,
          13,
          3,
          4,
          7,
          2,
          2,
          5,
          3,
          1,
          1,
          19,
          19,
          5,
          1,
          6,
          8,
          2,
          3,
          1,
          3,
          9,
          2,
          4,
          8,
          16,
          17,
          5,
          1,
          5,
          17,
          14,
          2,
          8,
          11,
          2,
          26,
          28,
          10,
          6,
          21,
          20,
          7,
          3,
          11,
          5,
          5,
          6,
          4,
          5,
          12,
          7,
          16,
          6,
          2,
          2,
          4,
          1,
          3,
          6,
          11,
          5,
          13,
          1,
          19,
          12,
          3,
          15,
          20,
          18,
          2,
          22,
          12,
          12,
          2,
          16,
          11,
          17,
          13,
          33,
          29,
          7,
          8,
          9,
          15,
          23,
          21,
          2,
          43,
          32,
          3,
          4,
          1,
          6,
          22,
          7,
          1,
          22,
          9,
          23,
          25,
          25,
          4,
          6,
          24,
          6,
          1,
          9,
          14,
          13,
          12,
          14,
          8,
          6,
          11,
          17,
          8,
          13,
          7,
          9,
          17,
          17,
          6,
          2,
          15,
          40,
          6,
          126,
          15,
          13,
          2,
          2,
          1,
          26
         ],
         "xaxis": "x",
         "y": [
          "FORREST",
          "WOMAN",
          "FORREST",
          "WOMAN",
          "FORREST",
          "MRSGUMP",
          "FORRESTVO",
          "MRSGUMP",
          "FORRESTVO",
          "MRSGUMP",
          "MAN",
          "MRSGUMP",
          "MAN",
          "MRSGUMP",
          "MAN",
          "MRSGUMP",
          "FORREST",
          "MAN",
          "MRSGUMP",
          "FORREST",
          "MAN",
          "FORREST",
          "FORREST",
          "MRSGUMP",
          "MRSGUMP",
          "FORREST",
          "MRSGUMP",
          "FORRESTVO",
          "MRSGUMP",
          "ELVISPRESLEY",
          "FORREST",
          "MRSGUMP",
          "FORREST",
          "ELVISPRESLEY",
          "MRSGUMP",
          "ELVISPRESLEY",
          "MRSGUMP",
          "ELVISPRESLEY",
          "FORREST",
          "FORRESTVO",
          "FORREST",
          "FORRESTVO",
          "ELVISPRESLEY",
          "MRSGUMP",
          "FORREST",
          "FORREST",
          "MRSGUMP",
          "WOMAN",
          "FORREST",
          "WOMAN",
          "BOY",
          "FORREST",
          "BOY",
          "FORREST",
          "GIRL",
          "BOY",
          "FORREST",
          "FORREST",
          "FORRESTVO",
          "JENNY",
          "FORRESTVO",
          "FORREST",
          "JENNY",
          "FORRESTVO",
          "JENNY",
          "FORRESTVO",
          "JENNY",
          "FORRESTVO",
          "FORREST",
          "FORRESTVO",
          "JENNY",
          "FORRESTVO",
          "JENNY",
          "FORRESTVO",
          "FORRESTVO",
          "FORREST",
          "JENNY",
          "FORRESTVO",
          "FORREST",
          "FORREST",
          "BOY",
          "FORREST",
          "BOY",
          "FORREST",
          "JENNY",
          "BOY",
          "JENNY",
          "FORREST",
          "JENNY",
          "BOY",
          "JENNY",
          "FORREST",
          "JENNY",
          "BOY",
          "FORREST",
          "BOY",
          "MAN",
          "FORREST",
          "JENNY",
          "JENNYSDAD",
          "JENNY",
          "FORREST",
          "JENNY",
          "FORRESTVO",
          "FORRESTVO",
          "JENNY",
          "FORREST",
          "FORRESTVO",
          "JENNY",
          "FORREST",
          "OLDERBOYS",
          "FORREST",
          "OLDERBOYS",
          "JENNY",
          "OLDERBOYS",
          "FORREST",
          "OLDERBOYS",
          "FORREST",
          "OLDERBOYS",
          "FORREST",
          "JENNY",
          "FORREST",
          "FORREST",
          "OLDERBOYS",
          "MAN",
          "FORREST",
          "FORRESTVO",
          "FORREST",
          "CROWD",
          "MAN",
          "CROWD",
          "MAN",
          "FORREST",
          "JENNY",
          "FORREST",
          "MAN",
          "JENNY",
          "FORREST",
          "JENNY",
          "MAN",
          "JENNY",
          "FORREST",
          "JENNY",
          "FORREST",
          "JENNY",
          "FORREST",
          "JENNY",
          "JENNY",
          "JENNY",
          "FORREST",
          "JENNY",
          "FORREST",
          "JENNY",
          "FORREST",
          "JENNY",
          "FORREST",
          "JENNY",
          "FORREST",
          "JENNY",
          "FORREST",
          "GIRL",
          "FORREST",
          "GIRL",
          "CROWD",
          "FORRESTVO",
          "MEN",
          "FORRESTVO",
          "FORREST",
          "FORRESTVO",
          "FORREST",
          "PRESIDENTKENNEDY",
          "FORREST",
          "FORRESTVO",
          "FORREST",
          "MRSGUMP",
          "MAN",
          "MAN",
          "FORREST",
          "MAN",
          "FORREST",
          "MAN",
          "FORREST",
          "BUBBA",
          "BUBBA",
          "BUBBA",
          "MAN",
          "MAN",
          "BUBBA",
          "FORRESTVO",
          "FORREST",
          "FORRESTVO",
          "MAN",
          "FORREST",
          "CROWD",
          "FORREST",
          "JENNY",
          "FORREST",
          "JENNY",
          "MAN",
          "FORREST",
          "MAN",
          "CROWD",
          "JENNY",
          "JENNY",
          "FORREST",
          "FORREST",
          "JENNY",
          "FORREST",
          "JENNY",
          "FORREST",
          "JENNY",
          "FORREST",
          "JENNY",
          "FORREST",
          "JENNY",
          "FORREST",
          "JENNY",
          "FORREST",
          "BUBBA",
          "FORREST",
          "BUBBA",
          "FORREST",
          "DAN",
          "DAN",
          "DAN",
          "DAN",
          "FORRESTVO",
          "DAN",
          "FORREST",
          "FORREST",
          "FORRESTVO",
          "DAN",
          "FORRESTVO",
          "DAN",
          "FORREST",
          "FORREST",
          "MAN",
          "MAN",
          "DAN",
          "FORREST",
          "FORREST",
          "BUBBA",
          "BUBBA",
          "FORREST",
          "BUBBA",
          "FORREST",
          "FORRESTVO",
          "FORREST",
          "JENNY",
          "FORRESTVO",
          "JENNY",
          "FORREST",
          "FORREST",
          "FORREST",
          "FORREST",
          "DAN",
          "FORREST",
          "BUBBA",
          "DAN",
          "FORREST",
          "BUBBA",
          "DAN",
          "FORREST",
          "BUBBA",
          "FORREST",
          "BUBBA",
          "MAN",
          "DAN",
          "BUBBA",
          "FORREST",
          "DAN",
          "BUBBA",
          "FORREST",
          "DAN",
          "FORREST",
          "BUBBA",
          "FORREST",
          "MAN",
          "FORREST",
          "MAN",
          "FORREST",
          "MAN",
          "FORREST",
          "DAN",
          "FORREST",
          "DAN",
          "FORREST",
          "DAN",
          "FORREST",
          "DAN",
          "FORREST",
          "DAN",
          "FORREST",
          "DAN",
          "FORREST",
          "BUBBA",
          "FORREST",
          "BUBBA",
          "FORREST",
          "BUBBA",
          "FORREST",
          "BUBBA",
          "FORRESTVO",
          "FORREST",
          "FORREST",
          "BUBBA",
          "FORREST",
          "BUBBA",
          "FORREST",
          "FORRESTVO",
          "BUBBA",
          "FORREST",
          "MAN",
          "FORREST",
          "FORREST",
          "FORRESTVO",
          "DAN",
          "FORREST",
          "DAN",
          "FORREST",
          "DAN",
          "FORREST",
          "MAN",
          "MAN",
          "FORRESTVO",
          "FORRESTVO",
          "DAN",
          "MAN",
          "FORREST",
          "PRESIDENTJOHNSON",
          "FORREST",
          "MRSGUMP",
          "FORREST",
          "PRESIDENTJOHNSON",
          "MRSGUMP",
          "PRESIDENTJOHNSON",
          "WOMAN",
          "MAN",
          "ABBIEHOFFMAN",
          "CROWD",
          "FORREST",
          "CROWD",
          "FORREST",
          "ABBIEHOFFMAN",
          "CROWD",
          "MAN",
          "WOMAN",
          "CROWD",
          "JENNY",
          "FORREST",
          "JENNY",
          "FORREST",
          "JENNY",
          "CROWD",
          "FORREST",
          "CROWD",
          "CROWD",
          "JENNY",
          "FORREST",
          "JENNY",
          "FORRESTVO",
          "MAN",
          "JENNY",
          "MAN",
          "JENNY",
          "MAN",
          "JENNY",
          "MAN",
          "JENNY",
          "JENNY",
          "MAN",
          "FORREST",
          "JENNY",
          "FORREST",
          "MAN",
          "JENNY",
          "MAN",
          "JENNY",
          "MAN",
          "JENNY",
          "MAN",
          "FORREST",
          "JENNY",
          "FORREST",
          "FORREST",
          "JENNY",
          "FORREST",
          "JENNY",
          "FORREST",
          "JENNY",
          "FORREST",
          "JENNY",
          "FORREST",
          "JENNY",
          "FORREST",
          "JENNY",
          "FORREST",
          "FORREST",
          "JENNY",
          "JENNY",
          "JENNY",
          "MAN",
          "JENNY",
          "MAN",
          "FORRESTVO",
          "FORREST",
          "MAN",
          "FORREST",
          "MAN",
          "JENNY",
          "MAN",
          "JENNY",
          "FORREST",
          "JENNY",
          "MAN",
          "FORREST",
          "JENNY",
          "FORREST",
          "JENNY",
          "FORREST",
          "JENNY",
          "FORREST",
          "JENNY",
          "FORREST",
          "JENNY",
          "FORREST",
          "JENNY",
          "FORREST",
          "JENNY",
          "FORRESTVO",
          "FORREST",
          "FORRESTVO",
          "FORREST",
          "FORRESTVO",
          "FORREST",
          "MAN",
          "DICKCAVETT",
          "FORREST",
          "JOHNLENNON",
          "FORREST",
          "JOHNLENNON",
          "JOHNLENNON",
          "FORRESTVO",
          "DAN",
          "FORREST",
          "DAN",
          "FORREST",
          "DAN",
          "FORREST",
          "DAN",
          "FORREST",
          "MAN",
          "DAN",
          "MAN",
          "DAN",
          "FORREST",
          "DAN",
          "FORREST",
          "DAN",
          "DAN",
          "FORREST",
          "DAN",
          "FORREST",
          "DAN",
          "WOMAN",
          "DAN",
          "WOMAN",
          "FORREST",
          "WOMAN",
          "FORREST",
          "JENNY",
          "CROWD",
          "CROWD",
          "FORREST",
          "DAN",
          "FORREST",
          "FORREST",
          "PRESIDENTNIXON",
          "FORREST",
          "PRESIDENTNIXON",
          "PRESIDENTNIXON",
          "FORREST",
          "MRSGUMP",
          "FORREST",
          "MRSGUMP",
          "MRSGUMP",
          "WOMAN",
          "MRSGUMP",
          "WOMAN",
          "MRSGUMP",
          "MRSBLUE",
          "FORREST",
          "OLDMAN",
          "FORREST",
          "FORREST",
          "FORREST",
          "OLDMAN",
          "FORREST",
          "FORRESTVO",
          "CROWD",
          "JENNY",
          "FORREST",
          "FORRESTVO",
          "FORREST",
          "JENNY",
          "JENNY",
          "FORREST",
          "FORRESTVO",
          "FORREST",
          "DAN",
          "DAN",
          "FORREST",
          "DAN",
          "FORREST",
          "DAN",
          "FORREST",
          "DAN",
          "FORREST",
          "DAN",
          "FORREST",
          "DAN",
          "FORREST",
          "FORREST",
          "DAN",
          "FORREST",
          "DAN",
          "FORREST",
          "CROWD",
          "DAN",
          "CROWD",
          "FORREST",
          "DAN",
          "FORREST",
          "DAN",
          "FORREST",
          "FORREST",
          "DAN",
          "FORREST",
          "DAN",
          "FORREST",
          "MAN",
          "MRSGUMP",
          "FORRESTVO",
          "DAN",
          "FORREST",
          "MAN",
          "FORREST",
          "MAN",
          "FORREST",
          "OLDWOMAN",
          "FORREST",
          "OLDWOMAN",
          "DAN",
          "DAN",
          "FORRESTVO",
          "OLDWOMAN",
          "FORREST",
          "OLDWOMAN",
          "FORREST",
          "FORRESTVO",
          "FORREST",
          "CROWD",
          "CROWD",
          "MRSBLUE",
          "FORREST",
          "MRSBLUE",
          "FORRESTVO",
          "FORREST",
          "FORRESTVO",
          "FORREST",
          "FORRESTVO",
          "FORREST",
          "FORREST",
          "JENNY",
          "FORREST",
          "FORREST",
          "FORRESTVO",
          "FORRESTVO",
          "JENNY",
          "FORREST",
          "JENNY",
          "FORRESTVO",
          "JENNY",
          "FORRESTVO",
          "FORRESTVO",
          "JENNY",
          "FORREST",
          "JENNY",
          "FORREST",
          "JENNY",
          "FORREST",
          "FORRESTVO",
          "JENNY",
          "FORREST",
          "JENNY",
          "FORRESTVO",
          "FORREST",
          "JENNY",
          "FORREST",
          "JENNY",
          "JENNY",
          "FORREST",
          "FORREST",
          "JENNY",
          "FORREST",
          "JENNY",
          "FORREST",
          "JENNY",
          "FORREST",
          "JENNY",
          "FORREST",
          "JENNY",
          "FORREST",
          "JENNY",
          "JENNY",
          "FORREST",
          "JENNY",
          "JENNY",
          "FORREST",
          "FORREST",
          "FORREST",
          "FORRESTVO",
          "FORRESTVO",
          "OLDWOMAN",
          "FORRESTVO",
          "JENNY",
          "MAN",
          "FORREST",
          "MAN",
          "FORREST",
          "MAN",
          "MAN",
          "MAN",
          "FORREST",
          "MAN",
          "FORRESTVO",
          "MAN",
          "FORREST",
          "MAN",
          "FORREST",
          "OLDWOMAN",
          "FORREST",
          "OLDWOMAN",
          "FORREST",
          "OLDWOMAN",
          "JENNY",
          "FORREST",
          "JENNY",
          "FORREST",
          "JENNY",
          "FORREST",
          "JENNY",
          "FORREST",
          "JENNY",
          "WOMAN",
          "JENNY",
          "FORREST",
          "FORREST",
          "JENNY",
          "FORREST",
          "JENNY",
          "FORREST",
          "JENNY",
          "FORREST",
          "JENNY",
          "JENNY",
          "JENNY",
          "FORREST",
          "JENNY",
          "FORREST",
          "JENNY",
          "FORREST",
          "JENNY",
          "FORREST",
          "JENNY",
          "FORREST",
          "JENNY",
          "DAN",
          "JENNY",
          "FORREST",
          "DAN",
          "JENNY",
          "DAN",
          "FORREST",
          "WOMAN",
          "JENNY",
          "FORREST",
          "JENNY",
          "FORREST",
          "JENNY",
          "FORREST",
          "JENNY",
          "FORREST",
          "FORRESTVO",
          "FORREST",
          "FORRESTVO",
          "FORREST",
          "JENNY",
          "FORREST",
          "JENNY",
          "FORREST",
          "FORRESTVO",
          "FORREST",
          "FORREST",
          "FORREST",
          "FORREST",
          "FORREST",
          "FORREST",
          "FORRESTJR",
          "FORREST",
          "WOMAN",
          "FORREST"
         ],
         "yaxis": "y"
        }
       ],
       "layout": {
        "barmode": "overlay",
        "legend": {
         "tracegroupgap": 0
        },
        "margin": {
         "t": 60
        },
        "template": {
         "data": {
          "bar": [
           {
            "error_x": {
             "color": "#2a3f5f"
            },
            "error_y": {
             "color": "#2a3f5f"
            },
            "marker": {
             "line": {
              "color": "#E5ECF6",
              "width": 0.5
             },
             "pattern": {
              "fillmode": "overlay",
              "size": 10,
              "solidity": 0.2
             }
            },
            "type": "bar"
           }
          ],
          "barpolar": [
           {
            "marker": {
             "line": {
              "color": "#E5ECF6",
              "width": 0.5
             },
             "pattern": {
              "fillmode": "overlay",
              "size": 10,
              "solidity": 0.2
             }
            },
            "type": "barpolar"
           }
          ],
          "carpet": [
           {
            "aaxis": {
             "endlinecolor": "#2a3f5f",
             "gridcolor": "white",
             "linecolor": "white",
             "minorgridcolor": "white",
             "startlinecolor": "#2a3f5f"
            },
            "baxis": {
             "endlinecolor": "#2a3f5f",
             "gridcolor": "white",
             "linecolor": "white",
             "minorgridcolor": "white",
             "startlinecolor": "#2a3f5f"
            },
            "type": "carpet"
           }
          ],
          "choropleth": [
           {
            "colorbar": {
             "outlinewidth": 0,
             "ticks": ""
            },
            "type": "choropleth"
           }
          ],
          "contour": [
           {
            "colorbar": {
             "outlinewidth": 0,
             "ticks": ""
            },
            "colorscale": [
             [
              0,
              "#0d0887"
             ],
             [
              0.1111111111111111,
              "#46039f"
             ],
             [
              0.2222222222222222,
              "#7201a8"
             ],
             [
              0.3333333333333333,
              "#9c179e"
             ],
             [
              0.4444444444444444,
              "#bd3786"
             ],
             [
              0.5555555555555556,
              "#d8576b"
             ],
             [
              0.6666666666666666,
              "#ed7953"
             ],
             [
              0.7777777777777778,
              "#fb9f3a"
             ],
             [
              0.8888888888888888,
              "#fdca26"
             ],
             [
              1,
              "#f0f921"
             ]
            ],
            "type": "contour"
           }
          ],
          "contourcarpet": [
           {
            "colorbar": {
             "outlinewidth": 0,
             "ticks": ""
            },
            "type": "contourcarpet"
           }
          ],
          "heatmap": [
           {
            "colorbar": {
             "outlinewidth": 0,
             "ticks": ""
            },
            "colorscale": [
             [
              0,
              "#0d0887"
             ],
             [
              0.1111111111111111,
              "#46039f"
             ],
             [
              0.2222222222222222,
              "#7201a8"
             ],
             [
              0.3333333333333333,
              "#9c179e"
             ],
             [
              0.4444444444444444,
              "#bd3786"
             ],
             [
              0.5555555555555556,
              "#d8576b"
             ],
             [
              0.6666666666666666,
              "#ed7953"
             ],
             [
              0.7777777777777778,
              "#fb9f3a"
             ],
             [
              0.8888888888888888,
              "#fdca26"
             ],
             [
              1,
              "#f0f921"
             ]
            ],
            "type": "heatmap"
           }
          ],
          "heatmapgl": [
           {
            "colorbar": {
             "outlinewidth": 0,
             "ticks": ""
            },
            "colorscale": [
             [
              0,
              "#0d0887"
             ],
             [
              0.1111111111111111,
              "#46039f"
             ],
             [
              0.2222222222222222,
              "#7201a8"
             ],
             [
              0.3333333333333333,
              "#9c179e"
             ],
             [
              0.4444444444444444,
              "#bd3786"
             ],
             [
              0.5555555555555556,
              "#d8576b"
             ],
             [
              0.6666666666666666,
              "#ed7953"
             ],
             [
              0.7777777777777778,
              "#fb9f3a"
             ],
             [
              0.8888888888888888,
              "#fdca26"
             ],
             [
              1,
              "#f0f921"
             ]
            ],
            "type": "heatmapgl"
           }
          ],
          "histogram": [
           {
            "marker": {
             "pattern": {
              "fillmode": "overlay",
              "size": 10,
              "solidity": 0.2
             }
            },
            "type": "histogram"
           }
          ],
          "histogram2d": [
           {
            "colorbar": {
             "outlinewidth": 0,
             "ticks": ""
            },
            "colorscale": [
             [
              0,
              "#0d0887"
             ],
             [
              0.1111111111111111,
              "#46039f"
             ],
             [
              0.2222222222222222,
              "#7201a8"
             ],
             [
              0.3333333333333333,
              "#9c179e"
             ],
             [
              0.4444444444444444,
              "#bd3786"
             ],
             [
              0.5555555555555556,
              "#d8576b"
             ],
             [
              0.6666666666666666,
              "#ed7953"
             ],
             [
              0.7777777777777778,
              "#fb9f3a"
             ],
             [
              0.8888888888888888,
              "#fdca26"
             ],
             [
              1,
              "#f0f921"
             ]
            ],
            "type": "histogram2d"
           }
          ],
          "histogram2dcontour": [
           {
            "colorbar": {
             "outlinewidth": 0,
             "ticks": ""
            },
            "colorscale": [
             [
              0,
              "#0d0887"
             ],
             [
              0.1111111111111111,
              "#46039f"
             ],
             [
              0.2222222222222222,
              "#7201a8"
             ],
             [
              0.3333333333333333,
              "#9c179e"
             ],
             [
              0.4444444444444444,
              "#bd3786"
             ],
             [
              0.5555555555555556,
              "#d8576b"
             ],
             [
              0.6666666666666666,
              "#ed7953"
             ],
             [
              0.7777777777777778,
              "#fb9f3a"
             ],
             [
              0.8888888888888888,
              "#fdca26"
             ],
             [
              1,
              "#f0f921"
             ]
            ],
            "type": "histogram2dcontour"
           }
          ],
          "mesh3d": [
           {
            "colorbar": {
             "outlinewidth": 0,
             "ticks": ""
            },
            "type": "mesh3d"
           }
          ],
          "parcoords": [
           {
            "line": {
             "colorbar": {
              "outlinewidth": 0,
              "ticks": ""
             }
            },
            "type": "parcoords"
           }
          ],
          "pie": [
           {
            "automargin": true,
            "type": "pie"
           }
          ],
          "scatter": [
           {
            "fillpattern": {
             "fillmode": "overlay",
             "size": 10,
             "solidity": 0.2
            },
            "type": "scatter"
           }
          ],
          "scatter3d": [
           {
            "line": {
             "colorbar": {
              "outlinewidth": 0,
              "ticks": ""
             }
            },
            "marker": {
             "colorbar": {
              "outlinewidth": 0,
              "ticks": ""
             }
            },
            "type": "scatter3d"
           }
          ],
          "scattercarpet": [
           {
            "marker": {
             "colorbar": {
              "outlinewidth": 0,
              "ticks": ""
             }
            },
            "type": "scattercarpet"
           }
          ],
          "scattergeo": [
           {
            "marker": {
             "colorbar": {
              "outlinewidth": 0,
              "ticks": ""
             }
            },
            "type": "scattergeo"
           }
          ],
          "scattergl": [
           {
            "marker": {
             "colorbar": {
              "outlinewidth": 0,
              "ticks": ""
             }
            },
            "type": "scattergl"
           }
          ],
          "scattermapbox": [
           {
            "marker": {
             "colorbar": {
              "outlinewidth": 0,
              "ticks": ""
             }
            },
            "type": "scattermapbox"
           }
          ],
          "scatterpolar": [
           {
            "marker": {
             "colorbar": {
              "outlinewidth": 0,
              "ticks": ""
             }
            },
            "type": "scatterpolar"
           }
          ],
          "scatterpolargl": [
           {
            "marker": {
             "colorbar": {
              "outlinewidth": 0,
              "ticks": ""
             }
            },
            "type": "scatterpolargl"
           }
          ],
          "scatterternary": [
           {
            "marker": {
             "colorbar": {
              "outlinewidth": 0,
              "ticks": ""
             }
            },
            "type": "scatterternary"
           }
          ],
          "surface": [
           {
            "colorbar": {
             "outlinewidth": 0,
             "ticks": ""
            },
            "colorscale": [
             [
              0,
              "#0d0887"
             ],
             [
              0.1111111111111111,
              "#46039f"
             ],
             [
              0.2222222222222222,
              "#7201a8"
             ],
             [
              0.3333333333333333,
              "#9c179e"
             ],
             [
              0.4444444444444444,
              "#bd3786"
             ],
             [
              0.5555555555555556,
              "#d8576b"
             ],
             [
              0.6666666666666666,
              "#ed7953"
             ],
             [
              0.7777777777777778,
              "#fb9f3a"
             ],
             [
              0.8888888888888888,
              "#fdca26"
             ],
             [
              1,
              "#f0f921"
             ]
            ],
            "type": "surface"
           }
          ],
          "table": [
           {
            "cells": {
             "fill": {
              "color": "#EBF0F8"
             },
             "line": {
              "color": "white"
             }
            },
            "header": {
             "fill": {
              "color": "#C8D4E3"
             },
             "line": {
              "color": "white"
             }
            },
            "type": "table"
           }
          ]
         },
         "layout": {
          "annotationdefaults": {
           "arrowcolor": "#2a3f5f",
           "arrowhead": 0,
           "arrowwidth": 1
          },
          "autotypenumbers": "strict",
          "coloraxis": {
           "colorbar": {
            "outlinewidth": 0,
            "ticks": ""
           }
          },
          "colorscale": {
           "diverging": [
            [
             0,
             "#8e0152"
            ],
            [
             0.1,
             "#c51b7d"
            ],
            [
             0.2,
             "#de77ae"
            ],
            [
             0.3,
             "#f1b6da"
            ],
            [
             0.4,
             "#fde0ef"
            ],
            [
             0.5,
             "#f7f7f7"
            ],
            [
             0.6,
             "#e6f5d0"
            ],
            [
             0.7,
             "#b8e186"
            ],
            [
             0.8,
             "#7fbc41"
            ],
            [
             0.9,
             "#4d9221"
            ],
            [
             1,
             "#276419"
            ]
           ],
           "sequential": [
            [
             0,
             "#0d0887"
            ],
            [
             0.1111111111111111,
             "#46039f"
            ],
            [
             0.2222222222222222,
             "#7201a8"
            ],
            [
             0.3333333333333333,
             "#9c179e"
            ],
            [
             0.4444444444444444,
             "#bd3786"
            ],
            [
             0.5555555555555556,
             "#d8576b"
            ],
            [
             0.6666666666666666,
             "#ed7953"
            ],
            [
             0.7777777777777778,
             "#fb9f3a"
            ],
            [
             0.8888888888888888,
             "#fdca26"
            ],
            [
             1,
             "#f0f921"
            ]
           ],
           "sequentialminus": [
            [
             0,
             "#0d0887"
            ],
            [
             0.1111111111111111,
             "#46039f"
            ],
            [
             0.2222222222222222,
             "#7201a8"
            ],
            [
             0.3333333333333333,
             "#9c179e"
            ],
            [
             0.4444444444444444,
             "#bd3786"
            ],
            [
             0.5555555555555556,
             "#d8576b"
            ],
            [
             0.6666666666666666,
             "#ed7953"
            ],
            [
             0.7777777777777778,
             "#fb9f3a"
            ],
            [
             0.8888888888888888,
             "#fdca26"
            ],
            [
             1,
             "#f0f921"
            ]
           ]
          },
          "colorway": [
           "#636efa",
           "#EF553B",
           "#00cc96",
           "#ab63fa",
           "#FFA15A",
           "#19d3f3",
           "#FF6692",
           "#B6E880",
           "#FF97FF",
           "#FECB52"
          ],
          "font": {
           "color": "#2a3f5f"
          },
          "geo": {
           "bgcolor": "white",
           "lakecolor": "white",
           "landcolor": "#E5ECF6",
           "showlakes": true,
           "showland": true,
           "subunitcolor": "white"
          },
          "hoverlabel": {
           "align": "left"
          },
          "hovermode": "closest",
          "mapbox": {
           "style": "light"
          },
          "paper_bgcolor": "white",
          "plot_bgcolor": "#E5ECF6",
          "polar": {
           "angularaxis": {
            "gridcolor": "white",
            "linecolor": "white",
            "ticks": ""
           },
           "bgcolor": "#E5ECF6",
           "radialaxis": {
            "gridcolor": "white",
            "linecolor": "white",
            "ticks": ""
           }
          },
          "scene": {
           "xaxis": {
            "backgroundcolor": "#E5ECF6",
            "gridcolor": "white",
            "gridwidth": 2,
            "linecolor": "white",
            "showbackground": true,
            "ticks": "",
            "zerolinecolor": "white"
           },
           "yaxis": {
            "backgroundcolor": "#E5ECF6",
            "gridcolor": "white",
            "gridwidth": 2,
            "linecolor": "white",
            "showbackground": true,
            "ticks": "",
            "zerolinecolor": "white"
           },
           "zaxis": {
            "backgroundcolor": "#E5ECF6",
            "gridcolor": "white",
            "gridwidth": 2,
            "linecolor": "white",
            "showbackground": true,
            "ticks": "",
            "zerolinecolor": "white"
           }
          },
          "shapedefaults": {
           "line": {
            "color": "#2a3f5f"
           }
          },
          "ternary": {
           "aaxis": {
            "gridcolor": "white",
            "linecolor": "white",
            "ticks": ""
           },
           "baxis": {
            "gridcolor": "white",
            "linecolor": "white",
            "ticks": ""
           },
           "bgcolor": "#E5ECF6",
           "caxis": {
            "gridcolor": "white",
            "linecolor": "white",
            "ticks": ""
           }
          },
          "title": {
           "x": 0.05
          },
          "xaxis": {
           "automargin": true,
           "gridcolor": "white",
           "linecolor": "white",
           "ticks": "",
           "title": {
            "standoff": 15
           },
           "zerolinecolor": "white",
           "zerolinewidth": 2
          },
          "yaxis": {
           "automargin": true,
           "gridcolor": "white",
           "linecolor": "white",
           "ticks": "",
           "title": {
            "standoff": 15
           },
           "zerolinecolor": "white",
           "zerolinewidth": 2
          }
         }
        },
        "xaxis": {
         "anchor": "y",
         "domain": [
          0,
          1
         ],
         "type": "linear"
        },
        "yaxis": {
         "anchor": "x",
         "autorange": "reversed",
         "domain": [
          0,
          1
         ],
         "title": {
          "text": "character"
         }
        }
       }
      },
      "text/html": [
       "<div>                            <div id=\"c9373aa4-da8b-4bd4-9091-1980d23716c2\" class=\"plotly-graph-div\" style=\"height:525px; width:100%;\"></div>            <script type=\"text/javascript\">                require([\"plotly\"], function(Plotly) {                    window.PLOTLYENV=window.PLOTLYENV || {};                                    if (document.getElementById(\"c9373aa4-da8b-4bd4-9091-1980d23716c2\")) {                    Plotly.newPlot(                        \"c9373aa4-da8b-4bd4-9091-1980d23716c2\",                        [{\"alignmentgroup\":\"True\",\"base\":[192.0,238.0,245.0,253.0,275.0,308.0,318.0,357.0,418.0,422.0,434.0,441.0,467.0,475.0,493.0,496.0,500.0,501.0,513.0,519.0,529.0,547.0,555.0,556.0,571.0,580.0,580.0,588.0,615.0,630.0,630.0,632.0,634.0,637.0,638.0,644.0,644.0,645.0,652.0,654.0,655.0,655.0,675.0,680.0,691.0,703.0,714.0,723.0,729.0,741.0,756.0,759.0,760.0,761.0,762.0,768.0,773.0,786.0,791.0,794.0,795.0,799.0,809.0,819.0,840.0,844.0,847.0,847.0,848.0,848.0,852.0,856.0,857.0,864.0,866.0,871.0,873.0,883.0,891.24,900.24,907.24,907.24,908.24,908.24,912.24,913.24,914.24,915.24,916.24,920.24,920.24,933.24,949.24,953.24,957.24,998.24,1029.24,1050.24,1068.24,1071.24,1072.24,1075.24,1105.24,1116.24,1137.24,1140.24,1141.24,1147.24,1153.24,1153.24,1153.24,1161.24,1164.24,1167.24,1169.24,1176.24,1176.24,1177.24,1178.24,1192.24,1195.24,1199.24,1207.24,1210.24,1232.24,1242.24,1242.24,1245.24,1246.24,1254.24,1290.24,1290.24,1320.24,1339.24,1347.24,1349.24,1352.24,1352.24,1353.24,1353.24,1360.24,1370.24,1371.24,1375.24,1379.24,1379.24,1386.24,1394.24,1405.24,1439.24,1446.24,1453.24,1458.24,1459.24,1490.24,1503.24,1512.24,1513.24,1516.24,1517.24,1524.24,1524.24,1527.24,1530.24,1550.24,1559.24,1562.24,1575.24,1575.24,1583.24,1602.24,1633.24,1642.24,1646.24,1649.24,1658.24,1667.24,1669.24,1674.24,1676.24,1677.24,1678.24,1695.24,1753.24,1764.1200000000001,1773.1200000000001,1821.1200000000001,1879.1200000000001,1880.1200000000001,1884.1200000000001,1890.1200000000001,1896.1200000000001,1910.1200000000001,1939.1200000000001,1975.1200000000001,1993.1200000000001,2001.1200000000001,2005.1200000000001,2007.1200000000001,2009.1200000000001,2009.1200000000001,2013.1200000000001,2023.1200000000001,2036.1200000000001,2041.1200000000001,2051.12,2052.12,2052.12,2058.12,2066.12,2098.12,2107.12,2119.12,2121.12,2125.12,2142.12,2151.12,2152.12,2169.12,2169.12,2221.12,2228.12,2236.12,2251.12,2262.12,2297.12,2306.12,2322.12,2363.12,2405.12,2408.12,2413.12,2416.12,2418.12,2428.12,2438.12,2446.12,2450.12,2462.12,2496.12,2516.12,2530.12,2548.12,2560.12,2562.12,2584.12,2594.12,2597.12,2609.12,2610.12,2614.12,2619.12,2621.6800000000003,2649.6800000000003,2652.6800000000003,2654.6800000000003,2657.6800000000003,2667.6800000000003,2667.6800000000003,2667.6800000000003,2668.6800000000003,2672.6800000000003,2673.6800000000003,2675.6800000000003,2678.6800000000003,2688.6800000000003,2690.6800000000003,2701.6800000000003,2707.6800000000003,2709.6800000000003,2711.6800000000003,2715.6800000000003,2716.6800000000003,2718.6800000000003,2722.6800000000003,2733.6800000000003,2733.6800000000003,2787.6800000000003,2788.6800000000003,2788.6800000000003,2811.6800000000003,2826.6800000000003,2830.6800000000003,2840.6800000000003,2843.6800000000003,2849.6800000000003,2872.6800000000003,2873.6800000000003,2875.6800000000003,2880.6800000000003,2884.6800000000003,2889.6800000000003,2908.6800000000003,2917.6800000000003,2938.6800000000003,2944.6800000000003,2957.6800000000003,2960.6800000000003,2966.6800000000003,2980.6800000000003,3002.6800000000003,3020.6800000000003,3021.6800000000003,3022.6800000000003,3027.6800000000003,3031.6800000000003,3037.6800000000003,3044.6800000000003,3047.6800000000003,3049.6800000000003,3052.6800000000003,3065.6800000000003,3073.6800000000003,3075.6800000000003,3100.6800000000003,3100.6800000000003,3109.6800000000003,3110.6800000000003,3117.6800000000003,3122.6800000000003,3126.6800000000003,3160.6800000000003,3184.6800000000003,3227.6800000000003,3230.6800000000003,3245.6800000000003,3256.6800000000003,3271.6800000000003,3274.6800000000003,3312.6800000000003,3313.6800000000003,3314.6800000000003,3325.6800000000003,3333.6800000000003,3335.6800000000003,3336.6800000000003,3354.6800000000003,3389.6800000000003,3394.6800000000003,3415.6800000000003,3428.6800000000003,3438.6800000000003,3438.6800000000003,3448.6800000000003,3450.6800000000003,3486.6800000000003,3497.6800000000003,3508.6800000000003,3545.6800000000003,3550.6800000000003,3563.6800000000003,3570.6800000000003,3573.6800000000003,3573.6800000000003,3573.6800000000003,3574.6800000000003,3581.28,3584.28,3584.28,3585.28,3586.28,3595.28,3600.28,3601.28,3604.28,3604.28,3605.28,3615.28,3620.28,3623.28,3626.28,3631.28,3640.28,3652.28,3658.28,3660.28,3661.28,3662.28,3672.28,3673.28,3681.28,3690.28,3692.28,3692.28,3701.28,3707.28,3710.28,3711.28,3711.28,3712.28,3712.28,3713.28,3717.28,3722.28,3723.28,3725.28,3734.28,3738.28,3748.28,3762.28,3775.28,3780.28,3782.28,3783.28,3785.28,3788.28,3798.28,3799.28,3799.28,3803.28,3804.28,3813.28,3813.28,3817.28,3825.28,3829.28,3831.28,3831.28,3832.28,3839.28,3849.28,3857.28,3882.28,3886.28,3891.28,3891.28,3899.28,3904.28,3907.28,3913.28,3933.28,3934.28,3944.28,3948.28,3964.28,3967.28,3969.28,3981.28,3983.28,3993.28,3997.28,4010.28,4018.28,4028.28,4038.28,4041.28,4041.28,4045.28,4046.28,4064.28,4083.28,4101.28,4102.28,4113.28,4139.28,4167.28,4183.28,4197.28,4202.28,4226.28,4246.28,4250.28,4261.28,4276.28,4278.28,4288.28,4300.28,4312.28,4312.28,4315.28,4321.28,4342.28,4349.28,4358.28,4365.28,4365.28,4390.28,4407.28,4428.28,4437.28,4444.28,4467.28,4495.72,4517.72,4519.72,4525.72,4536.72,4536.72,4537.72,4537.72,4562.72,4576.72,4608.72,4629.72,4659.72,4667.72,4670.72,4679.72,4689.72,4696.72,4705.72,4715.72,4717.72,4720.72,4731.72,4747.72,4820.72,4823.72,4842.72,4885.72,4889.72,4892.72,4894.72,4895.72,4896.72,4896.72,4897.72,4897.72,4902.72,4905.72,4907.72,4908.72,4915.72,4926.72,4967.72,4969.72,4975.72,4981.72,4991.72,4992.72,5003.72,5009.72,5009.72,5012.72,5013.72,5026.72,5038.72,5039.72,5041.72,5055.72,5074.72,5092.72,5095.72,5103.72,5103.72,5125.72,5133.72,5133.72,5135.72,5148.72,5148.72,5149.72,5179.72,5192.72,5210.72,5215.72,5230.72,5232.72,5232.72,5249.72,5262.72,5264.72,5284.72,5293.72,5297.72,5303.72,5306.72,5314.72,5317.72,5324.72,5386.84,5389.84,5409.84,5418.84,5430.84,5445.84,5450.84,5454.84,5455.84,5456.84,5467.84,5476.84,5480.84,5483.84,5488.84,5489.84,5491.84,5494.84,5494.84,5495.84,5495.84,5509.84,5514.84,5514.84,5515.84,5517.84,5520.84,5523.84,5523.84,5537.84,5547.84,5549.84,5555.84,5560.84,5563.84,5576.84,5580.84,5581.84,5581.84,5586.84,5598.84,5600.84,5600.84,5608.84,5632.84,5640.84,5658.84,5689.84,5722.84,5750.84,5779.84,5789.84,5826.84,5854.84,5900.84,5922.84,5947.84,5951.84,5956.84,5979.84,5990.84,6024.84,6035.84,6040.84,6047.84,6057.84,6092.84,6106.84,6129.84,6164.84,6166.84,6169.84,6179.84,6194.84,6198.84,6208.84,6210.84,6223.84,6236.84,6241.84,6258.84,6263.84,6270.84,6275.84,6285.84,6291.84,6319.84,6333.84,6344.84,6366.84,6373.84,6373.84,6381.84,6382.84,6396.84,6418.68,6427.68,6438.68,6470.68,6470.68,6473.68,6475.68,6496.68,6510.68,6518.68,6523.68,6534.68,6541.68,6543.68,6545.68,6564.68,6568.68,6568.68,6570.68,6573.68,6574.68,6576.68,6593.68,6627.68,6651.68,6669.68,6677.68,6680.68,6683.68,6700.68,6703.68,6716.68,6720.68,6723.68,6729.68,6740.68,6744.68,6746.68,6767.68,6808.68,6821.68,6960.68,6985.68,6993.68,6998.68,7010.68,7012.68],\"hovertemplate\":\"onset=%{base}<br>end=%{x}<br>character=%{y}<extra></extra>\",\"legendgroup\":\"\",\"marker\":{\"color\":\"#636efa\",\"pattern\":{\"shape\":\"\"}},\"name\":\"\",\"offsetgroup\":\"\",\"orientation\":\"h\",\"showlegend\":false,\"textposition\":\"auto\",\"x\":[48.0,4.0,15.0,7.0,13.0,4.0,25.0,26.0,2.0,12.0,13.0,6.0,11.0,21.0,3.0,4.0,7.0,11.0,4.0,7.0,12.0,3.0,1.0,9.0,9.0,6.0,3.0,7.0,2.0,4.0,4.0,6.0,7.0,2.0,6.0,1.0,1.0,15.0,3.0,1.0,5.0,14.0,25.0,10.0,2.0,9.0,7.0,8.0,7.0,4.0,4.0,2.0,1.0,12.0,3.0,2.0,5.0,5.0,2.0,7.0,10.0,14.0,7.0,13.0,5.0,3.0,5.0,1.0,10.0,8.0,5.0,8.0,1.0,1.0,5.0,1.0,13.0,3.0,7.0,4.0,1.0,1.0,5.0,7.0,1.0,7.0,2.0,18.0,4.0,33.0,29.0,24.0,2.0,1.0,57.0,8.0,2.0,5.0,4.0,44.0,33.0,30.0,3.0,13.0,3.0,9.0,8.0,2.0,14.0,8.0,11.0,15.0,5.0,1.0,7.0,1.0,2.0,15.0,21.0,7.0,3.0,7.0,35.0,9.0,9.0,3.0,3.0,1.0,44.0,27.0,7.0,7.0,27.0,13.0,5.0,4.0,1.0,18.0,7.0,5.0,11.0,5.0,8.0,4.0,7.0,8.0,3.0,3.0,41.0,14.0,12.0,6.0,32.0,44.0,22.0,10.0,4.0,4.0,14.0,7.0,2.0,3.0,3.0,20.0,4.0,2.0,13.0,8.0,7.0,21.0,2.0,6.0,5.0,5.0,7.0,2.0,7.0,7.0,2.0,2.0,1.0,18.0,10.0,9.0,2.0,12.0,16.0,4.0,10.0,11.0,1.0,1.0,5.0,9.0,26.0,12.0,7.0,18.0,2.0,22.0,5.0,8.0,12.0,16.0,5.0,1.0,6.0,14.0,40.0,34.0,10.0,9.0,6.0,1.0,26.0,10.0,2.0,5.0,5.0,5.0,11.0,2.0,9.0,2.0,8.0,19.0,10.0,7.0,4.0,7.0,8.0,5.0,1.0,10.0,3.0,3.0,2.0,8.0,1.0,16.0,7.0,17.0,13.0,1.0,28.0,6.0,13.0,11.0,5.0,8.0,4.0,3.0,3.0,2.0,5.0,13.0,10.0,1.0,5.0,6.0,2.0,29.0,5.0,2.0,31.0,2.0,9.0,10.0,8.0,7.0,7.0,1.0,6.0,5.0,11.0,6.0,55.0,1.0,23.0,24.0,19.0,3.0,13.0,9.0,24.0,24.0,3.0,7.0,9.0,9.0,24.0,28.0,30.0,1.0,19.0,16.0,9.0,20.0,36.0,39.0,18.0,9.0,3.0,4.0,7.0,13.0,9.0,8.0,18.0,15.0,1.0,10.0,6.0,1.0,10.0,9.0,8.0,9.0,9.0,11.0,23.0,17.0,5.0,1.0,7.0,10.0,1.0,2.0,26.0,2.0,1.0,2.0,4.0,1.0,1.0,4.0,13.0,6.0,21.0,23.0,10.0,12.0,38.0,2.0,17.0,15.0,10.0,13.0,18.0,20.0,10.0,3.0,11.0,1.0,11.0,7.0,3.0,1.0,1.0,8.0,7.0,5.0,4.0,3.0,1.0,11.0,13.0,11.0,2.0,3.0,32.0,21.0,20.0,38.0,3.0,2.0,10.0,11.0,9.0,14.0,5.0,2.0,8.0,3.0,3.0,4.0,1.0,1.0,1.0,1.0,5.0,6.0,6.0,3.0,4.0,23.0,3.0,20.0,10.0,8.0,4.0,3.0,1.0,1.0,6.0,11.0,1.0,1.0,5.0,10.0,21.0,4.0,16.0,11.0,7.0,2.0,1.0,1.0,17.0,18.0,33.0,29.0,9.0,5.0,8.0,13.0,8.0,13.0,2.0,3.0,11.0,10.0,3.0,16.0,4.0,1.0,16.0,12.0,13.0,22.0,10.0,3.0,8.0,13.0,3.0,4.0,4.0,19.0,18.0,19.0,1.0,2.0,16.0,4.0,44.0,2.0,15.0,6.0,17.0,24.0,5.0,26.0,15.0,2.0,14.0,18.0,12.0,3.0,1.0,1.0,21.0,6.0,31.0,7.0,15.0,13.0,7.0,7.0,5.0,5.0,3.0,27.0,24.0,1.0,2.0,10.0,1.0,1.0,1.0,14.0,8.0,19.0,3.0,7.0,6.0,12.0,11.0,2.0,2.0,19.0,4.0,5.0,3.0,1.0,13.0,60.0,5.0,2.0,40.0,3.0,5.0,3.0,2.0,1.0,1.0,1.0,5.0,8.0,5.0,3.0,1.0,2.0,6.0,32.0,8.0,11.0,5.0,11.0,5.0,4.0,6.0,3.0,4.0,6.0,7.0,13.0,3.0,16.0,30.0,16.0,7.0,3.0,2.0,3.0,22.0,8.0,2.0,15.0,12.0,1.0,2.0,22.0,12.0,22.0,5.0,17.0,2.0,9.0,12.0,11.0,2.0,6.0,1.0,4.0,2.0,2.0,8.0,10.0,7.0,32.0,2.0,5.0,21.0,18.0,6.0,6.0,1.0,13.0,12.0,13.0,3.0,4.0,7.0,2.0,2.0,5.0,3.0,1.0,1.0,19.0,19.0,5.0,1.0,6.0,8.0,2.0,3.0,1.0,3.0,9.0,2.0,4.0,8.0,16.0,17.0,5.0,1.0,5.0,17.0,14.0,2.0,8.0,11.0,2.0,26.0,28.0,10.0,6.0,21.0,20.0,7.0,3.0,11.0,5.0,5.0,6.0,4.0,5.0,12.0,7.0,16.0,6.0,2.0,2.0,4.0,1.0,3.0,6.0,11.0,5.0,13.0,1.0,19.0,12.0,3.0,15.0,20.0,18.0,2.0,22.0,12.0,12.0,2.0,16.0,11.0,17.0,13.0,33.0,29.0,7.0,8.0,9.0,15.0,23.0,21.0,2.0,43.0,32.0,3.0,4.0,1.0,6.0,22.0,7.0,1.0,22.0,9.0,23.0,25.0,25.0,4.0,6.0,24.0,6.0,1.0,9.0,14.0,13.0,12.0,14.0,8.0,6.0,11.0,17.0,8.0,13.0,7.0,9.0,17.0,17.0,6.0,2.0,15.0,40.0,6.0,126.0,15.0,13.0,2.0,2.0,1.0,26.0],\"xaxis\":\"x\",\"y\":[\"FORREST\",\"WOMAN\",\"FORREST\",\"WOMAN\",\"FORREST\",\"MRSGUMP\",\"FORRESTVO\",\"MRSGUMP\",\"FORRESTVO\",\"MRSGUMP\",\"MAN\",\"MRSGUMP\",\"MAN\",\"MRSGUMP\",\"MAN\",\"MRSGUMP\",\"FORREST\",\"MAN\",\"MRSGUMP\",\"FORREST\",\"MAN\",\"FORREST\",\"FORREST\",\"MRSGUMP\",\"MRSGUMP\",\"FORREST\",\"MRSGUMP\",\"FORRESTVO\",\"MRSGUMP\",\"ELVISPRESLEY\",\"FORREST\",\"MRSGUMP\",\"FORREST\",\"ELVISPRESLEY\",\"MRSGUMP\",\"ELVISPRESLEY\",\"MRSGUMP\",\"ELVISPRESLEY\",\"FORREST\",\"FORRESTVO\",\"FORREST\",\"FORRESTVO\",\"ELVISPRESLEY\",\"MRSGUMP\",\"FORREST\",\"FORREST\",\"MRSGUMP\",\"WOMAN\",\"FORREST\",\"WOMAN\",\"BOY\",\"FORREST\",\"BOY\",\"FORREST\",\"GIRL\",\"BOY\",\"FORREST\",\"FORREST\",\"FORRESTVO\",\"JENNY\",\"FORRESTVO\",\"FORREST\",\"JENNY\",\"FORRESTVO\",\"JENNY\",\"FORRESTVO\",\"JENNY\",\"FORRESTVO\",\"FORREST\",\"FORRESTVO\",\"JENNY\",\"FORRESTVO\",\"JENNY\",\"FORRESTVO\",\"FORRESTVO\",\"FORREST\",\"JENNY\",\"FORRESTVO\",\"FORREST\",\"FORREST\",\"BOY\",\"FORREST\",\"BOY\",\"FORREST\",\"JENNY\",\"BOY\",\"JENNY\",\"FORREST\",\"JENNY\",\"BOY\",\"JENNY\",\"FORREST\",\"JENNY\",\"BOY\",\"FORREST\",\"BOY\",\"MAN\",\"FORREST\",\"JENNY\",\"JENNYSDAD\",\"JENNY\",\"FORREST\",\"JENNY\",\"FORRESTVO\",\"FORRESTVO\",\"JENNY\",\"FORREST\",\"FORRESTVO\",\"JENNY\",\"FORREST\",\"OLDERBOYS\",\"FORREST\",\"OLDERBOYS\",\"JENNY\",\"OLDERBOYS\",\"FORREST\",\"OLDERBOYS\",\"FORREST\",\"OLDERBOYS\",\"FORREST\",\"JENNY\",\"FORREST\",\"FORREST\",\"OLDERBOYS\",\"MAN\",\"FORREST\",\"FORRESTVO\",\"FORREST\",\"CROWD\",\"MAN\",\"CROWD\",\"MAN\",\"FORREST\",\"JENNY\",\"FORREST\",\"MAN\",\"JENNY\",\"FORREST\",\"JENNY\",\"MAN\",\"JENNY\",\"FORREST\",\"JENNY\",\"FORREST\",\"JENNY\",\"FORREST\",\"JENNY\",\"JENNY\",\"JENNY\",\"FORREST\",\"JENNY\",\"FORREST\",\"JENNY\",\"FORREST\",\"JENNY\",\"FORREST\",\"JENNY\",\"FORREST\",\"JENNY\",\"FORREST\",\"GIRL\",\"FORREST\",\"GIRL\",\"CROWD\",\"FORRESTVO\",\"MEN\",\"FORRESTVO\",\"FORREST\",\"FORRESTVO\",\"FORREST\",\"PRESIDENTKENNEDY\",\"FORREST\",\"FORRESTVO\",\"FORREST\",\"MRSGUMP\",\"MAN\",\"MAN\",\"FORREST\",\"MAN\",\"FORREST\",\"MAN\",\"FORREST\",\"BUBBA\",\"BUBBA\",\"BUBBA\",\"MAN\",\"MAN\",\"BUBBA\",\"FORRESTVO\",\"FORREST\",\"FORRESTVO\",\"MAN\",\"FORREST\",\"CROWD\",\"FORREST\",\"JENNY\",\"FORREST\",\"JENNY\",\"MAN\",\"FORREST\",\"MAN\",\"CROWD\",\"JENNY\",\"JENNY\",\"FORREST\",\"FORREST\",\"JENNY\",\"FORREST\",\"JENNY\",\"FORREST\",\"JENNY\",\"FORREST\",\"JENNY\",\"FORREST\",\"JENNY\",\"FORREST\",\"JENNY\",\"FORREST\",\"BUBBA\",\"FORREST\",\"BUBBA\",\"FORREST\",\"DAN\",\"DAN\",\"DAN\",\"DAN\",\"FORRESTVO\",\"DAN\",\"FORREST\",\"FORREST\",\"FORRESTVO\",\"DAN\",\"FORRESTVO\",\"DAN\",\"FORREST\",\"FORREST\",\"MAN\",\"MAN\",\"DAN\",\"FORREST\",\"FORREST\",\"BUBBA\",\"BUBBA\",\"FORREST\",\"BUBBA\",\"FORREST\",\"FORRESTVO\",\"FORREST\",\"JENNY\",\"FORRESTVO\",\"JENNY\",\"FORREST\",\"FORREST\",\"FORREST\",\"FORREST\",\"DAN\",\"FORREST\",\"BUBBA\",\"DAN\",\"FORREST\",\"BUBBA\",\"DAN\",\"FORREST\",\"BUBBA\",\"FORREST\",\"BUBBA\",\"MAN\",\"DAN\",\"BUBBA\",\"FORREST\",\"DAN\",\"BUBBA\",\"FORREST\",\"DAN\",\"FORREST\",\"BUBBA\",\"FORREST\",\"MAN\",\"FORREST\",\"MAN\",\"FORREST\",\"MAN\",\"FORREST\",\"DAN\",\"FORREST\",\"DAN\",\"FORREST\",\"DAN\",\"FORREST\",\"DAN\",\"FORREST\",\"DAN\",\"FORREST\",\"DAN\",\"FORREST\",\"BUBBA\",\"FORREST\",\"BUBBA\",\"FORREST\",\"BUBBA\",\"FORREST\",\"BUBBA\",\"FORRESTVO\",\"FORREST\",\"FORREST\",\"BUBBA\",\"FORREST\",\"BUBBA\",\"FORREST\",\"FORRESTVO\",\"BUBBA\",\"FORREST\",\"MAN\",\"FORREST\",\"FORREST\",\"FORRESTVO\",\"DAN\",\"FORREST\",\"DAN\",\"FORREST\",\"DAN\",\"FORREST\",\"MAN\",\"MAN\",\"FORRESTVO\",\"FORRESTVO\",\"DAN\",\"MAN\",\"FORREST\",\"PRESIDENTJOHNSON\",\"FORREST\",\"MRSGUMP\",\"FORREST\",\"PRESIDENTJOHNSON\",\"MRSGUMP\",\"PRESIDENTJOHNSON\",\"WOMAN\",\"MAN\",\"ABBIEHOFFMAN\",\"CROWD\",\"FORREST\",\"CROWD\",\"FORREST\",\"ABBIEHOFFMAN\",\"CROWD\",\"MAN\",\"WOMAN\",\"CROWD\",\"JENNY\",\"FORREST\",\"JENNY\",\"FORREST\",\"JENNY\",\"CROWD\",\"FORREST\",\"CROWD\",\"CROWD\",\"JENNY\",\"FORREST\",\"JENNY\",\"FORRESTVO\",\"MAN\",\"JENNY\",\"MAN\",\"JENNY\",\"MAN\",\"JENNY\",\"MAN\",\"JENNY\",\"JENNY\",\"MAN\",\"FORREST\",\"JENNY\",\"FORREST\",\"MAN\",\"JENNY\",\"MAN\",\"JENNY\",\"MAN\",\"JENNY\",\"MAN\",\"FORREST\",\"JENNY\",\"FORREST\",\"FORREST\",\"JENNY\",\"FORREST\",\"JENNY\",\"FORREST\",\"JENNY\",\"FORREST\",\"JENNY\",\"FORREST\",\"JENNY\",\"FORREST\",\"JENNY\",\"FORREST\",\"FORREST\",\"JENNY\",\"JENNY\",\"JENNY\",\"MAN\",\"JENNY\",\"MAN\",\"FORRESTVO\",\"FORREST\",\"MAN\",\"FORREST\",\"MAN\",\"JENNY\",\"MAN\",\"JENNY\",\"FORREST\",\"JENNY\",\"MAN\",\"FORREST\",\"JENNY\",\"FORREST\",\"JENNY\",\"FORREST\",\"JENNY\",\"FORREST\",\"JENNY\",\"FORREST\",\"JENNY\",\"FORREST\",\"JENNY\",\"FORREST\",\"JENNY\",\"FORRESTVO\",\"FORREST\",\"FORRESTVO\",\"FORREST\",\"FORRESTVO\",\"FORREST\",\"MAN\",\"DICKCAVETT\",\"FORREST\",\"JOHNLENNON\",\"FORREST\",\"JOHNLENNON\",\"JOHNLENNON\",\"FORRESTVO\",\"DAN\",\"FORREST\",\"DAN\",\"FORREST\",\"DAN\",\"FORREST\",\"DAN\",\"FORREST\",\"MAN\",\"DAN\",\"MAN\",\"DAN\",\"FORREST\",\"DAN\",\"FORREST\",\"DAN\",\"DAN\",\"FORREST\",\"DAN\",\"FORREST\",\"DAN\",\"WOMAN\",\"DAN\",\"WOMAN\",\"FORREST\",\"WOMAN\",\"FORREST\",\"JENNY\",\"CROWD\",\"CROWD\",\"FORREST\",\"DAN\",\"FORREST\",\"FORREST\",\"PRESIDENTNIXON\",\"FORREST\",\"PRESIDENTNIXON\",\"PRESIDENTNIXON\",\"FORREST\",\"MRSGUMP\",\"FORREST\",\"MRSGUMP\",\"MRSGUMP\",\"WOMAN\",\"MRSGUMP\",\"WOMAN\",\"MRSGUMP\",\"MRSBLUE\",\"FORREST\",\"OLDMAN\",\"FORREST\",\"FORREST\",\"FORREST\",\"OLDMAN\",\"FORREST\",\"FORRESTVO\",\"CROWD\",\"JENNY\",\"FORREST\",\"FORRESTVO\",\"FORREST\",\"JENNY\",\"JENNY\",\"FORREST\",\"FORRESTVO\",\"FORREST\",\"DAN\",\"DAN\",\"FORREST\",\"DAN\",\"FORREST\",\"DAN\",\"FORREST\",\"DAN\",\"FORREST\",\"DAN\",\"FORREST\",\"DAN\",\"FORREST\",\"FORREST\",\"DAN\",\"FORREST\",\"DAN\",\"FORREST\",\"CROWD\",\"DAN\",\"CROWD\",\"FORREST\",\"DAN\",\"FORREST\",\"DAN\",\"FORREST\",\"FORREST\",\"DAN\",\"FORREST\",\"DAN\",\"FORREST\",\"MAN\",\"MRSGUMP\",\"FORRESTVO\",\"DAN\",\"FORREST\",\"MAN\",\"FORREST\",\"MAN\",\"FORREST\",\"OLDWOMAN\",\"FORREST\",\"OLDWOMAN\",\"DAN\",\"DAN\",\"FORRESTVO\",\"OLDWOMAN\",\"FORREST\",\"OLDWOMAN\",\"FORREST\",\"FORRESTVO\",\"FORREST\",\"CROWD\",\"CROWD\",\"MRSBLUE\",\"FORREST\",\"MRSBLUE\",\"FORRESTVO\",\"FORREST\",\"FORRESTVO\",\"FORREST\",\"FORRESTVO\",\"FORREST\",\"FORREST\",\"JENNY\",\"FORREST\",\"FORREST\",\"FORRESTVO\",\"FORRESTVO\",\"JENNY\",\"FORREST\",\"JENNY\",\"FORRESTVO\",\"JENNY\",\"FORRESTVO\",\"FORRESTVO\",\"JENNY\",\"FORREST\",\"JENNY\",\"FORREST\",\"JENNY\",\"FORREST\",\"FORRESTVO\",\"JENNY\",\"FORREST\",\"JENNY\",\"FORRESTVO\",\"FORREST\",\"JENNY\",\"FORREST\",\"JENNY\",\"JENNY\",\"FORREST\",\"FORREST\",\"JENNY\",\"FORREST\",\"JENNY\",\"FORREST\",\"JENNY\",\"FORREST\",\"JENNY\",\"FORREST\",\"JENNY\",\"FORREST\",\"JENNY\",\"JENNY\",\"FORREST\",\"JENNY\",\"JENNY\",\"FORREST\",\"FORREST\",\"FORREST\",\"FORRESTVO\",\"FORRESTVO\",\"OLDWOMAN\",\"FORRESTVO\",\"JENNY\",\"MAN\",\"FORREST\",\"MAN\",\"FORREST\",\"MAN\",\"MAN\",\"MAN\",\"FORREST\",\"MAN\",\"FORRESTVO\",\"MAN\",\"FORREST\",\"MAN\",\"FORREST\",\"OLDWOMAN\",\"FORREST\",\"OLDWOMAN\",\"FORREST\",\"OLDWOMAN\",\"JENNY\",\"FORREST\",\"JENNY\",\"FORREST\",\"JENNY\",\"FORREST\",\"JENNY\",\"FORREST\",\"JENNY\",\"WOMAN\",\"JENNY\",\"FORREST\",\"FORREST\",\"JENNY\",\"FORREST\",\"JENNY\",\"FORREST\",\"JENNY\",\"FORREST\",\"JENNY\",\"JENNY\",\"JENNY\",\"FORREST\",\"JENNY\",\"FORREST\",\"JENNY\",\"FORREST\",\"JENNY\",\"FORREST\",\"JENNY\",\"FORREST\",\"JENNY\",\"DAN\",\"JENNY\",\"FORREST\",\"DAN\",\"JENNY\",\"DAN\",\"FORREST\",\"WOMAN\",\"JENNY\",\"FORREST\",\"JENNY\",\"FORREST\",\"JENNY\",\"FORREST\",\"JENNY\",\"FORREST\",\"FORRESTVO\",\"FORREST\",\"FORRESTVO\",\"FORREST\",\"JENNY\",\"FORREST\",\"JENNY\",\"FORREST\",\"FORRESTVO\",\"FORREST\",\"FORREST\",\"FORREST\",\"FORREST\",\"FORREST\",\"FORREST\",\"FORRESTJR\",\"FORREST\",\"WOMAN\",\"FORREST\"],\"yaxis\":\"y\",\"type\":\"bar\"}],                        {\"template\":{\"data\":{\"histogram2dcontour\":[{\"type\":\"histogram2dcontour\",\"colorbar\":{\"outlinewidth\":0,\"ticks\":\"\"},\"colorscale\":[[0.0,\"#0d0887\"],[0.1111111111111111,\"#46039f\"],[0.2222222222222222,\"#7201a8\"],[0.3333333333333333,\"#9c179e\"],[0.4444444444444444,\"#bd3786\"],[0.5555555555555556,\"#d8576b\"],[0.6666666666666666,\"#ed7953\"],[0.7777777777777778,\"#fb9f3a\"],[0.8888888888888888,\"#fdca26\"],[1.0,\"#f0f921\"]]}],\"choropleth\":[{\"type\":\"choropleth\",\"colorbar\":{\"outlinewidth\":0,\"ticks\":\"\"}}],\"histogram2d\":[{\"type\":\"histogram2d\",\"colorbar\":{\"outlinewidth\":0,\"ticks\":\"\"},\"colorscale\":[[0.0,\"#0d0887\"],[0.1111111111111111,\"#46039f\"],[0.2222222222222222,\"#7201a8\"],[0.3333333333333333,\"#9c179e\"],[0.4444444444444444,\"#bd3786\"],[0.5555555555555556,\"#d8576b\"],[0.6666666666666666,\"#ed7953\"],[0.7777777777777778,\"#fb9f3a\"],[0.8888888888888888,\"#fdca26\"],[1.0,\"#f0f921\"]]}],\"heatmap\":[{\"type\":\"heatmap\",\"colorbar\":{\"outlinewidth\":0,\"ticks\":\"\"},\"colorscale\":[[0.0,\"#0d0887\"],[0.1111111111111111,\"#46039f\"],[0.2222222222222222,\"#7201a8\"],[0.3333333333333333,\"#9c179e\"],[0.4444444444444444,\"#bd3786\"],[0.5555555555555556,\"#d8576b\"],[0.6666666666666666,\"#ed7953\"],[0.7777777777777778,\"#fb9f3a\"],[0.8888888888888888,\"#fdca26\"],[1.0,\"#f0f921\"]]}],\"heatmapgl\":[{\"type\":\"heatmapgl\",\"colorbar\":{\"outlinewidth\":0,\"ticks\":\"\"},\"colorscale\":[[0.0,\"#0d0887\"],[0.1111111111111111,\"#46039f\"],[0.2222222222222222,\"#7201a8\"],[0.3333333333333333,\"#9c179e\"],[0.4444444444444444,\"#bd3786\"],[0.5555555555555556,\"#d8576b\"],[0.6666666666666666,\"#ed7953\"],[0.7777777777777778,\"#fb9f3a\"],[0.8888888888888888,\"#fdca26\"],[1.0,\"#f0f921\"]]}],\"contourcarpet\":[{\"type\":\"contourcarpet\",\"colorbar\":{\"outlinewidth\":0,\"ticks\":\"\"}}],\"contour\":[{\"type\":\"contour\",\"colorbar\":{\"outlinewidth\":0,\"ticks\":\"\"},\"colorscale\":[[0.0,\"#0d0887\"],[0.1111111111111111,\"#46039f\"],[0.2222222222222222,\"#7201a8\"],[0.3333333333333333,\"#9c179e\"],[0.4444444444444444,\"#bd3786\"],[0.5555555555555556,\"#d8576b\"],[0.6666666666666666,\"#ed7953\"],[0.7777777777777778,\"#fb9f3a\"],[0.8888888888888888,\"#fdca26\"],[1.0,\"#f0f921\"]]}],\"surface\":[{\"type\":\"surface\",\"colorbar\":{\"outlinewidth\":0,\"ticks\":\"\"},\"colorscale\":[[0.0,\"#0d0887\"],[0.1111111111111111,\"#46039f\"],[0.2222222222222222,\"#7201a8\"],[0.3333333333333333,\"#9c179e\"],[0.4444444444444444,\"#bd3786\"],[0.5555555555555556,\"#d8576b\"],[0.6666666666666666,\"#ed7953\"],[0.7777777777777778,\"#fb9f3a\"],[0.8888888888888888,\"#fdca26\"],[1.0,\"#f0f921\"]]}],\"mesh3d\":[{\"type\":\"mesh3d\",\"colorbar\":{\"outlinewidth\":0,\"ticks\":\"\"}}],\"scatter\":[{\"fillpattern\":{\"fillmode\":\"overlay\",\"size\":10,\"solidity\":0.2},\"type\":\"scatter\"}],\"parcoords\":[{\"type\":\"parcoords\",\"line\":{\"colorbar\":{\"outlinewidth\":0,\"ticks\":\"\"}}}],\"scatterpolargl\":[{\"type\":\"scatterpolargl\",\"marker\":{\"colorbar\":{\"outlinewidth\":0,\"ticks\":\"\"}}}],\"bar\":[{\"error_x\":{\"color\":\"#2a3f5f\"},\"error_y\":{\"color\":\"#2a3f5f\"},\"marker\":{\"line\":{\"color\":\"#E5ECF6\",\"width\":0.5},\"pattern\":{\"fillmode\":\"overlay\",\"size\":10,\"solidity\":0.2}},\"type\":\"bar\"}],\"scattergeo\":[{\"type\":\"scattergeo\",\"marker\":{\"colorbar\":{\"outlinewidth\":0,\"ticks\":\"\"}}}],\"scatterpolar\":[{\"type\":\"scatterpolar\",\"marker\":{\"colorbar\":{\"outlinewidth\":0,\"ticks\":\"\"}}}],\"histogram\":[{\"marker\":{\"pattern\":{\"fillmode\":\"overlay\",\"size\":10,\"solidity\":0.2}},\"type\":\"histogram\"}],\"scattergl\":[{\"type\":\"scattergl\",\"marker\":{\"colorbar\":{\"outlinewidth\":0,\"ticks\":\"\"}}}],\"scatter3d\":[{\"type\":\"scatter3d\",\"line\":{\"colorbar\":{\"outlinewidth\":0,\"ticks\":\"\"}},\"marker\":{\"colorbar\":{\"outlinewidth\":0,\"ticks\":\"\"}}}],\"scattermapbox\":[{\"type\":\"scattermapbox\",\"marker\":{\"colorbar\":{\"outlinewidth\":0,\"ticks\":\"\"}}}],\"scatterternary\":[{\"type\":\"scatterternary\",\"marker\":{\"colorbar\":{\"outlinewidth\":0,\"ticks\":\"\"}}}],\"scattercarpet\":[{\"type\":\"scattercarpet\",\"marker\":{\"colorbar\":{\"outlinewidth\":0,\"ticks\":\"\"}}}],\"carpet\":[{\"aaxis\":{\"endlinecolor\":\"#2a3f5f\",\"gridcolor\":\"white\",\"linecolor\":\"white\",\"minorgridcolor\":\"white\",\"startlinecolor\":\"#2a3f5f\"},\"baxis\":{\"endlinecolor\":\"#2a3f5f\",\"gridcolor\":\"white\",\"linecolor\":\"white\",\"minorgridcolor\":\"white\",\"startlinecolor\":\"#2a3f5f\"},\"type\":\"carpet\"}],\"table\":[{\"cells\":{\"fill\":{\"color\":\"#EBF0F8\"},\"line\":{\"color\":\"white\"}},\"header\":{\"fill\":{\"color\":\"#C8D4E3\"},\"line\":{\"color\":\"white\"}},\"type\":\"table\"}],\"barpolar\":[{\"marker\":{\"line\":{\"color\":\"#E5ECF6\",\"width\":0.5},\"pattern\":{\"fillmode\":\"overlay\",\"size\":10,\"solidity\":0.2}},\"type\":\"barpolar\"}],\"pie\":[{\"automargin\":true,\"type\":\"pie\"}]},\"layout\":{\"autotypenumbers\":\"strict\",\"colorway\":[\"#636efa\",\"#EF553B\",\"#00cc96\",\"#ab63fa\",\"#FFA15A\",\"#19d3f3\",\"#FF6692\",\"#B6E880\",\"#FF97FF\",\"#FECB52\"],\"font\":{\"color\":\"#2a3f5f\"},\"hovermode\":\"closest\",\"hoverlabel\":{\"align\":\"left\"},\"paper_bgcolor\":\"white\",\"plot_bgcolor\":\"#E5ECF6\",\"polar\":{\"bgcolor\":\"#E5ECF6\",\"angularaxis\":{\"gridcolor\":\"white\",\"linecolor\":\"white\",\"ticks\":\"\"},\"radialaxis\":{\"gridcolor\":\"white\",\"linecolor\":\"white\",\"ticks\":\"\"}},\"ternary\":{\"bgcolor\":\"#E5ECF6\",\"aaxis\":{\"gridcolor\":\"white\",\"linecolor\":\"white\",\"ticks\":\"\"},\"baxis\":{\"gridcolor\":\"white\",\"linecolor\":\"white\",\"ticks\":\"\"},\"caxis\":{\"gridcolor\":\"white\",\"linecolor\":\"white\",\"ticks\":\"\"}},\"coloraxis\":{\"colorbar\":{\"outlinewidth\":0,\"ticks\":\"\"}},\"colorscale\":{\"sequential\":[[0.0,\"#0d0887\"],[0.1111111111111111,\"#46039f\"],[0.2222222222222222,\"#7201a8\"],[0.3333333333333333,\"#9c179e\"],[0.4444444444444444,\"#bd3786\"],[0.5555555555555556,\"#d8576b\"],[0.6666666666666666,\"#ed7953\"],[0.7777777777777778,\"#fb9f3a\"],[0.8888888888888888,\"#fdca26\"],[1.0,\"#f0f921\"]],\"sequentialminus\":[[0.0,\"#0d0887\"],[0.1111111111111111,\"#46039f\"],[0.2222222222222222,\"#7201a8\"],[0.3333333333333333,\"#9c179e\"],[0.4444444444444444,\"#bd3786\"],[0.5555555555555556,\"#d8576b\"],[0.6666666666666666,\"#ed7953\"],[0.7777777777777778,\"#fb9f3a\"],[0.8888888888888888,\"#fdca26\"],[1.0,\"#f0f921\"]],\"diverging\":[[0,\"#8e0152\"],[0.1,\"#c51b7d\"],[0.2,\"#de77ae\"],[0.3,\"#f1b6da\"],[0.4,\"#fde0ef\"],[0.5,\"#f7f7f7\"],[0.6,\"#e6f5d0\"],[0.7,\"#b8e186\"],[0.8,\"#7fbc41\"],[0.9,\"#4d9221\"],[1,\"#276419\"]]},\"xaxis\":{\"gridcolor\":\"white\",\"linecolor\":\"white\",\"ticks\":\"\",\"title\":{\"standoff\":15},\"zerolinecolor\":\"white\",\"automargin\":true,\"zerolinewidth\":2},\"yaxis\":{\"gridcolor\":\"white\",\"linecolor\":\"white\",\"ticks\":\"\",\"title\":{\"standoff\":15},\"zerolinecolor\":\"white\",\"automargin\":true,\"zerolinewidth\":2},\"scene\":{\"xaxis\":{\"backgroundcolor\":\"#E5ECF6\",\"gridcolor\":\"white\",\"linecolor\":\"white\",\"showbackground\":true,\"ticks\":\"\",\"zerolinecolor\":\"white\",\"gridwidth\":2},\"yaxis\":{\"backgroundcolor\":\"#E5ECF6\",\"gridcolor\":\"white\",\"linecolor\":\"white\",\"showbackground\":true,\"ticks\":\"\",\"zerolinecolor\":\"white\",\"gridwidth\":2},\"zaxis\":{\"backgroundcolor\":\"#E5ECF6\",\"gridcolor\":\"white\",\"linecolor\":\"white\",\"showbackground\":true,\"ticks\":\"\",\"zerolinecolor\":\"white\",\"gridwidth\":2}},\"shapedefaults\":{\"line\":{\"color\":\"#2a3f5f\"}},\"annotationdefaults\":{\"arrowcolor\":\"#2a3f5f\",\"arrowhead\":0,\"arrowwidth\":1},\"geo\":{\"bgcolor\":\"white\",\"landcolor\":\"#E5ECF6\",\"subunitcolor\":\"white\",\"showland\":true,\"showlakes\":true,\"lakecolor\":\"white\"},\"title\":{\"x\":0.05},\"mapbox\":{\"style\":\"light\"}}},\"xaxis\":{\"anchor\":\"y\",\"domain\":[0.0,1.0],\"type\":\"linear\"},\"yaxis\":{\"anchor\":\"x\",\"domain\":[0.0,1.0],\"title\":{\"text\":\"character\"},\"autorange\":\"reversed\"},\"legend\":{\"tracegroupgap\":0},\"margin\":{\"t\":60},\"barmode\":\"overlay\"},                        {\"responsive\": true}                    ).then(function(){\n",
       "                            \n",
       "var gd = document.getElementById('c9373aa4-da8b-4bd4-9091-1980d23716c2');\n",
       "var x = new MutationObserver(function (mutations, observer) {{\n",
       "        var display = window.getComputedStyle(gd).display;\n",
       "        if (!display || display === 'none') {{\n",
       "            console.log([gd, 'removed!']);\n",
       "            Plotly.purge(gd);\n",
       "            observer.disconnect();\n",
       "        }}\n",
       "}});\n",
       "\n",
       "// Listen for the removal of the full notebook cells\n",
       "var notebookContainer = gd.closest('#notebook-container');\n",
       "if (notebookContainer) {{\n",
       "    x.observe(notebookContainer, {childList: true});\n",
       "}}\n",
       "\n",
       "// Listen for the clearing of the current output cell\n",
       "var outputEl = gd.closest('.output');\n",
       "if (outputEl) {{\n",
       "    x.observe(outputEl, {childList: true});\n",
       "}}\n",
       "\n",
       "                        })                };                });            </script>        </div>"
      ]
     },
     "metadata": {},
     "output_type": "display_data"
    }
   ],
   "source": [
    "df['end'] = df['onset'] + df['duration']\n",
    "\n",
    "fig = px.timeline(df, x_start=\"onset\", x_end=\"end\", y=\"character\")\n",
    "fig.update_yaxes(autorange=\"reversed\")\n",
    "fig.layout.xaxis.type = 'linear'\n",
    "fig.data[0].x = df.duration.tolist()\n",
    "\n",
    "fig.show()"
   ]
  },
  {
   "cell_type": "code",
   "execution_count": 74,
   "id": "340bd3f9",
   "metadata": {},
   "outputs": [
    {
     "data": {
      "application/vnd.plotly.v1+json": {
       "config": {
        "plotlyServerURL": "https://plot.ly"
       },
       "data": [
        {
         "alignmentgroup": "True",
         "bingroup": "x",
         "hovertemplate": "character=FORREST<br>duration=%{x}<br>count=%{y}<extra></extra>",
         "legendgroup": "FORREST",
         "marker": {
          "color": "#636efa",
          "pattern": {
           "shape": ""
          }
         },
         "name": "FORREST",
         "offsetgroup": "FORREST",
         "orientation": "v",
         "showlegend": true,
         "type": "histogram",
         "x": [
          48,
          15,
          13,
          7,
          7,
          3,
          1,
          6,
          4,
          7,
          3,
          5,
          2,
          9,
          7,
          2,
          12,
          5,
          5,
          14,
          10,
          1,
          7,
          4,
          1,
          7,
          18,
          24,
          57,
          5,
          30,
          8,
          8,
          15,
          1,
          15,
          7,
          7,
          35,
          3,
          1,
          27,
          5,
          18,
          5,
          4,
          8,
          14,
          6,
          44,
          10,
          4,
          7,
          3,
          8,
          21,
          6,
          5,
          7,
          2,
          18,
          11,
          5,
          26,
          7,
          22,
          5,
          1,
          14,
          34,
          9,
          1,
          10,
          5,
          5,
          2,
          4,
          7,
          3,
          3,
          16,
          7,
          1,
          6,
          11,
          3,
          3,
          2,
          5,
          10,
          6,
          5,
          31,
          7,
          6,
          11,
          55,
          23,
          19,
          13,
          24,
          3,
          9,
          24,
          30,
          19,
          9,
          36,
          18,
          4,
          7,
          9,
          18,
          10,
          1,
          10,
          9,
          11,
          17,
          26,
          1,
          4,
          10,
          38,
          20,
          3,
          11
         ],
         "xaxis": "x",
         "yaxis": "y"
        },
        {
         "alignmentgroup": "True",
         "bingroup": "x",
         "hovertemplate": "character=WOMAN<br>duration=%{x}<br>count=%{y}<extra></extra>",
         "legendgroup": "WOMAN",
         "marker": {
          "color": "#EF553B",
          "pattern": {
           "shape": ""
          }
         },
         "name": "WOMAN",
         "offsetgroup": "WOMAN",
         "orientation": "v",
         "showlegend": true,
         "type": "histogram",
         "x": [
          4,
          7,
          8,
          4,
          13,
          10
         ],
         "xaxis": "x",
         "yaxis": "y"
        },
        {
         "alignmentgroup": "True",
         "bingroup": "x",
         "hovertemplate": "character=MRSGUMP<br>duration=%{x}<br>count=%{y}<extra></extra>",
         "legendgroup": "MRSGUMP",
         "marker": {
          "color": "#00cc96",
          "pattern": {
           "shape": ""
          }
         },
         "name": "MRSGUMP",
         "offsetgroup": "MRSGUMP",
         "orientation": "v",
         "showlegend": true,
         "type": "histogram",
         "x": [
          4,
          26,
          12,
          6,
          21,
          4,
          4,
          9,
          9,
          3,
          2,
          6,
          6,
          1,
          10,
          7,
          7,
          2,
          1
         ],
         "xaxis": "x",
         "yaxis": "y"
        },
        {
         "alignmentgroup": "True",
         "bingroup": "x",
         "hovertemplate": "character=FORRESTVO<br>duration=%{x}<br>count=%{y}<extra></extra>",
         "legendgroup": "FORRESTVO",
         "marker": {
          "color": "#ab63fa",
          "pattern": {
           "shape": ""
          }
         },
         "name": "FORRESTVO",
         "offsetgroup": "FORRESTVO",
         "orientation": "v",
         "showlegend": true,
         "type": "histogram",
         "x": [
          25,
          2,
          7,
          1,
          14,
          2,
          10,
          13,
          3,
          1,
          8,
          8,
          1,
          5,
          3,
          13,
          3,
          2,
          3,
          4,
          13,
          7,
          5,
          10,
          1,
          10,
          8,
          1,
          13,
          8,
          3,
          15,
          9,
          7,
          10
         ],
         "xaxis": "x",
         "yaxis": "y"
        },
        {
         "alignmentgroup": "True",
         "bingroup": "x",
         "hovertemplate": "character=MAN<br>duration=%{x}<br>count=%{y}<extra></extra>",
         "legendgroup": "MAN",
         "marker": {
          "color": "#FFA15A",
          "pattern": {
           "shape": ""
          }
         },
         "name": "MAN",
         "offsetgroup": "MAN",
         "orientation": "v",
         "showlegend": true,
         "type": "histogram",
         "x": [
          13,
          11,
          3,
          11,
          12,
          2,
          9,
          27,
          7,
          4,
          5,
          2,
          7,
          2,
          1,
          12,
          16,
          1,
          2,
          5,
          2,
          8,
          9,
          1,
          24,
          3,
          6,
          5,
          1,
          2,
          6,
          15
         ],
         "xaxis": "x",
         "yaxis": "y"
        },
        {
         "alignmentgroup": "True",
         "bingroup": "x",
         "hovertemplate": "character=ELVISPRESLEY<br>duration=%{x}<br>count=%{y}<extra></extra>",
         "legendgroup": "ELVISPRESLEY",
         "marker": {
          "color": "#19d3f3",
          "pattern": {
           "shape": ""
          }
         },
         "name": "ELVISPRESLEY",
         "offsetgroup": "ELVISPRESLEY",
         "orientation": "v",
         "showlegend": true,
         "type": "histogram",
         "x": [
          4,
          2,
          1,
          15,
          25
         ],
         "xaxis": "x",
         "yaxis": "y"
        },
        {
         "alignmentgroup": "True",
         "bingroup": "x",
         "hovertemplate": "character=BOY<br>duration=%{x}<br>count=%{y}<extra></extra>",
         "legendgroup": "BOY",
         "marker": {
          "color": "#FF6692",
          "pattern": {
           "shape": ""
          }
         },
         "name": "BOY",
         "offsetgroup": "BOY",
         "orientation": "v",
         "showlegend": true,
         "type": "histogram",
         "x": [
          4,
          1,
          2,
          1,
          5,
          7,
          33,
          1,
          8
         ],
         "xaxis": "x",
         "yaxis": "y"
        },
        {
         "alignmentgroup": "True",
         "bingroup": "x",
         "hovertemplate": "character=GIRL<br>duration=%{x}<br>count=%{y}<extra></extra>",
         "legendgroup": "GIRL",
         "marker": {
          "color": "#B6E880",
          "pattern": {
           "shape": ""
          }
         },
         "name": "GIRL",
         "offsetgroup": "GIRL",
         "orientation": "v",
         "showlegend": true,
         "type": "histogram",
         "x": [
          3,
          2,
          3
         ],
         "xaxis": "x",
         "yaxis": "y"
        },
        {
         "alignmentgroup": "True",
         "bingroup": "x",
         "hovertemplate": "character=JENNY<br>duration=%{x}<br>count=%{y}<extra></extra>",
         "legendgroup": "JENNY",
         "marker": {
          "color": "#FF97FF",
          "pattern": {
           "shape": ""
          }
         },
         "name": "JENNY",
         "offsetgroup": "JENNY",
         "orientation": "v",
         "showlegend": true,
         "type": "histogram",
         "x": [
          7,
          7,
          5,
          5,
          5,
          1,
          13,
          1,
          2,
          4,
          29,
          2,
          4,
          33,
          3,
          9,
          14,
          1,
          3,
          13,
          1,
          7,
          11,
          8,
          7,
          3,
          3,
          41,
          12,
          32,
          22,
          4,
          14,
          12,
          18,
          12,
          16,
          6,
          40,
          10,
          6,
          26,
          2,
          5,
          4,
          18,
          10,
          11
         ],
         "xaxis": "x",
         "yaxis": "y"
        },
        {
         "alignmentgroup": "True",
         "bingroup": "x",
         "hovertemplate": "character=JENNYSDAD<br>duration=%{x}<br>count=%{y}<extra></extra>",
         "legendgroup": "JENNYSDAD",
         "marker": {
          "color": "#FECB52",
          "pattern": {
           "shape": ""
          }
         },
         "name": "JENNYSDAD",
         "offsetgroup": "JENNYSDAD",
         "orientation": "v",
         "showlegend": true,
         "type": "histogram",
         "x": [
          44
         ],
         "xaxis": "x",
         "yaxis": "y"
        },
        {
         "alignmentgroup": "True",
         "bingroup": "x",
         "hovertemplate": "character=OLDERBOYS<br>duration=%{x}<br>count=%{y}<extra></extra>",
         "legendgroup": "OLDERBOYS",
         "marker": {
          "color": "#636efa",
          "pattern": {
           "shape": ""
          }
         },
         "name": "OLDERBOYS",
         "offsetgroup": "OLDERBOYS",
         "orientation": "v",
         "showlegend": true,
         "type": "histogram",
         "x": [
          11,
          5,
          7,
          2,
          21,
          9
         ],
         "xaxis": "x",
         "yaxis": "y"
        },
        {
         "alignmentgroup": "True",
         "bingroup": "x",
         "hovertemplate": "character=CROWD<br>duration=%{x}<br>count=%{y}<extra></extra>",
         "legendgroup": "CROWD",
         "marker": {
          "color": "#EF553B",
          "pattern": {
           "shape": ""
          }
         },
         "name": "CROWD",
         "offsetgroup": "CROWD",
         "orientation": "v",
         "showlegend": true,
         "type": "histogram",
         "x": [
          44,
          7,
          20,
          9,
          8,
          23,
          12,
          17,
          13,
          1,
          7
         ],
         "xaxis": "x",
         "yaxis": "y"
        },
        {
         "alignmentgroup": "True",
         "bingroup": "x",
         "hovertemplate": "character=MEN<br>duration=%{x}<br>count=%{y}<extra></extra>",
         "legendgroup": "MEN",
         "marker": {
          "color": "#00cc96",
          "pattern": {
           "shape": ""
          }
         },
         "name": "MEN",
         "offsetgroup": "MEN",
         "orientation": "v",
         "showlegend": true,
         "type": "histogram",
         "x": [
          2
         ],
         "xaxis": "x",
         "yaxis": "y"
        },
        {
         "alignmentgroup": "True",
         "bingroup": "x",
         "hovertemplate": "character=PRESIDENTKENNEDY<br>duration=%{x}<br>count=%{y}<extra></extra>",
         "legendgroup": "PRESIDENTKENNEDY",
         "marker": {
          "color": "#ab63fa",
          "pattern": {
           "shape": ""
          }
         },
         "name": "PRESIDENTKENNEDY",
         "offsetgroup": "PRESIDENTKENNEDY",
         "orientation": "v",
         "showlegend": true,
         "type": "histogram",
         "x": [
          2
         ],
         "xaxis": "x",
         "yaxis": "y"
        },
        {
         "alignmentgroup": "True",
         "bingroup": "x",
         "hovertemplate": "character=BUBBA<br>duration=%{x}<br>count=%{y}<extra></extra>",
         "legendgroup": "BUBBA",
         "marker": {
          "color": "#FFA15A",
          "pattern": {
           "shape": ""
          }
         },
         "name": "BUBBA",
         "offsetgroup": "BUBBA",
         "orientation": "v",
         "showlegend": true,
         "type": "histogram",
         "x": [
          10,
          9,
          2,
          4,
          5,
          11,
          17,
          13,
          28,
          1,
          2,
          2,
          2,
          8,
          1,
          6,
          16,
          20,
          39,
          9,
          13,
          8,
          1
         ],
         "xaxis": "x",
         "yaxis": "y"
        },
        {
         "alignmentgroup": "True",
         "bingroup": "x",
         "hovertemplate": "character=DAN<br>duration=%{x}<br>count=%{y}<extra></extra>",
         "legendgroup": "DAN",
         "marker": {
          "color": "#19d3f3",
          "pattern": {
           "shape": ""
          }
         },
         "name": "DAN",
         "offsetgroup": "DAN",
         "orientation": "v",
         "showlegend": true,
         "type": "histogram",
         "x": [
          9,
          2,
          8,
          19,
          7,
          5,
          10,
          1,
          13,
          5,
          29,
          10,
          7,
          5,
          9,
          24,
          7,
          9,
          28,
          1,
          8,
          9,
          23,
          1
         ],
         "xaxis": "x",
         "yaxis": "y"
        },
        {
         "alignmentgroup": "True",
         "bingroup": "x",
         "hovertemplate": "character=PRESIDENTJOHNSON<br>duration=%{x}<br>count=%{y}<extra></extra>",
         "legendgroup": "PRESIDENTJOHNSON",
         "marker": {
          "color": "#FF6692",
          "pattern": {
           "shape": ""
          }
         },
         "name": "PRESIDENTJOHNSON",
         "offsetgroup": "PRESIDENTJOHNSON",
         "orientation": "v",
         "showlegend": true,
         "type": "histogram",
         "x": [
          2,
          1,
          4
         ],
         "xaxis": "x",
         "yaxis": "y"
        },
        {
         "alignmentgroup": "True",
         "bingroup": "x",
         "hovertemplate": "character=ABBIEHOFFMAN<br>duration=%{x}<br>count=%{y}<extra></extra>",
         "legendgroup": "ABBIEHOFFMAN",
         "marker": {
          "color": "#B6E880",
          "pattern": {
           "shape": ""
          }
         },
         "name": "ABBIEHOFFMAN",
         "offsetgroup": "ABBIEHOFFMAN",
         "orientation": "v",
         "showlegend": true,
         "type": "histogram",
         "x": [
          21,
          2
         ],
         "xaxis": "x",
         "yaxis": "y"
        }
       ],
       "layout": {
        "barmode": "relative",
        "legend": {
         "title": {
          "text": "character"
         },
         "tracegroupgap": 0
        },
        "margin": {
         "t": 60
        },
        "template": {
         "data": {
          "bar": [
           {
            "error_x": {
             "color": "#2a3f5f"
            },
            "error_y": {
             "color": "#2a3f5f"
            },
            "marker": {
             "line": {
              "color": "#E5ECF6",
              "width": 0.5
             },
             "pattern": {
              "fillmode": "overlay",
              "size": 10,
              "solidity": 0.2
             }
            },
            "type": "bar"
           }
          ],
          "barpolar": [
           {
            "marker": {
             "line": {
              "color": "#E5ECF6",
              "width": 0.5
             },
             "pattern": {
              "fillmode": "overlay",
              "size": 10,
              "solidity": 0.2
             }
            },
            "type": "barpolar"
           }
          ],
          "carpet": [
           {
            "aaxis": {
             "endlinecolor": "#2a3f5f",
             "gridcolor": "white",
             "linecolor": "white",
             "minorgridcolor": "white",
             "startlinecolor": "#2a3f5f"
            },
            "baxis": {
             "endlinecolor": "#2a3f5f",
             "gridcolor": "white",
             "linecolor": "white",
             "minorgridcolor": "white",
             "startlinecolor": "#2a3f5f"
            },
            "type": "carpet"
           }
          ],
          "choropleth": [
           {
            "colorbar": {
             "outlinewidth": 0,
             "ticks": ""
            },
            "type": "choropleth"
           }
          ],
          "contour": [
           {
            "colorbar": {
             "outlinewidth": 0,
             "ticks": ""
            },
            "colorscale": [
             [
              0,
              "#0d0887"
             ],
             [
              0.1111111111111111,
              "#46039f"
             ],
             [
              0.2222222222222222,
              "#7201a8"
             ],
             [
              0.3333333333333333,
              "#9c179e"
             ],
             [
              0.4444444444444444,
              "#bd3786"
             ],
             [
              0.5555555555555556,
              "#d8576b"
             ],
             [
              0.6666666666666666,
              "#ed7953"
             ],
             [
              0.7777777777777778,
              "#fb9f3a"
             ],
             [
              0.8888888888888888,
              "#fdca26"
             ],
             [
              1,
              "#f0f921"
             ]
            ],
            "type": "contour"
           }
          ],
          "contourcarpet": [
           {
            "colorbar": {
             "outlinewidth": 0,
             "ticks": ""
            },
            "type": "contourcarpet"
           }
          ],
          "heatmap": [
           {
            "colorbar": {
             "outlinewidth": 0,
             "ticks": ""
            },
            "colorscale": [
             [
              0,
              "#0d0887"
             ],
             [
              0.1111111111111111,
              "#46039f"
             ],
             [
              0.2222222222222222,
              "#7201a8"
             ],
             [
              0.3333333333333333,
              "#9c179e"
             ],
             [
              0.4444444444444444,
              "#bd3786"
             ],
             [
              0.5555555555555556,
              "#d8576b"
             ],
             [
              0.6666666666666666,
              "#ed7953"
             ],
             [
              0.7777777777777778,
              "#fb9f3a"
             ],
             [
              0.8888888888888888,
              "#fdca26"
             ],
             [
              1,
              "#f0f921"
             ]
            ],
            "type": "heatmap"
           }
          ],
          "heatmapgl": [
           {
            "colorbar": {
             "outlinewidth": 0,
             "ticks": ""
            },
            "colorscale": [
             [
              0,
              "#0d0887"
             ],
             [
              0.1111111111111111,
              "#46039f"
             ],
             [
              0.2222222222222222,
              "#7201a8"
             ],
             [
              0.3333333333333333,
              "#9c179e"
             ],
             [
              0.4444444444444444,
              "#bd3786"
             ],
             [
              0.5555555555555556,
              "#d8576b"
             ],
             [
              0.6666666666666666,
              "#ed7953"
             ],
             [
              0.7777777777777778,
              "#fb9f3a"
             ],
             [
              0.8888888888888888,
              "#fdca26"
             ],
             [
              1,
              "#f0f921"
             ]
            ],
            "type": "heatmapgl"
           }
          ],
          "histogram": [
           {
            "marker": {
             "pattern": {
              "fillmode": "overlay",
              "size": 10,
              "solidity": 0.2
             }
            },
            "type": "histogram"
           }
          ],
          "histogram2d": [
           {
            "colorbar": {
             "outlinewidth": 0,
             "ticks": ""
            },
            "colorscale": [
             [
              0,
              "#0d0887"
             ],
             [
              0.1111111111111111,
              "#46039f"
             ],
             [
              0.2222222222222222,
              "#7201a8"
             ],
             [
              0.3333333333333333,
              "#9c179e"
             ],
             [
              0.4444444444444444,
              "#bd3786"
             ],
             [
              0.5555555555555556,
              "#d8576b"
             ],
             [
              0.6666666666666666,
              "#ed7953"
             ],
             [
              0.7777777777777778,
              "#fb9f3a"
             ],
             [
              0.8888888888888888,
              "#fdca26"
             ],
             [
              1,
              "#f0f921"
             ]
            ],
            "type": "histogram2d"
           }
          ],
          "histogram2dcontour": [
           {
            "colorbar": {
             "outlinewidth": 0,
             "ticks": ""
            },
            "colorscale": [
             [
              0,
              "#0d0887"
             ],
             [
              0.1111111111111111,
              "#46039f"
             ],
             [
              0.2222222222222222,
              "#7201a8"
             ],
             [
              0.3333333333333333,
              "#9c179e"
             ],
             [
              0.4444444444444444,
              "#bd3786"
             ],
             [
              0.5555555555555556,
              "#d8576b"
             ],
             [
              0.6666666666666666,
              "#ed7953"
             ],
             [
              0.7777777777777778,
              "#fb9f3a"
             ],
             [
              0.8888888888888888,
              "#fdca26"
             ],
             [
              1,
              "#f0f921"
             ]
            ],
            "type": "histogram2dcontour"
           }
          ],
          "mesh3d": [
           {
            "colorbar": {
             "outlinewidth": 0,
             "ticks": ""
            },
            "type": "mesh3d"
           }
          ],
          "parcoords": [
           {
            "line": {
             "colorbar": {
              "outlinewidth": 0,
              "ticks": ""
             }
            },
            "type": "parcoords"
           }
          ],
          "pie": [
           {
            "automargin": true,
            "type": "pie"
           }
          ],
          "scatter": [
           {
            "fillpattern": {
             "fillmode": "overlay",
             "size": 10,
             "solidity": 0.2
            },
            "type": "scatter"
           }
          ],
          "scatter3d": [
           {
            "line": {
             "colorbar": {
              "outlinewidth": 0,
              "ticks": ""
             }
            },
            "marker": {
             "colorbar": {
              "outlinewidth": 0,
              "ticks": ""
             }
            },
            "type": "scatter3d"
           }
          ],
          "scattercarpet": [
           {
            "marker": {
             "colorbar": {
              "outlinewidth": 0,
              "ticks": ""
             }
            },
            "type": "scattercarpet"
           }
          ],
          "scattergeo": [
           {
            "marker": {
             "colorbar": {
              "outlinewidth": 0,
              "ticks": ""
             }
            },
            "type": "scattergeo"
           }
          ],
          "scattergl": [
           {
            "marker": {
             "colorbar": {
              "outlinewidth": 0,
              "ticks": ""
             }
            },
            "type": "scattergl"
           }
          ],
          "scattermapbox": [
           {
            "marker": {
             "colorbar": {
              "outlinewidth": 0,
              "ticks": ""
             }
            },
            "type": "scattermapbox"
           }
          ],
          "scatterpolar": [
           {
            "marker": {
             "colorbar": {
              "outlinewidth": 0,
              "ticks": ""
             }
            },
            "type": "scatterpolar"
           }
          ],
          "scatterpolargl": [
           {
            "marker": {
             "colorbar": {
              "outlinewidth": 0,
              "ticks": ""
             }
            },
            "type": "scatterpolargl"
           }
          ],
          "scatterternary": [
           {
            "marker": {
             "colorbar": {
              "outlinewidth": 0,
              "ticks": ""
             }
            },
            "type": "scatterternary"
           }
          ],
          "surface": [
           {
            "colorbar": {
             "outlinewidth": 0,
             "ticks": ""
            },
            "colorscale": [
             [
              0,
              "#0d0887"
             ],
             [
              0.1111111111111111,
              "#46039f"
             ],
             [
              0.2222222222222222,
              "#7201a8"
             ],
             [
              0.3333333333333333,
              "#9c179e"
             ],
             [
              0.4444444444444444,
              "#bd3786"
             ],
             [
              0.5555555555555556,
              "#d8576b"
             ],
             [
              0.6666666666666666,
              "#ed7953"
             ],
             [
              0.7777777777777778,
              "#fb9f3a"
             ],
             [
              0.8888888888888888,
              "#fdca26"
             ],
             [
              1,
              "#f0f921"
             ]
            ],
            "type": "surface"
           }
          ],
          "table": [
           {
            "cells": {
             "fill": {
              "color": "#EBF0F8"
             },
             "line": {
              "color": "white"
             }
            },
            "header": {
             "fill": {
              "color": "#C8D4E3"
             },
             "line": {
              "color": "white"
             }
            },
            "type": "table"
           }
          ]
         },
         "layout": {
          "annotationdefaults": {
           "arrowcolor": "#2a3f5f",
           "arrowhead": 0,
           "arrowwidth": 1
          },
          "autotypenumbers": "strict",
          "coloraxis": {
           "colorbar": {
            "outlinewidth": 0,
            "ticks": ""
           }
          },
          "colorscale": {
           "diverging": [
            [
             0,
             "#8e0152"
            ],
            [
             0.1,
             "#c51b7d"
            ],
            [
             0.2,
             "#de77ae"
            ],
            [
             0.3,
             "#f1b6da"
            ],
            [
             0.4,
             "#fde0ef"
            ],
            [
             0.5,
             "#f7f7f7"
            ],
            [
             0.6,
             "#e6f5d0"
            ],
            [
             0.7,
             "#b8e186"
            ],
            [
             0.8,
             "#7fbc41"
            ],
            [
             0.9,
             "#4d9221"
            ],
            [
             1,
             "#276419"
            ]
           ],
           "sequential": [
            [
             0,
             "#0d0887"
            ],
            [
             0.1111111111111111,
             "#46039f"
            ],
            [
             0.2222222222222222,
             "#7201a8"
            ],
            [
             0.3333333333333333,
             "#9c179e"
            ],
            [
             0.4444444444444444,
             "#bd3786"
            ],
            [
             0.5555555555555556,
             "#d8576b"
            ],
            [
             0.6666666666666666,
             "#ed7953"
            ],
            [
             0.7777777777777778,
             "#fb9f3a"
            ],
            [
             0.8888888888888888,
             "#fdca26"
            ],
            [
             1,
             "#f0f921"
            ]
           ],
           "sequentialminus": [
            [
             0,
             "#0d0887"
            ],
            [
             0.1111111111111111,
             "#46039f"
            ],
            [
             0.2222222222222222,
             "#7201a8"
            ],
            [
             0.3333333333333333,
             "#9c179e"
            ],
            [
             0.4444444444444444,
             "#bd3786"
            ],
            [
             0.5555555555555556,
             "#d8576b"
            ],
            [
             0.6666666666666666,
             "#ed7953"
            ],
            [
             0.7777777777777778,
             "#fb9f3a"
            ],
            [
             0.8888888888888888,
             "#fdca26"
            ],
            [
             1,
             "#f0f921"
            ]
           ]
          },
          "colorway": [
           "#636efa",
           "#EF553B",
           "#00cc96",
           "#ab63fa",
           "#FFA15A",
           "#19d3f3",
           "#FF6692",
           "#B6E880",
           "#FF97FF",
           "#FECB52"
          ],
          "font": {
           "color": "#2a3f5f"
          },
          "geo": {
           "bgcolor": "white",
           "lakecolor": "white",
           "landcolor": "#E5ECF6",
           "showlakes": true,
           "showland": true,
           "subunitcolor": "white"
          },
          "hoverlabel": {
           "align": "left"
          },
          "hovermode": "closest",
          "mapbox": {
           "style": "light"
          },
          "paper_bgcolor": "white",
          "plot_bgcolor": "#E5ECF6",
          "polar": {
           "angularaxis": {
            "gridcolor": "white",
            "linecolor": "white",
            "ticks": ""
           },
           "bgcolor": "#E5ECF6",
           "radialaxis": {
            "gridcolor": "white",
            "linecolor": "white",
            "ticks": ""
           }
          },
          "scene": {
           "xaxis": {
            "backgroundcolor": "#E5ECF6",
            "gridcolor": "white",
            "gridwidth": 2,
            "linecolor": "white",
            "showbackground": true,
            "ticks": "",
            "zerolinecolor": "white"
           },
           "yaxis": {
            "backgroundcolor": "#E5ECF6",
            "gridcolor": "white",
            "gridwidth": 2,
            "linecolor": "white",
            "showbackground": true,
            "ticks": "",
            "zerolinecolor": "white"
           },
           "zaxis": {
            "backgroundcolor": "#E5ECF6",
            "gridcolor": "white",
            "gridwidth": 2,
            "linecolor": "white",
            "showbackground": true,
            "ticks": "",
            "zerolinecolor": "white"
           }
          },
          "shapedefaults": {
           "line": {
            "color": "#2a3f5f"
           }
          },
          "ternary": {
           "aaxis": {
            "gridcolor": "white",
            "linecolor": "white",
            "ticks": ""
           },
           "baxis": {
            "gridcolor": "white",
            "linecolor": "white",
            "ticks": ""
           },
           "bgcolor": "#E5ECF6",
           "caxis": {
            "gridcolor": "white",
            "linecolor": "white",
            "ticks": ""
           }
          },
          "title": {
           "x": 0.05
          },
          "xaxis": {
           "automargin": true,
           "gridcolor": "white",
           "linecolor": "white",
           "ticks": "",
           "title": {
            "standoff": 15
           },
           "zerolinecolor": "white",
           "zerolinewidth": 2
          },
          "yaxis": {
           "automargin": true,
           "gridcolor": "white",
           "linecolor": "white",
           "ticks": "",
           "title": {
            "standoff": 15
           },
           "zerolinecolor": "white",
           "zerolinewidth": 2
          }
         }
        },
        "xaxis": {
         "anchor": "y",
         "domain": [
          0,
          1
         ],
         "title": {
          "text": "duration"
         }
        },
        "yaxis": {
         "anchor": "x",
         "domain": [
          0,
          1
         ],
         "title": {
          "text": "count"
         }
        }
       }
      },
      "text/html": [
       "<div>                            <div id=\"077fbd98-0b18-4b87-8b46-762fc3b5f9ab\" class=\"plotly-graph-div\" style=\"height:525px; width:100%;\"></div>            <script type=\"text/javascript\">                require([\"plotly\"], function(Plotly) {                    window.PLOTLYENV=window.PLOTLYENV || {};                                    if (document.getElementById(\"077fbd98-0b18-4b87-8b46-762fc3b5f9ab\")) {                    Plotly.newPlot(                        \"077fbd98-0b18-4b87-8b46-762fc3b5f9ab\",                        [{\"alignmentgroup\":\"True\",\"bingroup\":\"x\",\"hovertemplate\":\"character=FORREST<br>duration=%{x}<br>count=%{y}<extra></extra>\",\"legendgroup\":\"FORREST\",\"marker\":{\"color\":\"#636efa\",\"pattern\":{\"shape\":\"\"}},\"name\":\"FORREST\",\"offsetgroup\":\"FORREST\",\"orientation\":\"v\",\"showlegend\":true,\"x\":[48.0,15.0,13.0,7.0,7.0,3.0,1.0,6.0,4.0,7.0,3.0,5.0,2.0,9.0,7.0,2.0,12.0,5.0,5.0,14.0,10.0,1.0,7.0,4.0,1.0,7.0,18.0,24.0,57.0,5.0,30.0,8.0,8.0,15.0,1.0,15.0,7.0,7.0,35.0,3.0,1.0,27.0,5.0,18.0,5.0,4.0,8.0,14.0,6.0,44.0,10.0,4.0,7.0,3.0,8.0,21.0,6.0,5.0,7.0,2.0,18.0,11.0,5.0,26.0,7.0,22.0,5.0,1.0,14.0,34.0,9.0,1.0,10.0,5.0,5.0,2.0,4.0,7.0,3.0,3.0,16.0,7.0,1.0,6.0,11.0,3.0,3.0,2.0,5.0,10.0,6.0,5.0,31.0,7.0,6.0,11.0,55.0,23.0,19.0,13.0,24.0,3.0,9.0,24.0,30.0,19.0,9.0,36.0,18.0,4.0,7.0,9.0,18.0,10.0,1.0,10.0,9.0,11.0,17.0,26.0,1.0,4.0,10.0,38.0,20.0,3.0,11.0],\"xaxis\":\"x\",\"yaxis\":\"y\",\"type\":\"histogram\"},{\"alignmentgroup\":\"True\",\"bingroup\":\"x\",\"hovertemplate\":\"character=WOMAN<br>duration=%{x}<br>count=%{y}<extra></extra>\",\"legendgroup\":\"WOMAN\",\"marker\":{\"color\":\"#EF553B\",\"pattern\":{\"shape\":\"\"}},\"name\":\"WOMAN\",\"offsetgroup\":\"WOMAN\",\"orientation\":\"v\",\"showlegend\":true,\"x\":[4.0,7.0,8.0,4.0,13.0,10.0],\"xaxis\":\"x\",\"yaxis\":\"y\",\"type\":\"histogram\"},{\"alignmentgroup\":\"True\",\"bingroup\":\"x\",\"hovertemplate\":\"character=MRSGUMP<br>duration=%{x}<br>count=%{y}<extra></extra>\",\"legendgroup\":\"MRSGUMP\",\"marker\":{\"color\":\"#00cc96\",\"pattern\":{\"shape\":\"\"}},\"name\":\"MRSGUMP\",\"offsetgroup\":\"MRSGUMP\",\"orientation\":\"v\",\"showlegend\":true,\"x\":[4.0,26.0,12.0,6.0,21.0,4.0,4.0,9.0,9.0,3.0,2.0,6.0,6.0,1.0,10.0,7.0,7.0,2.0,1.0],\"xaxis\":\"x\",\"yaxis\":\"y\",\"type\":\"histogram\"},{\"alignmentgroup\":\"True\",\"bingroup\":\"x\",\"hovertemplate\":\"character=FORRESTVO<br>duration=%{x}<br>count=%{y}<extra></extra>\",\"legendgroup\":\"FORRESTVO\",\"marker\":{\"color\":\"#ab63fa\",\"pattern\":{\"shape\":\"\"}},\"name\":\"FORRESTVO\",\"offsetgroup\":\"FORRESTVO\",\"orientation\":\"v\",\"showlegend\":true,\"x\":[25.0,2.0,7.0,1.0,14.0,2.0,10.0,13.0,3.0,1.0,8.0,8.0,1.0,5.0,3.0,13.0,3.0,2.0,3.0,4.0,13.0,7.0,5.0,10.0,1.0,10.0,8.0,1.0,13.0,8.0,3.0,15.0,9.0,7.0,10.0],\"xaxis\":\"x\",\"yaxis\":\"y\",\"type\":\"histogram\"},{\"alignmentgroup\":\"True\",\"bingroup\":\"x\",\"hovertemplate\":\"character=MAN<br>duration=%{x}<br>count=%{y}<extra></extra>\",\"legendgroup\":\"MAN\",\"marker\":{\"color\":\"#FFA15A\",\"pattern\":{\"shape\":\"\"}},\"name\":\"MAN\",\"offsetgroup\":\"MAN\",\"orientation\":\"v\",\"showlegend\":true,\"x\":[13.0,11.0,3.0,11.0,12.0,2.0,9.0,27.0,7.0,4.0,5.0,2.0,7.0,2.0,1.0,12.0,16.0,1.0,2.0,5.0,2.0,8.0,9.0,1.0,24.0,3.0,6.0,5.0,1.0,2.0,6.0,15.0],\"xaxis\":\"x\",\"yaxis\":\"y\",\"type\":\"histogram\"},{\"alignmentgroup\":\"True\",\"bingroup\":\"x\",\"hovertemplate\":\"character=ELVISPRESLEY<br>duration=%{x}<br>count=%{y}<extra></extra>\",\"legendgroup\":\"ELVISPRESLEY\",\"marker\":{\"color\":\"#19d3f3\",\"pattern\":{\"shape\":\"\"}},\"name\":\"ELVISPRESLEY\",\"offsetgroup\":\"ELVISPRESLEY\",\"orientation\":\"v\",\"showlegend\":true,\"x\":[4.0,2.0,1.0,15.0,25.0],\"xaxis\":\"x\",\"yaxis\":\"y\",\"type\":\"histogram\"},{\"alignmentgroup\":\"True\",\"bingroup\":\"x\",\"hovertemplate\":\"character=BOY<br>duration=%{x}<br>count=%{y}<extra></extra>\",\"legendgroup\":\"BOY\",\"marker\":{\"color\":\"#FF6692\",\"pattern\":{\"shape\":\"\"}},\"name\":\"BOY\",\"offsetgroup\":\"BOY\",\"orientation\":\"v\",\"showlegend\":true,\"x\":[4.0,1.0,2.0,1.0,5.0,7.0,33.0,1.0,8.0],\"xaxis\":\"x\",\"yaxis\":\"y\",\"type\":\"histogram\"},{\"alignmentgroup\":\"True\",\"bingroup\":\"x\",\"hovertemplate\":\"character=GIRL<br>duration=%{x}<br>count=%{y}<extra></extra>\",\"legendgroup\":\"GIRL\",\"marker\":{\"color\":\"#B6E880\",\"pattern\":{\"shape\":\"\"}},\"name\":\"GIRL\",\"offsetgroup\":\"GIRL\",\"orientation\":\"v\",\"showlegend\":true,\"x\":[3.0,2.0,3.0],\"xaxis\":\"x\",\"yaxis\":\"y\",\"type\":\"histogram\"},{\"alignmentgroup\":\"True\",\"bingroup\":\"x\",\"hovertemplate\":\"character=JENNY<br>duration=%{x}<br>count=%{y}<extra></extra>\",\"legendgroup\":\"JENNY\",\"marker\":{\"color\":\"#FF97FF\",\"pattern\":{\"shape\":\"\"}},\"name\":\"JENNY\",\"offsetgroup\":\"JENNY\",\"orientation\":\"v\",\"showlegend\":true,\"x\":[7.0,7.0,5.0,5.0,5.0,1.0,13.0,1.0,2.0,4.0,29.0,2.0,4.0,33.0,3.0,9.0,14.0,1.0,3.0,13.0,1.0,7.0,11.0,8.0,7.0,3.0,3.0,41.0,12.0,32.0,22.0,4.0,14.0,12.0,18.0,12.0,16.0,6.0,40.0,10.0,6.0,26.0,2.0,5.0,4.0,18.0,10.0,11.0],\"xaxis\":\"x\",\"yaxis\":\"y\",\"type\":\"histogram\"},{\"alignmentgroup\":\"True\",\"bingroup\":\"x\",\"hovertemplate\":\"character=JENNYSDAD<br>duration=%{x}<br>count=%{y}<extra></extra>\",\"legendgroup\":\"JENNYSDAD\",\"marker\":{\"color\":\"#FECB52\",\"pattern\":{\"shape\":\"\"}},\"name\":\"JENNYSDAD\",\"offsetgroup\":\"JENNYSDAD\",\"orientation\":\"v\",\"showlegend\":true,\"x\":[44.0],\"xaxis\":\"x\",\"yaxis\":\"y\",\"type\":\"histogram\"},{\"alignmentgroup\":\"True\",\"bingroup\":\"x\",\"hovertemplate\":\"character=OLDERBOYS<br>duration=%{x}<br>count=%{y}<extra></extra>\",\"legendgroup\":\"OLDERBOYS\",\"marker\":{\"color\":\"#636efa\",\"pattern\":{\"shape\":\"\"}},\"name\":\"OLDERBOYS\",\"offsetgroup\":\"OLDERBOYS\",\"orientation\":\"v\",\"showlegend\":true,\"x\":[11.0,5.0,7.0,2.0,21.0,9.0],\"xaxis\":\"x\",\"yaxis\":\"y\",\"type\":\"histogram\"},{\"alignmentgroup\":\"True\",\"bingroup\":\"x\",\"hovertemplate\":\"character=CROWD<br>duration=%{x}<br>count=%{y}<extra></extra>\",\"legendgroup\":\"CROWD\",\"marker\":{\"color\":\"#EF553B\",\"pattern\":{\"shape\":\"\"}},\"name\":\"CROWD\",\"offsetgroup\":\"CROWD\",\"orientation\":\"v\",\"showlegend\":true,\"x\":[44.0,7.0,20.0,9.0,8.0,23.0,12.0,17.0,13.0,1.0,7.0],\"xaxis\":\"x\",\"yaxis\":\"y\",\"type\":\"histogram\"},{\"alignmentgroup\":\"True\",\"bingroup\":\"x\",\"hovertemplate\":\"character=MEN<br>duration=%{x}<br>count=%{y}<extra></extra>\",\"legendgroup\":\"MEN\",\"marker\":{\"color\":\"#00cc96\",\"pattern\":{\"shape\":\"\"}},\"name\":\"MEN\",\"offsetgroup\":\"MEN\",\"orientation\":\"v\",\"showlegend\":true,\"x\":[2.0],\"xaxis\":\"x\",\"yaxis\":\"y\",\"type\":\"histogram\"},{\"alignmentgroup\":\"True\",\"bingroup\":\"x\",\"hovertemplate\":\"character=PRESIDENTKENNEDY<br>duration=%{x}<br>count=%{y}<extra></extra>\",\"legendgroup\":\"PRESIDENTKENNEDY\",\"marker\":{\"color\":\"#ab63fa\",\"pattern\":{\"shape\":\"\"}},\"name\":\"PRESIDENTKENNEDY\",\"offsetgroup\":\"PRESIDENTKENNEDY\",\"orientation\":\"v\",\"showlegend\":true,\"x\":[2.0],\"xaxis\":\"x\",\"yaxis\":\"y\",\"type\":\"histogram\"},{\"alignmentgroup\":\"True\",\"bingroup\":\"x\",\"hovertemplate\":\"character=BUBBA<br>duration=%{x}<br>count=%{y}<extra></extra>\",\"legendgroup\":\"BUBBA\",\"marker\":{\"color\":\"#FFA15A\",\"pattern\":{\"shape\":\"\"}},\"name\":\"BUBBA\",\"offsetgroup\":\"BUBBA\",\"orientation\":\"v\",\"showlegend\":true,\"x\":[10.0,9.0,2.0,4.0,5.0,11.0,17.0,13.0,28.0,1.0,2.0,2.0,2.0,8.0,1.0,6.0,16.0,20.0,39.0,9.0,13.0,8.0,1.0],\"xaxis\":\"x\",\"yaxis\":\"y\",\"type\":\"histogram\"},{\"alignmentgroup\":\"True\",\"bingroup\":\"x\",\"hovertemplate\":\"character=DAN<br>duration=%{x}<br>count=%{y}<extra></extra>\",\"legendgroup\":\"DAN\",\"marker\":{\"color\":\"#19d3f3\",\"pattern\":{\"shape\":\"\"}},\"name\":\"DAN\",\"offsetgroup\":\"DAN\",\"orientation\":\"v\",\"showlegend\":true,\"x\":[9.0,2.0,8.0,19.0,7.0,5.0,10.0,1.0,13.0,5.0,29.0,10.0,7.0,5.0,9.0,24.0,7.0,9.0,28.0,1.0,8.0,9.0,23.0,1.0],\"xaxis\":\"x\",\"yaxis\":\"y\",\"type\":\"histogram\"},{\"alignmentgroup\":\"True\",\"bingroup\":\"x\",\"hovertemplate\":\"character=PRESIDENTJOHNSON<br>duration=%{x}<br>count=%{y}<extra></extra>\",\"legendgroup\":\"PRESIDENTJOHNSON\",\"marker\":{\"color\":\"#FF6692\",\"pattern\":{\"shape\":\"\"}},\"name\":\"PRESIDENTJOHNSON\",\"offsetgroup\":\"PRESIDENTJOHNSON\",\"orientation\":\"v\",\"showlegend\":true,\"x\":[2.0,1.0,4.0],\"xaxis\":\"x\",\"yaxis\":\"y\",\"type\":\"histogram\"},{\"alignmentgroup\":\"True\",\"bingroup\":\"x\",\"hovertemplate\":\"character=ABBIEHOFFMAN<br>duration=%{x}<br>count=%{y}<extra></extra>\",\"legendgroup\":\"ABBIEHOFFMAN\",\"marker\":{\"color\":\"#B6E880\",\"pattern\":{\"shape\":\"\"}},\"name\":\"ABBIEHOFFMAN\",\"offsetgroup\":\"ABBIEHOFFMAN\",\"orientation\":\"v\",\"showlegend\":true,\"x\":[21.0,2.0],\"xaxis\":\"x\",\"yaxis\":\"y\",\"type\":\"histogram\"}],                        {\"template\":{\"data\":{\"histogram2dcontour\":[{\"type\":\"histogram2dcontour\",\"colorbar\":{\"outlinewidth\":0,\"ticks\":\"\"},\"colorscale\":[[0.0,\"#0d0887\"],[0.1111111111111111,\"#46039f\"],[0.2222222222222222,\"#7201a8\"],[0.3333333333333333,\"#9c179e\"],[0.4444444444444444,\"#bd3786\"],[0.5555555555555556,\"#d8576b\"],[0.6666666666666666,\"#ed7953\"],[0.7777777777777778,\"#fb9f3a\"],[0.8888888888888888,\"#fdca26\"],[1.0,\"#f0f921\"]]}],\"choropleth\":[{\"type\":\"choropleth\",\"colorbar\":{\"outlinewidth\":0,\"ticks\":\"\"}}],\"histogram2d\":[{\"type\":\"histogram2d\",\"colorbar\":{\"outlinewidth\":0,\"ticks\":\"\"},\"colorscale\":[[0.0,\"#0d0887\"],[0.1111111111111111,\"#46039f\"],[0.2222222222222222,\"#7201a8\"],[0.3333333333333333,\"#9c179e\"],[0.4444444444444444,\"#bd3786\"],[0.5555555555555556,\"#d8576b\"],[0.6666666666666666,\"#ed7953\"],[0.7777777777777778,\"#fb9f3a\"],[0.8888888888888888,\"#fdca26\"],[1.0,\"#f0f921\"]]}],\"heatmap\":[{\"type\":\"heatmap\",\"colorbar\":{\"outlinewidth\":0,\"ticks\":\"\"},\"colorscale\":[[0.0,\"#0d0887\"],[0.1111111111111111,\"#46039f\"],[0.2222222222222222,\"#7201a8\"],[0.3333333333333333,\"#9c179e\"],[0.4444444444444444,\"#bd3786\"],[0.5555555555555556,\"#d8576b\"],[0.6666666666666666,\"#ed7953\"],[0.7777777777777778,\"#fb9f3a\"],[0.8888888888888888,\"#fdca26\"],[1.0,\"#f0f921\"]]}],\"heatmapgl\":[{\"type\":\"heatmapgl\",\"colorbar\":{\"outlinewidth\":0,\"ticks\":\"\"},\"colorscale\":[[0.0,\"#0d0887\"],[0.1111111111111111,\"#46039f\"],[0.2222222222222222,\"#7201a8\"],[0.3333333333333333,\"#9c179e\"],[0.4444444444444444,\"#bd3786\"],[0.5555555555555556,\"#d8576b\"],[0.6666666666666666,\"#ed7953\"],[0.7777777777777778,\"#fb9f3a\"],[0.8888888888888888,\"#fdca26\"],[1.0,\"#f0f921\"]]}],\"contourcarpet\":[{\"type\":\"contourcarpet\",\"colorbar\":{\"outlinewidth\":0,\"ticks\":\"\"}}],\"contour\":[{\"type\":\"contour\",\"colorbar\":{\"outlinewidth\":0,\"ticks\":\"\"},\"colorscale\":[[0.0,\"#0d0887\"],[0.1111111111111111,\"#46039f\"],[0.2222222222222222,\"#7201a8\"],[0.3333333333333333,\"#9c179e\"],[0.4444444444444444,\"#bd3786\"],[0.5555555555555556,\"#d8576b\"],[0.6666666666666666,\"#ed7953\"],[0.7777777777777778,\"#fb9f3a\"],[0.8888888888888888,\"#fdca26\"],[1.0,\"#f0f921\"]]}],\"surface\":[{\"type\":\"surface\",\"colorbar\":{\"outlinewidth\":0,\"ticks\":\"\"},\"colorscale\":[[0.0,\"#0d0887\"],[0.1111111111111111,\"#46039f\"],[0.2222222222222222,\"#7201a8\"],[0.3333333333333333,\"#9c179e\"],[0.4444444444444444,\"#bd3786\"],[0.5555555555555556,\"#d8576b\"],[0.6666666666666666,\"#ed7953\"],[0.7777777777777778,\"#fb9f3a\"],[0.8888888888888888,\"#fdca26\"],[1.0,\"#f0f921\"]]}],\"mesh3d\":[{\"type\":\"mesh3d\",\"colorbar\":{\"outlinewidth\":0,\"ticks\":\"\"}}],\"scatter\":[{\"fillpattern\":{\"fillmode\":\"overlay\",\"size\":10,\"solidity\":0.2},\"type\":\"scatter\"}],\"parcoords\":[{\"type\":\"parcoords\",\"line\":{\"colorbar\":{\"outlinewidth\":0,\"ticks\":\"\"}}}],\"scatterpolargl\":[{\"type\":\"scatterpolargl\",\"marker\":{\"colorbar\":{\"outlinewidth\":0,\"ticks\":\"\"}}}],\"bar\":[{\"error_x\":{\"color\":\"#2a3f5f\"},\"error_y\":{\"color\":\"#2a3f5f\"},\"marker\":{\"line\":{\"color\":\"#E5ECF6\",\"width\":0.5},\"pattern\":{\"fillmode\":\"overlay\",\"size\":10,\"solidity\":0.2}},\"type\":\"bar\"}],\"scattergeo\":[{\"type\":\"scattergeo\",\"marker\":{\"colorbar\":{\"outlinewidth\":0,\"ticks\":\"\"}}}],\"scatterpolar\":[{\"type\":\"scatterpolar\",\"marker\":{\"colorbar\":{\"outlinewidth\":0,\"ticks\":\"\"}}}],\"histogram\":[{\"marker\":{\"pattern\":{\"fillmode\":\"overlay\",\"size\":10,\"solidity\":0.2}},\"type\":\"histogram\"}],\"scattergl\":[{\"type\":\"scattergl\",\"marker\":{\"colorbar\":{\"outlinewidth\":0,\"ticks\":\"\"}}}],\"scatter3d\":[{\"type\":\"scatter3d\",\"line\":{\"colorbar\":{\"outlinewidth\":0,\"ticks\":\"\"}},\"marker\":{\"colorbar\":{\"outlinewidth\":0,\"ticks\":\"\"}}}],\"scattermapbox\":[{\"type\":\"scattermapbox\",\"marker\":{\"colorbar\":{\"outlinewidth\":0,\"ticks\":\"\"}}}],\"scatterternary\":[{\"type\":\"scatterternary\",\"marker\":{\"colorbar\":{\"outlinewidth\":0,\"ticks\":\"\"}}}],\"scattercarpet\":[{\"type\":\"scattercarpet\",\"marker\":{\"colorbar\":{\"outlinewidth\":0,\"ticks\":\"\"}}}],\"carpet\":[{\"aaxis\":{\"endlinecolor\":\"#2a3f5f\",\"gridcolor\":\"white\",\"linecolor\":\"white\",\"minorgridcolor\":\"white\",\"startlinecolor\":\"#2a3f5f\"},\"baxis\":{\"endlinecolor\":\"#2a3f5f\",\"gridcolor\":\"white\",\"linecolor\":\"white\",\"minorgridcolor\":\"white\",\"startlinecolor\":\"#2a3f5f\"},\"type\":\"carpet\"}],\"table\":[{\"cells\":{\"fill\":{\"color\":\"#EBF0F8\"},\"line\":{\"color\":\"white\"}},\"header\":{\"fill\":{\"color\":\"#C8D4E3\"},\"line\":{\"color\":\"white\"}},\"type\":\"table\"}],\"barpolar\":[{\"marker\":{\"line\":{\"color\":\"#E5ECF6\",\"width\":0.5},\"pattern\":{\"fillmode\":\"overlay\",\"size\":10,\"solidity\":0.2}},\"type\":\"barpolar\"}],\"pie\":[{\"automargin\":true,\"type\":\"pie\"}]},\"layout\":{\"autotypenumbers\":\"strict\",\"colorway\":[\"#636efa\",\"#EF553B\",\"#00cc96\",\"#ab63fa\",\"#FFA15A\",\"#19d3f3\",\"#FF6692\",\"#B6E880\",\"#FF97FF\",\"#FECB52\"],\"font\":{\"color\":\"#2a3f5f\"},\"hovermode\":\"closest\",\"hoverlabel\":{\"align\":\"left\"},\"paper_bgcolor\":\"white\",\"plot_bgcolor\":\"#E5ECF6\",\"polar\":{\"bgcolor\":\"#E5ECF6\",\"angularaxis\":{\"gridcolor\":\"white\",\"linecolor\":\"white\",\"ticks\":\"\"},\"radialaxis\":{\"gridcolor\":\"white\",\"linecolor\":\"white\",\"ticks\":\"\"}},\"ternary\":{\"bgcolor\":\"#E5ECF6\",\"aaxis\":{\"gridcolor\":\"white\",\"linecolor\":\"white\",\"ticks\":\"\"},\"baxis\":{\"gridcolor\":\"white\",\"linecolor\":\"white\",\"ticks\":\"\"},\"caxis\":{\"gridcolor\":\"white\",\"linecolor\":\"white\",\"ticks\":\"\"}},\"coloraxis\":{\"colorbar\":{\"outlinewidth\":0,\"ticks\":\"\"}},\"colorscale\":{\"sequential\":[[0.0,\"#0d0887\"],[0.1111111111111111,\"#46039f\"],[0.2222222222222222,\"#7201a8\"],[0.3333333333333333,\"#9c179e\"],[0.4444444444444444,\"#bd3786\"],[0.5555555555555556,\"#d8576b\"],[0.6666666666666666,\"#ed7953\"],[0.7777777777777778,\"#fb9f3a\"],[0.8888888888888888,\"#fdca26\"],[1.0,\"#f0f921\"]],\"sequentialminus\":[[0.0,\"#0d0887\"],[0.1111111111111111,\"#46039f\"],[0.2222222222222222,\"#7201a8\"],[0.3333333333333333,\"#9c179e\"],[0.4444444444444444,\"#bd3786\"],[0.5555555555555556,\"#d8576b\"],[0.6666666666666666,\"#ed7953\"],[0.7777777777777778,\"#fb9f3a\"],[0.8888888888888888,\"#fdca26\"],[1.0,\"#f0f921\"]],\"diverging\":[[0,\"#8e0152\"],[0.1,\"#c51b7d\"],[0.2,\"#de77ae\"],[0.3,\"#f1b6da\"],[0.4,\"#fde0ef\"],[0.5,\"#f7f7f7\"],[0.6,\"#e6f5d0\"],[0.7,\"#b8e186\"],[0.8,\"#7fbc41\"],[0.9,\"#4d9221\"],[1,\"#276419\"]]},\"xaxis\":{\"gridcolor\":\"white\",\"linecolor\":\"white\",\"ticks\":\"\",\"title\":{\"standoff\":15},\"zerolinecolor\":\"white\",\"automargin\":true,\"zerolinewidth\":2},\"yaxis\":{\"gridcolor\":\"white\",\"linecolor\":\"white\",\"ticks\":\"\",\"title\":{\"standoff\":15},\"zerolinecolor\":\"white\",\"automargin\":true,\"zerolinewidth\":2},\"scene\":{\"xaxis\":{\"backgroundcolor\":\"#E5ECF6\",\"gridcolor\":\"white\",\"linecolor\":\"white\",\"showbackground\":true,\"ticks\":\"\",\"zerolinecolor\":\"white\",\"gridwidth\":2},\"yaxis\":{\"backgroundcolor\":\"#E5ECF6\",\"gridcolor\":\"white\",\"linecolor\":\"white\",\"showbackground\":true,\"ticks\":\"\",\"zerolinecolor\":\"white\",\"gridwidth\":2},\"zaxis\":{\"backgroundcolor\":\"#E5ECF6\",\"gridcolor\":\"white\",\"linecolor\":\"white\",\"showbackground\":true,\"ticks\":\"\",\"zerolinecolor\":\"white\",\"gridwidth\":2}},\"shapedefaults\":{\"line\":{\"color\":\"#2a3f5f\"}},\"annotationdefaults\":{\"arrowcolor\":\"#2a3f5f\",\"arrowhead\":0,\"arrowwidth\":1},\"geo\":{\"bgcolor\":\"white\",\"landcolor\":\"#E5ECF6\",\"subunitcolor\":\"white\",\"showland\":true,\"showlakes\":true,\"lakecolor\":\"white\"},\"title\":{\"x\":0.05},\"mapbox\":{\"style\":\"light\"}}},\"xaxis\":{\"anchor\":\"y\",\"domain\":[0.0,1.0],\"title\":{\"text\":\"duration\"}},\"yaxis\":{\"anchor\":\"x\",\"domain\":[0.0,1.0],\"title\":{\"text\":\"count\"}},\"legend\":{\"title\":{\"text\":\"character\"},\"tracegroupgap\":0},\"margin\":{\"t\":60},\"barmode\":\"relative\"},                        {\"responsive\": true}                    ).then(function(){\n",
       "                            \n",
       "var gd = document.getElementById('077fbd98-0b18-4b87-8b46-762fc3b5f9ab');\n",
       "var x = new MutationObserver(function (mutations, observer) {{\n",
       "        var display = window.getComputedStyle(gd).display;\n",
       "        if (!display || display === 'none') {{\n",
       "            console.log([gd, 'removed!']);\n",
       "            Plotly.purge(gd);\n",
       "            observer.disconnect();\n",
       "        }}\n",
       "}});\n",
       "\n",
       "// Listen for the removal of the full notebook cells\n",
       "var notebookContainer = gd.closest('#notebook-container');\n",
       "if (notebookContainer) {{\n",
       "    x.observe(notebookContainer, {childList: true});\n",
       "}}\n",
       "\n",
       "// Listen for the clearing of the current output cell\n",
       "var outputEl = gd.closest('.output');\n",
       "if (outputEl) {{\n",
       "    x.observe(outputEl, {childList: true});\n",
       "}}\n",
       "\n",
       "                        })                };                });            </script>        </div>"
      ]
     },
     "metadata": {},
     "output_type": "display_data"
    },
    {
     "data": {
      "application/vnd.plotly.v1+json": {
       "config": {
        "plotlyServerURL": "https://plot.ly"
       },
       "data": [
        {
         "alignmentgroup": "True",
         "bingroup": "x",
         "hovertemplate": "character=CROWD<br>duration=%{x}<br>count=%{y}<extra></extra>",
         "legendgroup": "CROWD",
         "marker": {
          "color": "#636efa",
          "pattern": {
           "shape": ""
          }
         },
         "name": "CROWD",
         "offsetgroup": "CROWD",
         "orientation": "v",
         "showlegend": true,
         "type": "histogram",
         "x": [
          3,
          6,
          31,
          19,
          11,
          4,
          6,
          1
         ],
         "xaxis": "x",
         "yaxis": "y"
        },
        {
         "alignmentgroup": "True",
         "bingroup": "x",
         "hovertemplate": "character=JENNY<br>duration=%{x}<br>count=%{y}<extra></extra>",
         "legendgroup": "JENNY",
         "marker": {
          "color": "#EF553B",
          "pattern": {
           "shape": ""
          }
         },
         "name": "JENNY",
         "offsetgroup": "JENNY",
         "orientation": "v",
         "showlegend": true,
         "type": "histogram",
         "x": [
          1,
          8,
          4,
          1,
          13,
          2,
          3,
          20,
          2,
          11,
          14,
          8,
          4,
          1,
          1,
          6,
          3,
          23,
          10,
          8,
          4,
          1,
          10,
          4,
          11,
          1,
          17,
          33,
          9,
          8,
          8,
          2,
          21,
          4,
          13,
          60,
          18,
          12,
          3,
          7,
          5,
          1,
          19,
          1,
          8,
          1,
          9,
          2,
          16,
          5,
          5,
          14,
          8,
          2,
          26,
          10,
          6,
          6,
          15,
          18,
          22,
          12,
          16,
          17,
          29,
          8,
          15,
          21,
          2,
          43,
          3,
          1,
          22,
          1,
          9,
          25,
          6,
          9,
          13,
          14,
          6,
          9,
          17
         ],
         "xaxis": "x",
         "yaxis": "y"
        },
        {
         "alignmentgroup": "True",
         "bingroup": "x",
         "hovertemplate": "character=FORREST<br>duration=%{x}<br>count=%{y}<extra></extra>",
         "legendgroup": "FORREST",
         "marker": {
          "color": "#00cc96",
          "pattern": {
           "shape": ""
          }
         },
         "name": "FORREST",
         "offsetgroup": "FORREST",
         "orientation": "v",
         "showlegend": true,
         "type": "histogram",
         "x": [
          1,
          21,
          38,
          2,
          3,
          3,
          1,
          1,
          5,
          6,
          4,
          3,
          20,
          11,
          1,
          16,
          2,
          1,
          18,
          29,
          5,
          13,
          13,
          11,
          3,
          4,
          12,
          22,
          3,
          4,
          18,
          1,
          2,
          6,
          5,
          15,
          3,
          1,
          7,
          13,
          7,
          5,
          27,
          1,
          19,
          7,
          6,
          12,
          2,
          5,
          1,
          5,
          40,
          3,
          1,
          1,
          8,
          3,
          2,
          6,
          8,
          5,
          6,
          4,
          7,
          13,
          16,
          16,
          22,
          2,
          12,
          2,
          2,
          12,
          2,
          2,
          10,
          32,
          5,
          21,
          6,
          6,
          13,
          3,
          1,
          19,
          6,
          3,
          3,
          4,
          8,
          17,
          1,
          17,
          2,
          11,
          28,
          21,
          20,
          7,
          5,
          7,
          2,
          6,
          5,
          1,
          12,
          20,
          2,
          12,
          2,
          13,
          33,
          7,
          9,
          23,
          32,
          4,
          6,
          7,
          22,
          25,
          6,
          14,
          12,
          8,
          11,
          8,
          7,
          17,
          6,
          15,
          40,
          6,
          126,
          15,
          13,
          2,
          26
         ],
         "xaxis": "x",
         "yaxis": "y"
        },
        {
         "alignmentgroup": "True",
         "bingroup": "x",
         "hovertemplate": "character=FORRESTVO<br>duration=%{x}<br>count=%{y}<extra></extra>",
         "legendgroup": "FORRESTVO",
         "marker": {
          "color": "#ab63fa",
          "pattern": {
           "shape": ""
          }
         },
         "name": "FORRESTVO",
         "offsetgroup": "FORRESTVO",
         "orientation": "v",
         "showlegend": true,
         "type": "histogram",
         "x": [
          7,
          6,
          3,
          10,
          16,
          8,
          2,
          3,
          2,
          2,
          5,
          11,
          8,
          7,
          2,
          1,
          13,
          4,
          2,
          2,
          5,
          2,
          3,
          11,
          5,
          1,
          17,
          13,
          2
         ],
         "xaxis": "x",
         "yaxis": "y"
        },
        {
         "alignmentgroup": "True",
         "bingroup": "x",
         "hovertemplate": "character=MAN<br>duration=%{x}<br>count=%{y}<extra></extra>",
         "legendgroup": "MAN",
         "marker": {
          "color": "#FFA15A",
          "pattern": {
           "shape": ""
          }
         },
         "name": "MAN",
         "offsetgroup": "MAN",
         "orientation": "v",
         "showlegend": true,
         "type": "histogram",
         "x": [
          5,
          3,
          11,
          11,
          32,
          3,
          10,
          9,
          5,
          3,
          1,
          1,
          5,
          21,
          7,
          1,
          2,
          4,
          7,
          8,
          15,
          4,
          12,
          16,
          6,
          2,
          4,
          3,
          11
         ],
         "xaxis": "x",
         "yaxis": "y"
        },
        {
         "alignmentgroup": "True",
         "bingroup": "x",
         "hovertemplate": "character=DICKCAVETT<br>duration=%{x}<br>count=%{y}<extra></extra>",
         "legendgroup": "DICKCAVETT",
         "marker": {
          "color": "#19d3f3",
          "pattern": {
           "shape": ""
          }
         },
         "name": "DICKCAVETT",
         "offsetgroup": "DICKCAVETT",
         "orientation": "v",
         "showlegend": true,
         "type": "histogram",
         "x": [
          16
         ],
         "xaxis": "x",
         "yaxis": "y"
        },
        {
         "alignmentgroup": "True",
         "bingroup": "x",
         "hovertemplate": "character=JOHNLENNON<br>duration=%{x}<br>count=%{y}<extra></extra>",
         "legendgroup": "JOHNLENNON",
         "marker": {
          "color": "#FF6692",
          "pattern": {
           "shape": ""
          }
         },
         "name": "JOHNLENNON",
         "offsetgroup": "JOHNLENNON",
         "orientation": "v",
         "showlegend": true,
         "type": "histogram",
         "x": [
          13,
          10,
          3
         ],
         "xaxis": "x",
         "yaxis": "y"
        },
        {
         "alignmentgroup": "True",
         "bingroup": "x",
         "hovertemplate": "character=DAN<br>duration=%{x}<br>count=%{y}<extra></extra>",
         "legendgroup": "DAN",
         "marker": {
          "color": "#B6E880",
          "pattern": {
           "shape": ""
          }
         },
         "name": "DAN",
         "offsetgroup": "DAN",
         "orientation": "v",
         "showlegend": true,
         "type": "histogram",
         "x": [
          13,
          4,
          19,
          19,
          16,
          44,
          15,
          17,
          24,
          26,
          2,
          18,
          15,
          3,
          5,
          2,
          1,
          5,
          5,
          1,
          32,
          11,
          5,
          3,
          6,
          3,
          30,
          3,
          12,
          22,
          23,
          4,
          24
         ],
         "xaxis": "x",
         "yaxis": "y"
        },
        {
         "alignmentgroup": "True",
         "bingroup": "x",
         "hovertemplate": "character=WOMAN<br>duration=%{x}<br>count=%{y}<extra></extra>",
         "legendgroup": "WOMAN",
         "marker": {
          "color": "#FF97FF",
          "pattern": {
           "shape": ""
          }
         },
         "name": "WOMAN",
         "offsetgroup": "WOMAN",
         "orientation": "v",
         "showlegend": true,
         "type": "histogram",
         "x": [
          14,
          12,
          1,
          1,
          1,
          11,
          1,
          1
         ],
         "xaxis": "x",
         "yaxis": "y"
        },
        {
         "alignmentgroup": "True",
         "bingroup": "x",
         "hovertemplate": "character=PRESIDENTNIXON<br>duration=%{x}<br>count=%{y}<extra></extra>",
         "legendgroup": "PRESIDENTNIXON",
         "marker": {
          "color": "#FECB52",
          "pattern": {
           "shape": ""
          }
         },
         "name": "PRESIDENTNIXON",
         "offsetgroup": "PRESIDENTNIXON",
         "orientation": "v",
         "showlegend": true,
         "type": "histogram",
         "x": [
          7,
          5,
          3
         ],
         "xaxis": "x",
         "yaxis": "y"
        },
        {
         "alignmentgroup": "True",
         "bingroup": "x",
         "hovertemplate": "character=MRSGUMP<br>duration=%{x}<br>count=%{y}<extra></extra>",
         "legendgroup": "MRSGUMP",
         "marker": {
          "color": "#636efa",
          "pattern": {
           "shape": ""
          }
         },
         "name": "MRSGUMP",
         "offsetgroup": "MRSGUMP",
         "orientation": "v",
         "showlegend": true,
         "type": "histogram",
         "x": [
          24,
          2,
          10,
          1,
          14,
          3
         ],
         "xaxis": "x",
         "yaxis": "y"
        },
        {
         "alignmentgroup": "True",
         "bingroup": "x",
         "hovertemplate": "character=MRSBLUE<br>duration=%{x}<br>count=%{y}<extra></extra>",
         "legendgroup": "MRSBLUE",
         "marker": {
          "color": "#EF553B",
          "pattern": {
           "shape": ""
          }
         },
         "name": "MRSBLUE",
         "offsetgroup": "MRSBLUE",
         "orientation": "v",
         "showlegend": true,
         "type": "histogram",
         "x": [
          8,
          4,
          2
         ],
         "xaxis": "x",
         "yaxis": "y"
        },
        {
         "alignmentgroup": "True",
         "bingroup": "x",
         "hovertemplate": "character=OLDMAN<br>duration=%{x}<br>count=%{y}<extra></extra>",
         "legendgroup": "OLDMAN",
         "marker": {
          "color": "#00cc96",
          "pattern": {
           "shape": ""
          }
         },
         "name": "OLDMAN",
         "offsetgroup": "OLDMAN",
         "orientation": "v",
         "showlegend": true,
         "type": "histogram",
         "x": [
          3,
          11
         ],
         "xaxis": "x",
         "yaxis": "y"
        },
        {
         "alignmentgroup": "True",
         "bingroup": "x",
         "hovertemplate": "character=OLDWOMAN<br>duration=%{x}<br>count=%{y}<extra></extra>",
         "legendgroup": "OLDWOMAN",
         "marker": {
          "color": "#ab63fa",
          "pattern": {
           "shape": ""
          }
         },
         "name": "OLDWOMAN",
         "offsetgroup": "OLDWOMAN",
         "orientation": "v",
         "showlegend": true,
         "type": "histogram",
         "x": [
          1,
          22,
          17,
          9,
          5,
          13,
          19,
          3
         ],
         "xaxis": "x",
         "yaxis": "y"
        },
        {
         "alignmentgroup": "True",
         "bingroup": "x",
         "hovertemplate": "character=FORRESTJR<br>duration=%{x}<br>count=%{y}<extra></extra>",
         "legendgroup": "FORRESTJR",
         "marker": {
          "color": "#FFA15A",
          "pattern": {
           "shape": ""
          }
         },
         "name": "FORRESTJR",
         "offsetgroup": "FORRESTJR",
         "orientation": "v",
         "showlegend": true,
         "type": "histogram",
         "x": [
          2
         ],
         "xaxis": "x",
         "yaxis": "y"
        }
       ],
       "layout": {
        "barmode": "relative",
        "legend": {
         "title": {
          "text": "character"
         },
         "tracegroupgap": 0
        },
        "margin": {
         "t": 60
        },
        "template": {
         "data": {
          "bar": [
           {
            "error_x": {
             "color": "#2a3f5f"
            },
            "error_y": {
             "color": "#2a3f5f"
            },
            "marker": {
             "line": {
              "color": "#E5ECF6",
              "width": 0.5
             },
             "pattern": {
              "fillmode": "overlay",
              "size": 10,
              "solidity": 0.2
             }
            },
            "type": "bar"
           }
          ],
          "barpolar": [
           {
            "marker": {
             "line": {
              "color": "#E5ECF6",
              "width": 0.5
             },
             "pattern": {
              "fillmode": "overlay",
              "size": 10,
              "solidity": 0.2
             }
            },
            "type": "barpolar"
           }
          ],
          "carpet": [
           {
            "aaxis": {
             "endlinecolor": "#2a3f5f",
             "gridcolor": "white",
             "linecolor": "white",
             "minorgridcolor": "white",
             "startlinecolor": "#2a3f5f"
            },
            "baxis": {
             "endlinecolor": "#2a3f5f",
             "gridcolor": "white",
             "linecolor": "white",
             "minorgridcolor": "white",
             "startlinecolor": "#2a3f5f"
            },
            "type": "carpet"
           }
          ],
          "choropleth": [
           {
            "colorbar": {
             "outlinewidth": 0,
             "ticks": ""
            },
            "type": "choropleth"
           }
          ],
          "contour": [
           {
            "colorbar": {
             "outlinewidth": 0,
             "ticks": ""
            },
            "colorscale": [
             [
              0,
              "#0d0887"
             ],
             [
              0.1111111111111111,
              "#46039f"
             ],
             [
              0.2222222222222222,
              "#7201a8"
             ],
             [
              0.3333333333333333,
              "#9c179e"
             ],
             [
              0.4444444444444444,
              "#bd3786"
             ],
             [
              0.5555555555555556,
              "#d8576b"
             ],
             [
              0.6666666666666666,
              "#ed7953"
             ],
             [
              0.7777777777777778,
              "#fb9f3a"
             ],
             [
              0.8888888888888888,
              "#fdca26"
             ],
             [
              1,
              "#f0f921"
             ]
            ],
            "type": "contour"
           }
          ],
          "contourcarpet": [
           {
            "colorbar": {
             "outlinewidth": 0,
             "ticks": ""
            },
            "type": "contourcarpet"
           }
          ],
          "heatmap": [
           {
            "colorbar": {
             "outlinewidth": 0,
             "ticks": ""
            },
            "colorscale": [
             [
              0,
              "#0d0887"
             ],
             [
              0.1111111111111111,
              "#46039f"
             ],
             [
              0.2222222222222222,
              "#7201a8"
             ],
             [
              0.3333333333333333,
              "#9c179e"
             ],
             [
              0.4444444444444444,
              "#bd3786"
             ],
             [
              0.5555555555555556,
              "#d8576b"
             ],
             [
              0.6666666666666666,
              "#ed7953"
             ],
             [
              0.7777777777777778,
              "#fb9f3a"
             ],
             [
              0.8888888888888888,
              "#fdca26"
             ],
             [
              1,
              "#f0f921"
             ]
            ],
            "type": "heatmap"
           }
          ],
          "heatmapgl": [
           {
            "colorbar": {
             "outlinewidth": 0,
             "ticks": ""
            },
            "colorscale": [
             [
              0,
              "#0d0887"
             ],
             [
              0.1111111111111111,
              "#46039f"
             ],
             [
              0.2222222222222222,
              "#7201a8"
             ],
             [
              0.3333333333333333,
              "#9c179e"
             ],
             [
              0.4444444444444444,
              "#bd3786"
             ],
             [
              0.5555555555555556,
              "#d8576b"
             ],
             [
              0.6666666666666666,
              "#ed7953"
             ],
             [
              0.7777777777777778,
              "#fb9f3a"
             ],
             [
              0.8888888888888888,
              "#fdca26"
             ],
             [
              1,
              "#f0f921"
             ]
            ],
            "type": "heatmapgl"
           }
          ],
          "histogram": [
           {
            "marker": {
             "pattern": {
              "fillmode": "overlay",
              "size": 10,
              "solidity": 0.2
             }
            },
            "type": "histogram"
           }
          ],
          "histogram2d": [
           {
            "colorbar": {
             "outlinewidth": 0,
             "ticks": ""
            },
            "colorscale": [
             [
              0,
              "#0d0887"
             ],
             [
              0.1111111111111111,
              "#46039f"
             ],
             [
              0.2222222222222222,
              "#7201a8"
             ],
             [
              0.3333333333333333,
              "#9c179e"
             ],
             [
              0.4444444444444444,
              "#bd3786"
             ],
             [
              0.5555555555555556,
              "#d8576b"
             ],
             [
              0.6666666666666666,
              "#ed7953"
             ],
             [
              0.7777777777777778,
              "#fb9f3a"
             ],
             [
              0.8888888888888888,
              "#fdca26"
             ],
             [
              1,
              "#f0f921"
             ]
            ],
            "type": "histogram2d"
           }
          ],
          "histogram2dcontour": [
           {
            "colorbar": {
             "outlinewidth": 0,
             "ticks": ""
            },
            "colorscale": [
             [
              0,
              "#0d0887"
             ],
             [
              0.1111111111111111,
              "#46039f"
             ],
             [
              0.2222222222222222,
              "#7201a8"
             ],
             [
              0.3333333333333333,
              "#9c179e"
             ],
             [
              0.4444444444444444,
              "#bd3786"
             ],
             [
              0.5555555555555556,
              "#d8576b"
             ],
             [
              0.6666666666666666,
              "#ed7953"
             ],
             [
              0.7777777777777778,
              "#fb9f3a"
             ],
             [
              0.8888888888888888,
              "#fdca26"
             ],
             [
              1,
              "#f0f921"
             ]
            ],
            "type": "histogram2dcontour"
           }
          ],
          "mesh3d": [
           {
            "colorbar": {
             "outlinewidth": 0,
             "ticks": ""
            },
            "type": "mesh3d"
           }
          ],
          "parcoords": [
           {
            "line": {
             "colorbar": {
              "outlinewidth": 0,
              "ticks": ""
             }
            },
            "type": "parcoords"
           }
          ],
          "pie": [
           {
            "automargin": true,
            "type": "pie"
           }
          ],
          "scatter": [
           {
            "fillpattern": {
             "fillmode": "overlay",
             "size": 10,
             "solidity": 0.2
            },
            "type": "scatter"
           }
          ],
          "scatter3d": [
           {
            "line": {
             "colorbar": {
              "outlinewidth": 0,
              "ticks": ""
             }
            },
            "marker": {
             "colorbar": {
              "outlinewidth": 0,
              "ticks": ""
             }
            },
            "type": "scatter3d"
           }
          ],
          "scattercarpet": [
           {
            "marker": {
             "colorbar": {
              "outlinewidth": 0,
              "ticks": ""
             }
            },
            "type": "scattercarpet"
           }
          ],
          "scattergeo": [
           {
            "marker": {
             "colorbar": {
              "outlinewidth": 0,
              "ticks": ""
             }
            },
            "type": "scattergeo"
           }
          ],
          "scattergl": [
           {
            "marker": {
             "colorbar": {
              "outlinewidth": 0,
              "ticks": ""
             }
            },
            "type": "scattergl"
           }
          ],
          "scattermapbox": [
           {
            "marker": {
             "colorbar": {
              "outlinewidth": 0,
              "ticks": ""
             }
            },
            "type": "scattermapbox"
           }
          ],
          "scatterpolar": [
           {
            "marker": {
             "colorbar": {
              "outlinewidth": 0,
              "ticks": ""
             }
            },
            "type": "scatterpolar"
           }
          ],
          "scatterpolargl": [
           {
            "marker": {
             "colorbar": {
              "outlinewidth": 0,
              "ticks": ""
             }
            },
            "type": "scatterpolargl"
           }
          ],
          "scatterternary": [
           {
            "marker": {
             "colorbar": {
              "outlinewidth": 0,
              "ticks": ""
             }
            },
            "type": "scatterternary"
           }
          ],
          "surface": [
           {
            "colorbar": {
             "outlinewidth": 0,
             "ticks": ""
            },
            "colorscale": [
             [
              0,
              "#0d0887"
             ],
             [
              0.1111111111111111,
              "#46039f"
             ],
             [
              0.2222222222222222,
              "#7201a8"
             ],
             [
              0.3333333333333333,
              "#9c179e"
             ],
             [
              0.4444444444444444,
              "#bd3786"
             ],
             [
              0.5555555555555556,
              "#d8576b"
             ],
             [
              0.6666666666666666,
              "#ed7953"
             ],
             [
              0.7777777777777778,
              "#fb9f3a"
             ],
             [
              0.8888888888888888,
              "#fdca26"
             ],
             [
              1,
              "#f0f921"
             ]
            ],
            "type": "surface"
           }
          ],
          "table": [
           {
            "cells": {
             "fill": {
              "color": "#EBF0F8"
             },
             "line": {
              "color": "white"
             }
            },
            "header": {
             "fill": {
              "color": "#C8D4E3"
             },
             "line": {
              "color": "white"
             }
            },
            "type": "table"
           }
          ]
         },
         "layout": {
          "annotationdefaults": {
           "arrowcolor": "#2a3f5f",
           "arrowhead": 0,
           "arrowwidth": 1
          },
          "autotypenumbers": "strict",
          "coloraxis": {
           "colorbar": {
            "outlinewidth": 0,
            "ticks": ""
           }
          },
          "colorscale": {
           "diverging": [
            [
             0,
             "#8e0152"
            ],
            [
             0.1,
             "#c51b7d"
            ],
            [
             0.2,
             "#de77ae"
            ],
            [
             0.3,
             "#f1b6da"
            ],
            [
             0.4,
             "#fde0ef"
            ],
            [
             0.5,
             "#f7f7f7"
            ],
            [
             0.6,
             "#e6f5d0"
            ],
            [
             0.7,
             "#b8e186"
            ],
            [
             0.8,
             "#7fbc41"
            ],
            [
             0.9,
             "#4d9221"
            ],
            [
             1,
             "#276419"
            ]
           ],
           "sequential": [
            [
             0,
             "#0d0887"
            ],
            [
             0.1111111111111111,
             "#46039f"
            ],
            [
             0.2222222222222222,
             "#7201a8"
            ],
            [
             0.3333333333333333,
             "#9c179e"
            ],
            [
             0.4444444444444444,
             "#bd3786"
            ],
            [
             0.5555555555555556,
             "#d8576b"
            ],
            [
             0.6666666666666666,
             "#ed7953"
            ],
            [
             0.7777777777777778,
             "#fb9f3a"
            ],
            [
             0.8888888888888888,
             "#fdca26"
            ],
            [
             1,
             "#f0f921"
            ]
           ],
           "sequentialminus": [
            [
             0,
             "#0d0887"
            ],
            [
             0.1111111111111111,
             "#46039f"
            ],
            [
             0.2222222222222222,
             "#7201a8"
            ],
            [
             0.3333333333333333,
             "#9c179e"
            ],
            [
             0.4444444444444444,
             "#bd3786"
            ],
            [
             0.5555555555555556,
             "#d8576b"
            ],
            [
             0.6666666666666666,
             "#ed7953"
            ],
            [
             0.7777777777777778,
             "#fb9f3a"
            ],
            [
             0.8888888888888888,
             "#fdca26"
            ],
            [
             1,
             "#f0f921"
            ]
           ]
          },
          "colorway": [
           "#636efa",
           "#EF553B",
           "#00cc96",
           "#ab63fa",
           "#FFA15A",
           "#19d3f3",
           "#FF6692",
           "#B6E880",
           "#FF97FF",
           "#FECB52"
          ],
          "font": {
           "color": "#2a3f5f"
          },
          "geo": {
           "bgcolor": "white",
           "lakecolor": "white",
           "landcolor": "#E5ECF6",
           "showlakes": true,
           "showland": true,
           "subunitcolor": "white"
          },
          "hoverlabel": {
           "align": "left"
          },
          "hovermode": "closest",
          "mapbox": {
           "style": "light"
          },
          "paper_bgcolor": "white",
          "plot_bgcolor": "#E5ECF6",
          "polar": {
           "angularaxis": {
            "gridcolor": "white",
            "linecolor": "white",
            "ticks": ""
           },
           "bgcolor": "#E5ECF6",
           "radialaxis": {
            "gridcolor": "white",
            "linecolor": "white",
            "ticks": ""
           }
          },
          "scene": {
           "xaxis": {
            "backgroundcolor": "#E5ECF6",
            "gridcolor": "white",
            "gridwidth": 2,
            "linecolor": "white",
            "showbackground": true,
            "ticks": "",
            "zerolinecolor": "white"
           },
           "yaxis": {
            "backgroundcolor": "#E5ECF6",
            "gridcolor": "white",
            "gridwidth": 2,
            "linecolor": "white",
            "showbackground": true,
            "ticks": "",
            "zerolinecolor": "white"
           },
           "zaxis": {
            "backgroundcolor": "#E5ECF6",
            "gridcolor": "white",
            "gridwidth": 2,
            "linecolor": "white",
            "showbackground": true,
            "ticks": "",
            "zerolinecolor": "white"
           }
          },
          "shapedefaults": {
           "line": {
            "color": "#2a3f5f"
           }
          },
          "ternary": {
           "aaxis": {
            "gridcolor": "white",
            "linecolor": "white",
            "ticks": ""
           },
           "baxis": {
            "gridcolor": "white",
            "linecolor": "white",
            "ticks": ""
           },
           "bgcolor": "#E5ECF6",
           "caxis": {
            "gridcolor": "white",
            "linecolor": "white",
            "ticks": ""
           }
          },
          "title": {
           "x": 0.05
          },
          "xaxis": {
           "automargin": true,
           "gridcolor": "white",
           "linecolor": "white",
           "ticks": "",
           "title": {
            "standoff": 15
           },
           "zerolinecolor": "white",
           "zerolinewidth": 2
          },
          "yaxis": {
           "automargin": true,
           "gridcolor": "white",
           "linecolor": "white",
           "ticks": "",
           "title": {
            "standoff": 15
           },
           "zerolinecolor": "white",
           "zerolinewidth": 2
          }
         }
        },
        "xaxis": {
         "anchor": "y",
         "domain": [
          0,
          1
         ],
         "title": {
          "text": "duration"
         }
        },
        "yaxis": {
         "anchor": "x",
         "domain": [
          0,
          1
         ],
         "title": {
          "text": "count"
         }
        }
       }
      },
      "text/html": [
       "<div>                            <div id=\"f6ee3ae0-55ef-4e71-b751-1807d8fcf20f\" class=\"plotly-graph-div\" style=\"height:525px; width:100%;\"></div>            <script type=\"text/javascript\">                require([\"plotly\"], function(Plotly) {                    window.PLOTLYENV=window.PLOTLYENV || {};                                    if (document.getElementById(\"f6ee3ae0-55ef-4e71-b751-1807d8fcf20f\")) {                    Plotly.newPlot(                        \"f6ee3ae0-55ef-4e71-b751-1807d8fcf20f\",                        [{\"alignmentgroup\":\"True\",\"bingroup\":\"x\",\"hovertemplate\":\"character=CROWD<br>duration=%{x}<br>count=%{y}<extra></extra>\",\"legendgroup\":\"CROWD\",\"marker\":{\"color\":\"#636efa\",\"pattern\":{\"shape\":\"\"}},\"name\":\"CROWD\",\"offsetgroup\":\"CROWD\",\"orientation\":\"v\",\"showlegend\":true,\"x\":[3.0,6.0,31.0,19.0,11.0,4.0,6.0,1.0],\"xaxis\":\"x\",\"yaxis\":\"y\",\"type\":\"histogram\"},{\"alignmentgroup\":\"True\",\"bingroup\":\"x\",\"hovertemplate\":\"character=JENNY<br>duration=%{x}<br>count=%{y}<extra></extra>\",\"legendgroup\":\"JENNY\",\"marker\":{\"color\":\"#EF553B\",\"pattern\":{\"shape\":\"\"}},\"name\":\"JENNY\",\"offsetgroup\":\"JENNY\",\"orientation\":\"v\",\"showlegend\":true,\"x\":[1.0,8.0,4.0,1.0,13.0,2.0,3.0,20.0,2.0,11.0,14.0,8.0,4.0,1.0,1.0,6.0,3.0,23.0,10.0,8.0,4.0,1.0,10.0,4.0,11.0,1.0,17.0,33.0,9.0,8.0,8.0,2.0,21.0,4.0,13.0,60.0,18.0,12.0,3.0,7.0,5.0,1.0,19.0,1.0,8.0,1.0,9.0,2.0,16.0,5.0,5.0,14.0,8.0,2.0,26.0,10.0,6.0,6.0,15.0,18.0,22.0,12.0,16.0,17.0,29.0,8.0,15.0,21.0,2.0,43.0,3.0,1.0,22.0,1.0,9.0,25.0,6.0,9.0,13.0,14.0,6.0,9.0,17.0],\"xaxis\":\"x\",\"yaxis\":\"y\",\"type\":\"histogram\"},{\"alignmentgroup\":\"True\",\"bingroup\":\"x\",\"hovertemplate\":\"character=FORREST<br>duration=%{x}<br>count=%{y}<extra></extra>\",\"legendgroup\":\"FORREST\",\"marker\":{\"color\":\"#00cc96\",\"pattern\":{\"shape\":\"\"}},\"name\":\"FORREST\",\"offsetgroup\":\"FORREST\",\"orientation\":\"v\",\"showlegend\":true,\"x\":[1.0,21.0,38.0,2.0,3.0,3.0,1.0,1.0,5.0,6.0,4.0,3.0,20.0,11.0,1.0,16.0,2.0,1.0,18.0,29.0,5.0,13.0,13.0,11.0,3.0,4.0,12.0,22.0,3.0,4.0,18.0,1.0,2.0,6.0,5.0,15.0,3.0,1.0,7.0,13.0,7.0,5.0,27.0,1.0,19.0,7.0,6.0,12.0,2.0,5.0,1.0,5.0,40.0,3.0,1.0,1.0,8.0,3.0,2.0,6.0,8.0,5.0,6.0,4.0,7.0,13.0,16.0,16.0,22.0,2.0,12.0,2.0,2.0,12.0,2.0,2.0,10.0,32.0,5.0,21.0,6.0,6.0,13.0,3.0,1.0,19.0,6.0,3.0,3.0,4.0,8.0,17.0,1.0,17.0,2.0,11.0,28.0,21.0,20.0,7.0,5.0,7.0,2.0,6.0,5.0,1.0,12.0,20.0,2.0,12.0,2.0,13.0,33.0,7.0,9.0,23.0,32.0,4.0,6.0,7.0,22.0,25.0,6.0,14.0,12.0,8.0,11.0,8.0,7.0,17.0,6.0,15.0,40.0,6.0,126.0,15.0,13.0,2.0,26.0],\"xaxis\":\"x\",\"yaxis\":\"y\",\"type\":\"histogram\"},{\"alignmentgroup\":\"True\",\"bingroup\":\"x\",\"hovertemplate\":\"character=FORRESTVO<br>duration=%{x}<br>count=%{y}<extra></extra>\",\"legendgroup\":\"FORRESTVO\",\"marker\":{\"color\":\"#ab63fa\",\"pattern\":{\"shape\":\"\"}},\"name\":\"FORRESTVO\",\"offsetgroup\":\"FORRESTVO\",\"orientation\":\"v\",\"showlegend\":true,\"x\":[7.0,6.0,3.0,10.0,16.0,8.0,2.0,3.0,2.0,2.0,5.0,11.0,8.0,7.0,2.0,1.0,13.0,4.0,2.0,2.0,5.0,2.0,3.0,11.0,5.0,1.0,17.0,13.0,2.0],\"xaxis\":\"x\",\"yaxis\":\"y\",\"type\":\"histogram\"},{\"alignmentgroup\":\"True\",\"bingroup\":\"x\",\"hovertemplate\":\"character=MAN<br>duration=%{x}<br>count=%{y}<extra></extra>\",\"legendgroup\":\"MAN\",\"marker\":{\"color\":\"#FFA15A\",\"pattern\":{\"shape\":\"\"}},\"name\":\"MAN\",\"offsetgroup\":\"MAN\",\"orientation\":\"v\",\"showlegend\":true,\"x\":[5.0,3.0,11.0,11.0,32.0,3.0,10.0,9.0,5.0,3.0,1.0,1.0,5.0,21.0,7.0,1.0,2.0,4.0,7.0,8.0,15.0,4.0,12.0,16.0,6.0,2.0,4.0,3.0,11.0],\"xaxis\":\"x\",\"yaxis\":\"y\",\"type\":\"histogram\"},{\"alignmentgroup\":\"True\",\"bingroup\":\"x\",\"hovertemplate\":\"character=DICKCAVETT<br>duration=%{x}<br>count=%{y}<extra></extra>\",\"legendgroup\":\"DICKCAVETT\",\"marker\":{\"color\":\"#19d3f3\",\"pattern\":{\"shape\":\"\"}},\"name\":\"DICKCAVETT\",\"offsetgroup\":\"DICKCAVETT\",\"orientation\":\"v\",\"showlegend\":true,\"x\":[16.0],\"xaxis\":\"x\",\"yaxis\":\"y\",\"type\":\"histogram\"},{\"alignmentgroup\":\"True\",\"bingroup\":\"x\",\"hovertemplate\":\"character=JOHNLENNON<br>duration=%{x}<br>count=%{y}<extra></extra>\",\"legendgroup\":\"JOHNLENNON\",\"marker\":{\"color\":\"#FF6692\",\"pattern\":{\"shape\":\"\"}},\"name\":\"JOHNLENNON\",\"offsetgroup\":\"JOHNLENNON\",\"orientation\":\"v\",\"showlegend\":true,\"x\":[13.0,10.0,3.0],\"xaxis\":\"x\",\"yaxis\":\"y\",\"type\":\"histogram\"},{\"alignmentgroup\":\"True\",\"bingroup\":\"x\",\"hovertemplate\":\"character=DAN<br>duration=%{x}<br>count=%{y}<extra></extra>\",\"legendgroup\":\"DAN\",\"marker\":{\"color\":\"#B6E880\",\"pattern\":{\"shape\":\"\"}},\"name\":\"DAN\",\"offsetgroup\":\"DAN\",\"orientation\":\"v\",\"showlegend\":true,\"x\":[13.0,4.0,19.0,19.0,16.0,44.0,15.0,17.0,24.0,26.0,2.0,18.0,15.0,3.0,5.0,2.0,1.0,5.0,5.0,1.0,32.0,11.0,5.0,3.0,6.0,3.0,30.0,3.0,12.0,22.0,23.0,4.0,24.0],\"xaxis\":\"x\",\"yaxis\":\"y\",\"type\":\"histogram\"},{\"alignmentgroup\":\"True\",\"bingroup\":\"x\",\"hovertemplate\":\"character=WOMAN<br>duration=%{x}<br>count=%{y}<extra></extra>\",\"legendgroup\":\"WOMAN\",\"marker\":{\"color\":\"#FF97FF\",\"pattern\":{\"shape\":\"\"}},\"name\":\"WOMAN\",\"offsetgroup\":\"WOMAN\",\"orientation\":\"v\",\"showlegend\":true,\"x\":[14.0,12.0,1.0,1.0,1.0,11.0,1.0,1.0],\"xaxis\":\"x\",\"yaxis\":\"y\",\"type\":\"histogram\"},{\"alignmentgroup\":\"True\",\"bingroup\":\"x\",\"hovertemplate\":\"character=PRESIDENTNIXON<br>duration=%{x}<br>count=%{y}<extra></extra>\",\"legendgroup\":\"PRESIDENTNIXON\",\"marker\":{\"color\":\"#FECB52\",\"pattern\":{\"shape\":\"\"}},\"name\":\"PRESIDENTNIXON\",\"offsetgroup\":\"PRESIDENTNIXON\",\"orientation\":\"v\",\"showlegend\":true,\"x\":[7.0,5.0,3.0],\"xaxis\":\"x\",\"yaxis\":\"y\",\"type\":\"histogram\"},{\"alignmentgroup\":\"True\",\"bingroup\":\"x\",\"hovertemplate\":\"character=MRSGUMP<br>duration=%{x}<br>count=%{y}<extra></extra>\",\"legendgroup\":\"MRSGUMP\",\"marker\":{\"color\":\"#636efa\",\"pattern\":{\"shape\":\"\"}},\"name\":\"MRSGUMP\",\"offsetgroup\":\"MRSGUMP\",\"orientation\":\"v\",\"showlegend\":true,\"x\":[24.0,2.0,10.0,1.0,14.0,3.0],\"xaxis\":\"x\",\"yaxis\":\"y\",\"type\":\"histogram\"},{\"alignmentgroup\":\"True\",\"bingroup\":\"x\",\"hovertemplate\":\"character=MRSBLUE<br>duration=%{x}<br>count=%{y}<extra></extra>\",\"legendgroup\":\"MRSBLUE\",\"marker\":{\"color\":\"#EF553B\",\"pattern\":{\"shape\":\"\"}},\"name\":\"MRSBLUE\",\"offsetgroup\":\"MRSBLUE\",\"orientation\":\"v\",\"showlegend\":true,\"x\":[8.0,4.0,2.0],\"xaxis\":\"x\",\"yaxis\":\"y\",\"type\":\"histogram\"},{\"alignmentgroup\":\"True\",\"bingroup\":\"x\",\"hovertemplate\":\"character=OLDMAN<br>duration=%{x}<br>count=%{y}<extra></extra>\",\"legendgroup\":\"OLDMAN\",\"marker\":{\"color\":\"#00cc96\",\"pattern\":{\"shape\":\"\"}},\"name\":\"OLDMAN\",\"offsetgroup\":\"OLDMAN\",\"orientation\":\"v\",\"showlegend\":true,\"x\":[3.0,11.0],\"xaxis\":\"x\",\"yaxis\":\"y\",\"type\":\"histogram\"},{\"alignmentgroup\":\"True\",\"bingroup\":\"x\",\"hovertemplate\":\"character=OLDWOMAN<br>duration=%{x}<br>count=%{y}<extra></extra>\",\"legendgroup\":\"OLDWOMAN\",\"marker\":{\"color\":\"#ab63fa\",\"pattern\":{\"shape\":\"\"}},\"name\":\"OLDWOMAN\",\"offsetgroup\":\"OLDWOMAN\",\"orientation\":\"v\",\"showlegend\":true,\"x\":[1.0,22.0,17.0,9.0,5.0,13.0,19.0,3.0],\"xaxis\":\"x\",\"yaxis\":\"y\",\"type\":\"histogram\"},{\"alignmentgroup\":\"True\",\"bingroup\":\"x\",\"hovertemplate\":\"character=FORRESTJR<br>duration=%{x}<br>count=%{y}<extra></extra>\",\"legendgroup\":\"FORRESTJR\",\"marker\":{\"color\":\"#FFA15A\",\"pattern\":{\"shape\":\"\"}},\"name\":\"FORRESTJR\",\"offsetgroup\":\"FORRESTJR\",\"orientation\":\"v\",\"showlegend\":true,\"x\":[2.0],\"xaxis\":\"x\",\"yaxis\":\"y\",\"type\":\"histogram\"}],                        {\"template\":{\"data\":{\"histogram2dcontour\":[{\"type\":\"histogram2dcontour\",\"colorbar\":{\"outlinewidth\":0,\"ticks\":\"\"},\"colorscale\":[[0.0,\"#0d0887\"],[0.1111111111111111,\"#46039f\"],[0.2222222222222222,\"#7201a8\"],[0.3333333333333333,\"#9c179e\"],[0.4444444444444444,\"#bd3786\"],[0.5555555555555556,\"#d8576b\"],[0.6666666666666666,\"#ed7953\"],[0.7777777777777778,\"#fb9f3a\"],[0.8888888888888888,\"#fdca26\"],[1.0,\"#f0f921\"]]}],\"choropleth\":[{\"type\":\"choropleth\",\"colorbar\":{\"outlinewidth\":0,\"ticks\":\"\"}}],\"histogram2d\":[{\"type\":\"histogram2d\",\"colorbar\":{\"outlinewidth\":0,\"ticks\":\"\"},\"colorscale\":[[0.0,\"#0d0887\"],[0.1111111111111111,\"#46039f\"],[0.2222222222222222,\"#7201a8\"],[0.3333333333333333,\"#9c179e\"],[0.4444444444444444,\"#bd3786\"],[0.5555555555555556,\"#d8576b\"],[0.6666666666666666,\"#ed7953\"],[0.7777777777777778,\"#fb9f3a\"],[0.8888888888888888,\"#fdca26\"],[1.0,\"#f0f921\"]]}],\"heatmap\":[{\"type\":\"heatmap\",\"colorbar\":{\"outlinewidth\":0,\"ticks\":\"\"},\"colorscale\":[[0.0,\"#0d0887\"],[0.1111111111111111,\"#46039f\"],[0.2222222222222222,\"#7201a8\"],[0.3333333333333333,\"#9c179e\"],[0.4444444444444444,\"#bd3786\"],[0.5555555555555556,\"#d8576b\"],[0.6666666666666666,\"#ed7953\"],[0.7777777777777778,\"#fb9f3a\"],[0.8888888888888888,\"#fdca26\"],[1.0,\"#f0f921\"]]}],\"heatmapgl\":[{\"type\":\"heatmapgl\",\"colorbar\":{\"outlinewidth\":0,\"ticks\":\"\"},\"colorscale\":[[0.0,\"#0d0887\"],[0.1111111111111111,\"#46039f\"],[0.2222222222222222,\"#7201a8\"],[0.3333333333333333,\"#9c179e\"],[0.4444444444444444,\"#bd3786\"],[0.5555555555555556,\"#d8576b\"],[0.6666666666666666,\"#ed7953\"],[0.7777777777777778,\"#fb9f3a\"],[0.8888888888888888,\"#fdca26\"],[1.0,\"#f0f921\"]]}],\"contourcarpet\":[{\"type\":\"contourcarpet\",\"colorbar\":{\"outlinewidth\":0,\"ticks\":\"\"}}],\"contour\":[{\"type\":\"contour\",\"colorbar\":{\"outlinewidth\":0,\"ticks\":\"\"},\"colorscale\":[[0.0,\"#0d0887\"],[0.1111111111111111,\"#46039f\"],[0.2222222222222222,\"#7201a8\"],[0.3333333333333333,\"#9c179e\"],[0.4444444444444444,\"#bd3786\"],[0.5555555555555556,\"#d8576b\"],[0.6666666666666666,\"#ed7953\"],[0.7777777777777778,\"#fb9f3a\"],[0.8888888888888888,\"#fdca26\"],[1.0,\"#f0f921\"]]}],\"surface\":[{\"type\":\"surface\",\"colorbar\":{\"outlinewidth\":0,\"ticks\":\"\"},\"colorscale\":[[0.0,\"#0d0887\"],[0.1111111111111111,\"#46039f\"],[0.2222222222222222,\"#7201a8\"],[0.3333333333333333,\"#9c179e\"],[0.4444444444444444,\"#bd3786\"],[0.5555555555555556,\"#d8576b\"],[0.6666666666666666,\"#ed7953\"],[0.7777777777777778,\"#fb9f3a\"],[0.8888888888888888,\"#fdca26\"],[1.0,\"#f0f921\"]]}],\"mesh3d\":[{\"type\":\"mesh3d\",\"colorbar\":{\"outlinewidth\":0,\"ticks\":\"\"}}],\"scatter\":[{\"fillpattern\":{\"fillmode\":\"overlay\",\"size\":10,\"solidity\":0.2},\"type\":\"scatter\"}],\"parcoords\":[{\"type\":\"parcoords\",\"line\":{\"colorbar\":{\"outlinewidth\":0,\"ticks\":\"\"}}}],\"scatterpolargl\":[{\"type\":\"scatterpolargl\",\"marker\":{\"colorbar\":{\"outlinewidth\":0,\"ticks\":\"\"}}}],\"bar\":[{\"error_x\":{\"color\":\"#2a3f5f\"},\"error_y\":{\"color\":\"#2a3f5f\"},\"marker\":{\"line\":{\"color\":\"#E5ECF6\",\"width\":0.5},\"pattern\":{\"fillmode\":\"overlay\",\"size\":10,\"solidity\":0.2}},\"type\":\"bar\"}],\"scattergeo\":[{\"type\":\"scattergeo\",\"marker\":{\"colorbar\":{\"outlinewidth\":0,\"ticks\":\"\"}}}],\"scatterpolar\":[{\"type\":\"scatterpolar\",\"marker\":{\"colorbar\":{\"outlinewidth\":0,\"ticks\":\"\"}}}],\"histogram\":[{\"marker\":{\"pattern\":{\"fillmode\":\"overlay\",\"size\":10,\"solidity\":0.2}},\"type\":\"histogram\"}],\"scattergl\":[{\"type\":\"scattergl\",\"marker\":{\"colorbar\":{\"outlinewidth\":0,\"ticks\":\"\"}}}],\"scatter3d\":[{\"type\":\"scatter3d\",\"line\":{\"colorbar\":{\"outlinewidth\":0,\"ticks\":\"\"}},\"marker\":{\"colorbar\":{\"outlinewidth\":0,\"ticks\":\"\"}}}],\"scattermapbox\":[{\"type\":\"scattermapbox\",\"marker\":{\"colorbar\":{\"outlinewidth\":0,\"ticks\":\"\"}}}],\"scatterternary\":[{\"type\":\"scatterternary\",\"marker\":{\"colorbar\":{\"outlinewidth\":0,\"ticks\":\"\"}}}],\"scattercarpet\":[{\"type\":\"scattercarpet\",\"marker\":{\"colorbar\":{\"outlinewidth\":0,\"ticks\":\"\"}}}],\"carpet\":[{\"aaxis\":{\"endlinecolor\":\"#2a3f5f\",\"gridcolor\":\"white\",\"linecolor\":\"white\",\"minorgridcolor\":\"white\",\"startlinecolor\":\"#2a3f5f\"},\"baxis\":{\"endlinecolor\":\"#2a3f5f\",\"gridcolor\":\"white\",\"linecolor\":\"white\",\"minorgridcolor\":\"white\",\"startlinecolor\":\"#2a3f5f\"},\"type\":\"carpet\"}],\"table\":[{\"cells\":{\"fill\":{\"color\":\"#EBF0F8\"},\"line\":{\"color\":\"white\"}},\"header\":{\"fill\":{\"color\":\"#C8D4E3\"},\"line\":{\"color\":\"white\"}},\"type\":\"table\"}],\"barpolar\":[{\"marker\":{\"line\":{\"color\":\"#E5ECF6\",\"width\":0.5},\"pattern\":{\"fillmode\":\"overlay\",\"size\":10,\"solidity\":0.2}},\"type\":\"barpolar\"}],\"pie\":[{\"automargin\":true,\"type\":\"pie\"}]},\"layout\":{\"autotypenumbers\":\"strict\",\"colorway\":[\"#636efa\",\"#EF553B\",\"#00cc96\",\"#ab63fa\",\"#FFA15A\",\"#19d3f3\",\"#FF6692\",\"#B6E880\",\"#FF97FF\",\"#FECB52\"],\"font\":{\"color\":\"#2a3f5f\"},\"hovermode\":\"closest\",\"hoverlabel\":{\"align\":\"left\"},\"paper_bgcolor\":\"white\",\"plot_bgcolor\":\"#E5ECF6\",\"polar\":{\"bgcolor\":\"#E5ECF6\",\"angularaxis\":{\"gridcolor\":\"white\",\"linecolor\":\"white\",\"ticks\":\"\"},\"radialaxis\":{\"gridcolor\":\"white\",\"linecolor\":\"white\",\"ticks\":\"\"}},\"ternary\":{\"bgcolor\":\"#E5ECF6\",\"aaxis\":{\"gridcolor\":\"white\",\"linecolor\":\"white\",\"ticks\":\"\"},\"baxis\":{\"gridcolor\":\"white\",\"linecolor\":\"white\",\"ticks\":\"\"},\"caxis\":{\"gridcolor\":\"white\",\"linecolor\":\"white\",\"ticks\":\"\"}},\"coloraxis\":{\"colorbar\":{\"outlinewidth\":0,\"ticks\":\"\"}},\"colorscale\":{\"sequential\":[[0.0,\"#0d0887\"],[0.1111111111111111,\"#46039f\"],[0.2222222222222222,\"#7201a8\"],[0.3333333333333333,\"#9c179e\"],[0.4444444444444444,\"#bd3786\"],[0.5555555555555556,\"#d8576b\"],[0.6666666666666666,\"#ed7953\"],[0.7777777777777778,\"#fb9f3a\"],[0.8888888888888888,\"#fdca26\"],[1.0,\"#f0f921\"]],\"sequentialminus\":[[0.0,\"#0d0887\"],[0.1111111111111111,\"#46039f\"],[0.2222222222222222,\"#7201a8\"],[0.3333333333333333,\"#9c179e\"],[0.4444444444444444,\"#bd3786\"],[0.5555555555555556,\"#d8576b\"],[0.6666666666666666,\"#ed7953\"],[0.7777777777777778,\"#fb9f3a\"],[0.8888888888888888,\"#fdca26\"],[1.0,\"#f0f921\"]],\"diverging\":[[0,\"#8e0152\"],[0.1,\"#c51b7d\"],[0.2,\"#de77ae\"],[0.3,\"#f1b6da\"],[0.4,\"#fde0ef\"],[0.5,\"#f7f7f7\"],[0.6,\"#e6f5d0\"],[0.7,\"#b8e186\"],[0.8,\"#7fbc41\"],[0.9,\"#4d9221\"],[1,\"#276419\"]]},\"xaxis\":{\"gridcolor\":\"white\",\"linecolor\":\"white\",\"ticks\":\"\",\"title\":{\"standoff\":15},\"zerolinecolor\":\"white\",\"automargin\":true,\"zerolinewidth\":2},\"yaxis\":{\"gridcolor\":\"white\",\"linecolor\":\"white\",\"ticks\":\"\",\"title\":{\"standoff\":15},\"zerolinecolor\":\"white\",\"automargin\":true,\"zerolinewidth\":2},\"scene\":{\"xaxis\":{\"backgroundcolor\":\"#E5ECF6\",\"gridcolor\":\"white\",\"linecolor\":\"white\",\"showbackground\":true,\"ticks\":\"\",\"zerolinecolor\":\"white\",\"gridwidth\":2},\"yaxis\":{\"backgroundcolor\":\"#E5ECF6\",\"gridcolor\":\"white\",\"linecolor\":\"white\",\"showbackground\":true,\"ticks\":\"\",\"zerolinecolor\":\"white\",\"gridwidth\":2},\"zaxis\":{\"backgroundcolor\":\"#E5ECF6\",\"gridcolor\":\"white\",\"linecolor\":\"white\",\"showbackground\":true,\"ticks\":\"\",\"zerolinecolor\":\"white\",\"gridwidth\":2}},\"shapedefaults\":{\"line\":{\"color\":\"#2a3f5f\"}},\"annotationdefaults\":{\"arrowcolor\":\"#2a3f5f\",\"arrowhead\":0,\"arrowwidth\":1},\"geo\":{\"bgcolor\":\"white\",\"landcolor\":\"#E5ECF6\",\"subunitcolor\":\"white\",\"showland\":true,\"showlakes\":true,\"lakecolor\":\"white\"},\"title\":{\"x\":0.05},\"mapbox\":{\"style\":\"light\"}}},\"xaxis\":{\"anchor\":\"y\",\"domain\":[0.0,1.0],\"title\":{\"text\":\"duration\"}},\"yaxis\":{\"anchor\":\"x\",\"domain\":[0.0,1.0],\"title\":{\"text\":\"count\"}},\"legend\":{\"title\":{\"text\":\"character\"},\"tracegroupgap\":0},\"margin\":{\"t\":60},\"barmode\":\"relative\"},                        {\"responsive\": true}                    ).then(function(){\n",
       "                            \n",
       "var gd = document.getElementById('f6ee3ae0-55ef-4e71-b751-1807d8fcf20f');\n",
       "var x = new MutationObserver(function (mutations, observer) {{\n",
       "        var display = window.getComputedStyle(gd).display;\n",
       "        if (!display || display === 'none') {{\n",
       "            console.log([gd, 'removed!']);\n",
       "            Plotly.purge(gd);\n",
       "            observer.disconnect();\n",
       "        }}\n",
       "}});\n",
       "\n",
       "// Listen for the removal of the full notebook cells\n",
       "var notebookContainer = gd.closest('#notebook-container');\n",
       "if (notebookContainer) {{\n",
       "    x.observe(notebookContainer, {childList: true});\n",
       "}}\n",
       "\n",
       "// Listen for the clearing of the current output cell\n",
       "var outputEl = gd.closest('.output');\n",
       "if (outputEl) {{\n",
       "    x.observe(outputEl, {childList: true});\n",
       "}}\n",
       "\n",
       "                        })                };                });            </script>        </div>"
      ]
     },
     "metadata": {},
     "output_type": "display_data"
    }
   ],
   "source": [
    "durations = pd.read_csv('/galitylab/data/studyforrest-data-annotations/old/structure/segments.csv')\n",
    "durations['durations'] = durations['end'] - durations['start']\n",
    "durations['durations'][0]\n",
    "\n",
    "start_time = 0\n",
    "start_movie = []\n",
    "for i, segment in enumerate(range(1,5)):\n",
    "    df = pd.read_csv(f'/galitylab/data/studyforrest-data-annotations/segments/avmovie/emotions_av_1s_events_run-{segment}_events.tsv', sep='\\t')\n",
    "    df['onset'] = df['onset'] + start_time\n",
    "    start_movie.append(df)\n",
    "    start_time += durations['durations'][i]\n",
    "start_movie = pd.concat(start_movie)\n",
    "\n",
    "start_movie = merge_consecutive_labels(start_movie, 'character')\n",
    "\n",
    "start_time = 0\n",
    "end_movie = []\n",
    "for i, segment in enumerate(range(5,9)):\n",
    "    df = pd.read_csv(f'/galitylab/data/studyforrest-data-annotations/segments/avmovie/emotions_av_1s_events_run-{segment}_events.tsv', sep='\\t')\n",
    "    df['onset'] = df['onset'] + start_time\n",
    "    end_movie.append(df)\n",
    "    start_time += durations['durations'][i]\n",
    "end_movie = pd.concat(end_movie)\n",
    "\n",
    "end_movie = merge_consecutive_labels(end_movie, 'character')\n",
    "\n",
    "px.histogram(start_movie, x='duration', color='character').show()\n",
    "px.histogram(end_movie, x='duration', color='character').show()"
   ]
  },
  {
   "cell_type": "code",
   "execution_count": 100,
   "id": "bd0f1b76",
   "metadata": {},
   "outputs": [],
   "source": [
    "import numpy as np\n",
    "start_movie_sum = start_movie.groupby('character').sum('duration')\n",
    "end_movie_sum = end_movie.groupby('character').sum('duration')\n",
    "joined = start_movie_sum.join(end_movie_sum, how='outer', lsuffix='_start', rsuffix='_end').reset_index()\n",
    "joined = joined.fillna(0)\n",
    "joined['duration_start'] = joined['duration_start'] / np.sum(joined['duration_start'])\n",
    "joined['duration_end'] = joined['duration_end'] / np.sum(joined['duration_end'])"
   ]
  },
  {
   "cell_type": "code",
   "execution_count": 103,
   "id": "ca781825",
   "metadata": {},
   "outputs": [
    {
     "data": {
      "application/vnd.plotly.v1+json": {
       "config": {
        "plotlyServerURL": "https://plot.ly"
       },
       "data": [
        {
         "alignmentgroup": "True",
         "hovertemplate": "variable=duration_start<br>character=%{x}<br>value=%{y}<extra></extra>",
         "legendgroup": "duration_start",
         "marker": {
          "color": "#636efa",
          "pattern": {
           "shape": ""
          }
         },
         "name": "duration_start",
         "offsetgroup": "duration_start",
         "orientation": "v",
         "showlegend": true,
         "textposition": "auto",
         "type": "bar",
         "x": [
          "ABBIEHOFFMAN",
          "BOY",
          "BUBBA",
          "CROWD",
          "DAN",
          "DICKCAVETT",
          "ELVISPRESLEY",
          "FORREST",
          "FORRESTJR",
          "FORRESTVO",
          "GIRL",
          "JENNY",
          "JENNYSDAD",
          "JOHNLENNON",
          "MAN",
          "MEN",
          "MRSBLUE",
          "MRSGUMP",
          "OLDERBOYS",
          "OLDMAN",
          "OLDWOMAN",
          "PRESIDENTJOHNSON",
          "PRESIDENTKENNEDY",
          "PRESIDENTNIXON",
          "WOMAN"
         ],
         "xaxis": "x",
         "y": [
          0.006510048117746957,
          0.0175488253608831,
          0.0642513444664591,
          0.0455703368242287,
          0.07047834701386924,
          0,
          0.013303141805830738,
          0.41211435041041605,
          0,
          0.0701953014435324,
          0.0022643645626945937,
          0.14774978771582226,
          0.012454005094820267,
          0,
          0.06623266345881687,
          0.0005660911406736484,
          0,
          0.03962637984715539,
          0.015567506368525332,
          0,
          0,
          0.0019813189923577695,
          0.0005660911406736484,
          0,
          0.013020096235493914
         ],
         "yaxis": "y"
        },
        {
         "alignmentgroup": "True",
         "hovertemplate": "variable=duration_end<br>character=%{x}<br>value=%{y}<extra></extra>",
         "legendgroup": "duration_end",
         "marker": {
          "color": "#EF553B",
          "pattern": {
           "shape": ""
          }
         },
         "name": "duration_end",
         "offsetgroup": "duration_end",
         "orientation": "v",
         "showlegend": true,
         "textposition": "auto",
         "type": "bar",
         "x": [
          "ABBIEHOFFMAN",
          "BOY",
          "BUBBA",
          "CROWD",
          "DAN",
          "DICKCAVETT",
          "ELVISPRESLEY",
          "FORREST",
          "FORRESTJR",
          "FORRESTVO",
          "GIRL",
          "JENNY",
          "JENNYSDAD",
          "JOHNLENNON",
          "MAN",
          "MEN",
          "MRSBLUE",
          "MRSGUMP",
          "OLDERBOYS",
          "OLDMAN",
          "OLDWOMAN",
          "PRESIDENTJOHNSON",
          "PRESIDENTKENNEDY",
          "PRESIDENTNIXON",
          "WOMAN"
         ],
         "xaxis": "x",
         "y": [
          0,
          0,
          0,
          0.022778402699662543,
          0.12148481439820022,
          0.0044994375703037125,
          0,
          0.41901012373453317,
          0.0005624296962879641,
          0.048650168728908885,
          0,
          0.24915635545556805,
          0,
          0.007311586051743532,
          0.06242969628796401,
          0,
          0.003937007874015748,
          0.015185601799775027,
          0,
          0.003937007874015748,
          0.025028121484814397,
          0,
          0,
          0.00421822272215973,
          0.011811023622047244
         ],
         "yaxis": "y"
        }
       ],
       "layout": {
        "barmode": "group",
        "legend": {
         "title": {
          "text": "variable"
         },
         "tracegroupgap": 0
        },
        "template": {
         "data": {
          "bar": [
           {
            "error_x": {
             "color": "#2a3f5f"
            },
            "error_y": {
             "color": "#2a3f5f"
            },
            "marker": {
             "line": {
              "color": "#E5ECF6",
              "width": 0.5
             },
             "pattern": {
              "fillmode": "overlay",
              "size": 10,
              "solidity": 0.2
             }
            },
            "type": "bar"
           }
          ],
          "barpolar": [
           {
            "marker": {
             "line": {
              "color": "#E5ECF6",
              "width": 0.5
             },
             "pattern": {
              "fillmode": "overlay",
              "size": 10,
              "solidity": 0.2
             }
            },
            "type": "barpolar"
           }
          ],
          "carpet": [
           {
            "aaxis": {
             "endlinecolor": "#2a3f5f",
             "gridcolor": "white",
             "linecolor": "white",
             "minorgridcolor": "white",
             "startlinecolor": "#2a3f5f"
            },
            "baxis": {
             "endlinecolor": "#2a3f5f",
             "gridcolor": "white",
             "linecolor": "white",
             "minorgridcolor": "white",
             "startlinecolor": "#2a3f5f"
            },
            "type": "carpet"
           }
          ],
          "choropleth": [
           {
            "colorbar": {
             "outlinewidth": 0,
             "ticks": ""
            },
            "type": "choropleth"
           }
          ],
          "contour": [
           {
            "colorbar": {
             "outlinewidth": 0,
             "ticks": ""
            },
            "colorscale": [
             [
              0,
              "#0d0887"
             ],
             [
              0.1111111111111111,
              "#46039f"
             ],
             [
              0.2222222222222222,
              "#7201a8"
             ],
             [
              0.3333333333333333,
              "#9c179e"
             ],
             [
              0.4444444444444444,
              "#bd3786"
             ],
             [
              0.5555555555555556,
              "#d8576b"
             ],
             [
              0.6666666666666666,
              "#ed7953"
             ],
             [
              0.7777777777777778,
              "#fb9f3a"
             ],
             [
              0.8888888888888888,
              "#fdca26"
             ],
             [
              1,
              "#f0f921"
             ]
            ],
            "type": "contour"
           }
          ],
          "contourcarpet": [
           {
            "colorbar": {
             "outlinewidth": 0,
             "ticks": ""
            },
            "type": "contourcarpet"
           }
          ],
          "heatmap": [
           {
            "colorbar": {
             "outlinewidth": 0,
             "ticks": ""
            },
            "colorscale": [
             [
              0,
              "#0d0887"
             ],
             [
              0.1111111111111111,
              "#46039f"
             ],
             [
              0.2222222222222222,
              "#7201a8"
             ],
             [
              0.3333333333333333,
              "#9c179e"
             ],
             [
              0.4444444444444444,
              "#bd3786"
             ],
             [
              0.5555555555555556,
              "#d8576b"
             ],
             [
              0.6666666666666666,
              "#ed7953"
             ],
             [
              0.7777777777777778,
              "#fb9f3a"
             ],
             [
              0.8888888888888888,
              "#fdca26"
             ],
             [
              1,
              "#f0f921"
             ]
            ],
            "type": "heatmap"
           }
          ],
          "heatmapgl": [
           {
            "colorbar": {
             "outlinewidth": 0,
             "ticks": ""
            },
            "colorscale": [
             [
              0,
              "#0d0887"
             ],
             [
              0.1111111111111111,
              "#46039f"
             ],
             [
              0.2222222222222222,
              "#7201a8"
             ],
             [
              0.3333333333333333,
              "#9c179e"
             ],
             [
              0.4444444444444444,
              "#bd3786"
             ],
             [
              0.5555555555555556,
              "#d8576b"
             ],
             [
              0.6666666666666666,
              "#ed7953"
             ],
             [
              0.7777777777777778,
              "#fb9f3a"
             ],
             [
              0.8888888888888888,
              "#fdca26"
             ],
             [
              1,
              "#f0f921"
             ]
            ],
            "type": "heatmapgl"
           }
          ],
          "histogram": [
           {
            "marker": {
             "pattern": {
              "fillmode": "overlay",
              "size": 10,
              "solidity": 0.2
             }
            },
            "type": "histogram"
           }
          ],
          "histogram2d": [
           {
            "colorbar": {
             "outlinewidth": 0,
             "ticks": ""
            },
            "colorscale": [
             [
              0,
              "#0d0887"
             ],
             [
              0.1111111111111111,
              "#46039f"
             ],
             [
              0.2222222222222222,
              "#7201a8"
             ],
             [
              0.3333333333333333,
              "#9c179e"
             ],
             [
              0.4444444444444444,
              "#bd3786"
             ],
             [
              0.5555555555555556,
              "#d8576b"
             ],
             [
              0.6666666666666666,
              "#ed7953"
             ],
             [
              0.7777777777777778,
              "#fb9f3a"
             ],
             [
              0.8888888888888888,
              "#fdca26"
             ],
             [
              1,
              "#f0f921"
             ]
            ],
            "type": "histogram2d"
           }
          ],
          "histogram2dcontour": [
           {
            "colorbar": {
             "outlinewidth": 0,
             "ticks": ""
            },
            "colorscale": [
             [
              0,
              "#0d0887"
             ],
             [
              0.1111111111111111,
              "#46039f"
             ],
             [
              0.2222222222222222,
              "#7201a8"
             ],
             [
              0.3333333333333333,
              "#9c179e"
             ],
             [
              0.4444444444444444,
              "#bd3786"
             ],
             [
              0.5555555555555556,
              "#d8576b"
             ],
             [
              0.6666666666666666,
              "#ed7953"
             ],
             [
              0.7777777777777778,
              "#fb9f3a"
             ],
             [
              0.8888888888888888,
              "#fdca26"
             ],
             [
              1,
              "#f0f921"
             ]
            ],
            "type": "histogram2dcontour"
           }
          ],
          "mesh3d": [
           {
            "colorbar": {
             "outlinewidth": 0,
             "ticks": ""
            },
            "type": "mesh3d"
           }
          ],
          "parcoords": [
           {
            "line": {
             "colorbar": {
              "outlinewidth": 0,
              "ticks": ""
             }
            },
            "type": "parcoords"
           }
          ],
          "pie": [
           {
            "automargin": true,
            "type": "pie"
           }
          ],
          "scatter": [
           {
            "fillpattern": {
             "fillmode": "overlay",
             "size": 10,
             "solidity": 0.2
            },
            "type": "scatter"
           }
          ],
          "scatter3d": [
           {
            "line": {
             "colorbar": {
              "outlinewidth": 0,
              "ticks": ""
             }
            },
            "marker": {
             "colorbar": {
              "outlinewidth": 0,
              "ticks": ""
             }
            },
            "type": "scatter3d"
           }
          ],
          "scattercarpet": [
           {
            "marker": {
             "colorbar": {
              "outlinewidth": 0,
              "ticks": ""
             }
            },
            "type": "scattercarpet"
           }
          ],
          "scattergeo": [
           {
            "marker": {
             "colorbar": {
              "outlinewidth": 0,
              "ticks": ""
             }
            },
            "type": "scattergeo"
           }
          ],
          "scattergl": [
           {
            "marker": {
             "colorbar": {
              "outlinewidth": 0,
              "ticks": ""
             }
            },
            "type": "scattergl"
           }
          ],
          "scattermapbox": [
           {
            "marker": {
             "colorbar": {
              "outlinewidth": 0,
              "ticks": ""
             }
            },
            "type": "scattermapbox"
           }
          ],
          "scatterpolar": [
           {
            "marker": {
             "colorbar": {
              "outlinewidth": 0,
              "ticks": ""
             }
            },
            "type": "scatterpolar"
           }
          ],
          "scatterpolargl": [
           {
            "marker": {
             "colorbar": {
              "outlinewidth": 0,
              "ticks": ""
             }
            },
            "type": "scatterpolargl"
           }
          ],
          "scatterternary": [
           {
            "marker": {
             "colorbar": {
              "outlinewidth": 0,
              "ticks": ""
             }
            },
            "type": "scatterternary"
           }
          ],
          "surface": [
           {
            "colorbar": {
             "outlinewidth": 0,
             "ticks": ""
            },
            "colorscale": [
             [
              0,
              "#0d0887"
             ],
             [
              0.1111111111111111,
              "#46039f"
             ],
             [
              0.2222222222222222,
              "#7201a8"
             ],
             [
              0.3333333333333333,
              "#9c179e"
             ],
             [
              0.4444444444444444,
              "#bd3786"
             ],
             [
              0.5555555555555556,
              "#d8576b"
             ],
             [
              0.6666666666666666,
              "#ed7953"
             ],
             [
              0.7777777777777778,
              "#fb9f3a"
             ],
             [
              0.8888888888888888,
              "#fdca26"
             ],
             [
              1,
              "#f0f921"
             ]
            ],
            "type": "surface"
           }
          ],
          "table": [
           {
            "cells": {
             "fill": {
              "color": "#EBF0F8"
             },
             "line": {
              "color": "white"
             }
            },
            "header": {
             "fill": {
              "color": "#C8D4E3"
             },
             "line": {
              "color": "white"
             }
            },
            "type": "table"
           }
          ]
         },
         "layout": {
          "annotationdefaults": {
           "arrowcolor": "#2a3f5f",
           "arrowhead": 0,
           "arrowwidth": 1
          },
          "autotypenumbers": "strict",
          "coloraxis": {
           "colorbar": {
            "outlinewidth": 0,
            "ticks": ""
           }
          },
          "colorscale": {
           "diverging": [
            [
             0,
             "#8e0152"
            ],
            [
             0.1,
             "#c51b7d"
            ],
            [
             0.2,
             "#de77ae"
            ],
            [
             0.3,
             "#f1b6da"
            ],
            [
             0.4,
             "#fde0ef"
            ],
            [
             0.5,
             "#f7f7f7"
            ],
            [
             0.6,
             "#e6f5d0"
            ],
            [
             0.7,
             "#b8e186"
            ],
            [
             0.8,
             "#7fbc41"
            ],
            [
             0.9,
             "#4d9221"
            ],
            [
             1,
             "#276419"
            ]
           ],
           "sequential": [
            [
             0,
             "#0d0887"
            ],
            [
             0.1111111111111111,
             "#46039f"
            ],
            [
             0.2222222222222222,
             "#7201a8"
            ],
            [
             0.3333333333333333,
             "#9c179e"
            ],
            [
             0.4444444444444444,
             "#bd3786"
            ],
            [
             0.5555555555555556,
             "#d8576b"
            ],
            [
             0.6666666666666666,
             "#ed7953"
            ],
            [
             0.7777777777777778,
             "#fb9f3a"
            ],
            [
             0.8888888888888888,
             "#fdca26"
            ],
            [
             1,
             "#f0f921"
            ]
           ],
           "sequentialminus": [
            [
             0,
             "#0d0887"
            ],
            [
             0.1111111111111111,
             "#46039f"
            ],
            [
             0.2222222222222222,
             "#7201a8"
            ],
            [
             0.3333333333333333,
             "#9c179e"
            ],
            [
             0.4444444444444444,
             "#bd3786"
            ],
            [
             0.5555555555555556,
             "#d8576b"
            ],
            [
             0.6666666666666666,
             "#ed7953"
            ],
            [
             0.7777777777777778,
             "#fb9f3a"
            ],
            [
             0.8888888888888888,
             "#fdca26"
            ],
            [
             1,
             "#f0f921"
            ]
           ]
          },
          "colorway": [
           "#636efa",
           "#EF553B",
           "#00cc96",
           "#ab63fa",
           "#FFA15A",
           "#19d3f3",
           "#FF6692",
           "#B6E880",
           "#FF97FF",
           "#FECB52"
          ],
          "font": {
           "color": "#2a3f5f"
          },
          "geo": {
           "bgcolor": "white",
           "lakecolor": "white",
           "landcolor": "#E5ECF6",
           "showlakes": true,
           "showland": true,
           "subunitcolor": "white"
          },
          "hoverlabel": {
           "align": "left"
          },
          "hovermode": "closest",
          "mapbox": {
           "style": "light"
          },
          "paper_bgcolor": "white",
          "plot_bgcolor": "#E5ECF6",
          "polar": {
           "angularaxis": {
            "gridcolor": "white",
            "linecolor": "white",
            "ticks": ""
           },
           "bgcolor": "#E5ECF6",
           "radialaxis": {
            "gridcolor": "white",
            "linecolor": "white",
            "ticks": ""
           }
          },
          "scene": {
           "xaxis": {
            "backgroundcolor": "#E5ECF6",
            "gridcolor": "white",
            "gridwidth": 2,
            "linecolor": "white",
            "showbackground": true,
            "ticks": "",
            "zerolinecolor": "white"
           },
           "yaxis": {
            "backgroundcolor": "#E5ECF6",
            "gridcolor": "white",
            "gridwidth": 2,
            "linecolor": "white",
            "showbackground": true,
            "ticks": "",
            "zerolinecolor": "white"
           },
           "zaxis": {
            "backgroundcolor": "#E5ECF6",
            "gridcolor": "white",
            "gridwidth": 2,
            "linecolor": "white",
            "showbackground": true,
            "ticks": "",
            "zerolinecolor": "white"
           }
          },
          "shapedefaults": {
           "line": {
            "color": "#2a3f5f"
           }
          },
          "ternary": {
           "aaxis": {
            "gridcolor": "white",
            "linecolor": "white",
            "ticks": ""
           },
           "baxis": {
            "gridcolor": "white",
            "linecolor": "white",
            "ticks": ""
           },
           "bgcolor": "#E5ECF6",
           "caxis": {
            "gridcolor": "white",
            "linecolor": "white",
            "ticks": ""
           }
          },
          "title": {
           "x": 0.05
          },
          "xaxis": {
           "automargin": true,
           "gridcolor": "white",
           "linecolor": "white",
           "ticks": "",
           "title": {
            "standoff": 15
           },
           "zerolinecolor": "white",
           "zerolinewidth": 2
          },
          "yaxis": {
           "automargin": true,
           "gridcolor": "white",
           "linecolor": "white",
           "ticks": "",
           "title": {
            "standoff": 15
           },
           "zerolinecolor": "white",
           "zerolinewidth": 2
          }
         }
        },
        "title": {
         "text": "percent of total exposure duration in half"
        },
        "xaxis": {
         "anchor": "y",
         "categoryorder": "total descending",
         "domain": [
          0,
          1
         ],
         "title": {
          "text": "character"
         }
        },
        "yaxis": {
         "anchor": "x",
         "domain": [
          0,
          1
         ],
         "title": {
          "text": "value"
         }
        }
       }
      },
      "text/html": [
       "<div>                            <div id=\"c133101d-5e3c-4b85-bfa2-612e2da16750\" class=\"plotly-graph-div\" style=\"height:525px; width:100%;\"></div>            <script type=\"text/javascript\">                require([\"plotly\"], function(Plotly) {                    window.PLOTLYENV=window.PLOTLYENV || {};                                    if (document.getElementById(\"c133101d-5e3c-4b85-bfa2-612e2da16750\")) {                    Plotly.newPlot(                        \"c133101d-5e3c-4b85-bfa2-612e2da16750\",                        [{\"alignmentgroup\":\"True\",\"hovertemplate\":\"variable=duration_start<br>character=%{x}<br>value=%{y}<extra></extra>\",\"legendgroup\":\"duration_start\",\"marker\":{\"color\":\"#636efa\",\"pattern\":{\"shape\":\"\"}},\"name\":\"duration_start\",\"offsetgroup\":\"duration_start\",\"orientation\":\"v\",\"showlegend\":true,\"textposition\":\"auto\",\"x\":[\"ABBIEHOFFMAN\",\"BOY\",\"BUBBA\",\"CROWD\",\"DAN\",\"DICKCAVETT\",\"ELVISPRESLEY\",\"FORREST\",\"FORRESTJR\",\"FORRESTVO\",\"GIRL\",\"JENNY\",\"JENNYSDAD\",\"JOHNLENNON\",\"MAN\",\"MEN\",\"MRSBLUE\",\"MRSGUMP\",\"OLDERBOYS\",\"OLDMAN\",\"OLDWOMAN\",\"PRESIDENTJOHNSON\",\"PRESIDENTKENNEDY\",\"PRESIDENTNIXON\",\"WOMAN\"],\"xaxis\":\"x\",\"y\":[0.006510048117746957,0.0175488253608831,0.0642513444664591,0.0455703368242287,0.07047834701386924,0.0,0.013303141805830738,0.41211435041041605,0.0,0.0701953014435324,0.0022643645626945937,0.14774978771582226,0.012454005094820267,0.0,0.06623266345881687,0.0005660911406736484,0.0,0.03962637984715539,0.015567506368525332,0.0,0.0,0.0019813189923577695,0.0005660911406736484,0.0,0.013020096235493914],\"yaxis\":\"y\",\"type\":\"bar\"},{\"alignmentgroup\":\"True\",\"hovertemplate\":\"variable=duration_end<br>character=%{x}<br>value=%{y}<extra></extra>\",\"legendgroup\":\"duration_end\",\"marker\":{\"color\":\"#EF553B\",\"pattern\":{\"shape\":\"\"}},\"name\":\"duration_end\",\"offsetgroup\":\"duration_end\",\"orientation\":\"v\",\"showlegend\":true,\"textposition\":\"auto\",\"x\":[\"ABBIEHOFFMAN\",\"BOY\",\"BUBBA\",\"CROWD\",\"DAN\",\"DICKCAVETT\",\"ELVISPRESLEY\",\"FORREST\",\"FORRESTJR\",\"FORRESTVO\",\"GIRL\",\"JENNY\",\"JENNYSDAD\",\"JOHNLENNON\",\"MAN\",\"MEN\",\"MRSBLUE\",\"MRSGUMP\",\"OLDERBOYS\",\"OLDMAN\",\"OLDWOMAN\",\"PRESIDENTJOHNSON\",\"PRESIDENTKENNEDY\",\"PRESIDENTNIXON\",\"WOMAN\"],\"xaxis\":\"x\",\"y\":[0.0,0.0,0.0,0.022778402699662543,0.12148481439820022,0.0044994375703037125,0.0,0.41901012373453317,0.0005624296962879641,0.048650168728908885,0.0,0.24915635545556805,0.0,0.007311586051743532,0.06242969628796401,0.0,0.003937007874015748,0.015185601799775027,0.0,0.003937007874015748,0.025028121484814397,0.0,0.0,0.00421822272215973,0.011811023622047244],\"yaxis\":\"y\",\"type\":\"bar\"}],                        {\"template\":{\"data\":{\"histogram2dcontour\":[{\"type\":\"histogram2dcontour\",\"colorbar\":{\"outlinewidth\":0,\"ticks\":\"\"},\"colorscale\":[[0.0,\"#0d0887\"],[0.1111111111111111,\"#46039f\"],[0.2222222222222222,\"#7201a8\"],[0.3333333333333333,\"#9c179e\"],[0.4444444444444444,\"#bd3786\"],[0.5555555555555556,\"#d8576b\"],[0.6666666666666666,\"#ed7953\"],[0.7777777777777778,\"#fb9f3a\"],[0.8888888888888888,\"#fdca26\"],[1.0,\"#f0f921\"]]}],\"choropleth\":[{\"type\":\"choropleth\",\"colorbar\":{\"outlinewidth\":0,\"ticks\":\"\"}}],\"histogram2d\":[{\"type\":\"histogram2d\",\"colorbar\":{\"outlinewidth\":0,\"ticks\":\"\"},\"colorscale\":[[0.0,\"#0d0887\"],[0.1111111111111111,\"#46039f\"],[0.2222222222222222,\"#7201a8\"],[0.3333333333333333,\"#9c179e\"],[0.4444444444444444,\"#bd3786\"],[0.5555555555555556,\"#d8576b\"],[0.6666666666666666,\"#ed7953\"],[0.7777777777777778,\"#fb9f3a\"],[0.8888888888888888,\"#fdca26\"],[1.0,\"#f0f921\"]]}],\"heatmap\":[{\"type\":\"heatmap\",\"colorbar\":{\"outlinewidth\":0,\"ticks\":\"\"},\"colorscale\":[[0.0,\"#0d0887\"],[0.1111111111111111,\"#46039f\"],[0.2222222222222222,\"#7201a8\"],[0.3333333333333333,\"#9c179e\"],[0.4444444444444444,\"#bd3786\"],[0.5555555555555556,\"#d8576b\"],[0.6666666666666666,\"#ed7953\"],[0.7777777777777778,\"#fb9f3a\"],[0.8888888888888888,\"#fdca26\"],[1.0,\"#f0f921\"]]}],\"heatmapgl\":[{\"type\":\"heatmapgl\",\"colorbar\":{\"outlinewidth\":0,\"ticks\":\"\"},\"colorscale\":[[0.0,\"#0d0887\"],[0.1111111111111111,\"#46039f\"],[0.2222222222222222,\"#7201a8\"],[0.3333333333333333,\"#9c179e\"],[0.4444444444444444,\"#bd3786\"],[0.5555555555555556,\"#d8576b\"],[0.6666666666666666,\"#ed7953\"],[0.7777777777777778,\"#fb9f3a\"],[0.8888888888888888,\"#fdca26\"],[1.0,\"#f0f921\"]]}],\"contourcarpet\":[{\"type\":\"contourcarpet\",\"colorbar\":{\"outlinewidth\":0,\"ticks\":\"\"}}],\"contour\":[{\"type\":\"contour\",\"colorbar\":{\"outlinewidth\":0,\"ticks\":\"\"},\"colorscale\":[[0.0,\"#0d0887\"],[0.1111111111111111,\"#46039f\"],[0.2222222222222222,\"#7201a8\"],[0.3333333333333333,\"#9c179e\"],[0.4444444444444444,\"#bd3786\"],[0.5555555555555556,\"#d8576b\"],[0.6666666666666666,\"#ed7953\"],[0.7777777777777778,\"#fb9f3a\"],[0.8888888888888888,\"#fdca26\"],[1.0,\"#f0f921\"]]}],\"surface\":[{\"type\":\"surface\",\"colorbar\":{\"outlinewidth\":0,\"ticks\":\"\"},\"colorscale\":[[0.0,\"#0d0887\"],[0.1111111111111111,\"#46039f\"],[0.2222222222222222,\"#7201a8\"],[0.3333333333333333,\"#9c179e\"],[0.4444444444444444,\"#bd3786\"],[0.5555555555555556,\"#d8576b\"],[0.6666666666666666,\"#ed7953\"],[0.7777777777777778,\"#fb9f3a\"],[0.8888888888888888,\"#fdca26\"],[1.0,\"#f0f921\"]]}],\"mesh3d\":[{\"type\":\"mesh3d\",\"colorbar\":{\"outlinewidth\":0,\"ticks\":\"\"}}],\"scatter\":[{\"fillpattern\":{\"fillmode\":\"overlay\",\"size\":10,\"solidity\":0.2},\"type\":\"scatter\"}],\"parcoords\":[{\"type\":\"parcoords\",\"line\":{\"colorbar\":{\"outlinewidth\":0,\"ticks\":\"\"}}}],\"scatterpolargl\":[{\"type\":\"scatterpolargl\",\"marker\":{\"colorbar\":{\"outlinewidth\":0,\"ticks\":\"\"}}}],\"bar\":[{\"error_x\":{\"color\":\"#2a3f5f\"},\"error_y\":{\"color\":\"#2a3f5f\"},\"marker\":{\"line\":{\"color\":\"#E5ECF6\",\"width\":0.5},\"pattern\":{\"fillmode\":\"overlay\",\"size\":10,\"solidity\":0.2}},\"type\":\"bar\"}],\"scattergeo\":[{\"type\":\"scattergeo\",\"marker\":{\"colorbar\":{\"outlinewidth\":0,\"ticks\":\"\"}}}],\"scatterpolar\":[{\"type\":\"scatterpolar\",\"marker\":{\"colorbar\":{\"outlinewidth\":0,\"ticks\":\"\"}}}],\"histogram\":[{\"marker\":{\"pattern\":{\"fillmode\":\"overlay\",\"size\":10,\"solidity\":0.2}},\"type\":\"histogram\"}],\"scattergl\":[{\"type\":\"scattergl\",\"marker\":{\"colorbar\":{\"outlinewidth\":0,\"ticks\":\"\"}}}],\"scatter3d\":[{\"type\":\"scatter3d\",\"line\":{\"colorbar\":{\"outlinewidth\":0,\"ticks\":\"\"}},\"marker\":{\"colorbar\":{\"outlinewidth\":0,\"ticks\":\"\"}}}],\"scattermapbox\":[{\"type\":\"scattermapbox\",\"marker\":{\"colorbar\":{\"outlinewidth\":0,\"ticks\":\"\"}}}],\"scatterternary\":[{\"type\":\"scatterternary\",\"marker\":{\"colorbar\":{\"outlinewidth\":0,\"ticks\":\"\"}}}],\"scattercarpet\":[{\"type\":\"scattercarpet\",\"marker\":{\"colorbar\":{\"outlinewidth\":0,\"ticks\":\"\"}}}],\"carpet\":[{\"aaxis\":{\"endlinecolor\":\"#2a3f5f\",\"gridcolor\":\"white\",\"linecolor\":\"white\",\"minorgridcolor\":\"white\",\"startlinecolor\":\"#2a3f5f\"},\"baxis\":{\"endlinecolor\":\"#2a3f5f\",\"gridcolor\":\"white\",\"linecolor\":\"white\",\"minorgridcolor\":\"white\",\"startlinecolor\":\"#2a3f5f\"},\"type\":\"carpet\"}],\"table\":[{\"cells\":{\"fill\":{\"color\":\"#EBF0F8\"},\"line\":{\"color\":\"white\"}},\"header\":{\"fill\":{\"color\":\"#C8D4E3\"},\"line\":{\"color\":\"white\"}},\"type\":\"table\"}],\"barpolar\":[{\"marker\":{\"line\":{\"color\":\"#E5ECF6\",\"width\":0.5},\"pattern\":{\"fillmode\":\"overlay\",\"size\":10,\"solidity\":0.2}},\"type\":\"barpolar\"}],\"pie\":[{\"automargin\":true,\"type\":\"pie\"}]},\"layout\":{\"autotypenumbers\":\"strict\",\"colorway\":[\"#636efa\",\"#EF553B\",\"#00cc96\",\"#ab63fa\",\"#FFA15A\",\"#19d3f3\",\"#FF6692\",\"#B6E880\",\"#FF97FF\",\"#FECB52\"],\"font\":{\"color\":\"#2a3f5f\"},\"hovermode\":\"closest\",\"hoverlabel\":{\"align\":\"left\"},\"paper_bgcolor\":\"white\",\"plot_bgcolor\":\"#E5ECF6\",\"polar\":{\"bgcolor\":\"#E5ECF6\",\"angularaxis\":{\"gridcolor\":\"white\",\"linecolor\":\"white\",\"ticks\":\"\"},\"radialaxis\":{\"gridcolor\":\"white\",\"linecolor\":\"white\",\"ticks\":\"\"}},\"ternary\":{\"bgcolor\":\"#E5ECF6\",\"aaxis\":{\"gridcolor\":\"white\",\"linecolor\":\"white\",\"ticks\":\"\"},\"baxis\":{\"gridcolor\":\"white\",\"linecolor\":\"white\",\"ticks\":\"\"},\"caxis\":{\"gridcolor\":\"white\",\"linecolor\":\"white\",\"ticks\":\"\"}},\"coloraxis\":{\"colorbar\":{\"outlinewidth\":0,\"ticks\":\"\"}},\"colorscale\":{\"sequential\":[[0.0,\"#0d0887\"],[0.1111111111111111,\"#46039f\"],[0.2222222222222222,\"#7201a8\"],[0.3333333333333333,\"#9c179e\"],[0.4444444444444444,\"#bd3786\"],[0.5555555555555556,\"#d8576b\"],[0.6666666666666666,\"#ed7953\"],[0.7777777777777778,\"#fb9f3a\"],[0.8888888888888888,\"#fdca26\"],[1.0,\"#f0f921\"]],\"sequentialminus\":[[0.0,\"#0d0887\"],[0.1111111111111111,\"#46039f\"],[0.2222222222222222,\"#7201a8\"],[0.3333333333333333,\"#9c179e\"],[0.4444444444444444,\"#bd3786\"],[0.5555555555555556,\"#d8576b\"],[0.6666666666666666,\"#ed7953\"],[0.7777777777777778,\"#fb9f3a\"],[0.8888888888888888,\"#fdca26\"],[1.0,\"#f0f921\"]],\"diverging\":[[0,\"#8e0152\"],[0.1,\"#c51b7d\"],[0.2,\"#de77ae\"],[0.3,\"#f1b6da\"],[0.4,\"#fde0ef\"],[0.5,\"#f7f7f7\"],[0.6,\"#e6f5d0\"],[0.7,\"#b8e186\"],[0.8,\"#7fbc41\"],[0.9,\"#4d9221\"],[1,\"#276419\"]]},\"xaxis\":{\"gridcolor\":\"white\",\"linecolor\":\"white\",\"ticks\":\"\",\"title\":{\"standoff\":15},\"zerolinecolor\":\"white\",\"automargin\":true,\"zerolinewidth\":2},\"yaxis\":{\"gridcolor\":\"white\",\"linecolor\":\"white\",\"ticks\":\"\",\"title\":{\"standoff\":15},\"zerolinecolor\":\"white\",\"automargin\":true,\"zerolinewidth\":2},\"scene\":{\"xaxis\":{\"backgroundcolor\":\"#E5ECF6\",\"gridcolor\":\"white\",\"linecolor\":\"white\",\"showbackground\":true,\"ticks\":\"\",\"zerolinecolor\":\"white\",\"gridwidth\":2},\"yaxis\":{\"backgroundcolor\":\"#E5ECF6\",\"gridcolor\":\"white\",\"linecolor\":\"white\",\"showbackground\":true,\"ticks\":\"\",\"zerolinecolor\":\"white\",\"gridwidth\":2},\"zaxis\":{\"backgroundcolor\":\"#E5ECF6\",\"gridcolor\":\"white\",\"linecolor\":\"white\",\"showbackground\":true,\"ticks\":\"\",\"zerolinecolor\":\"white\",\"gridwidth\":2}},\"shapedefaults\":{\"line\":{\"color\":\"#2a3f5f\"}},\"annotationdefaults\":{\"arrowcolor\":\"#2a3f5f\",\"arrowhead\":0,\"arrowwidth\":1},\"geo\":{\"bgcolor\":\"white\",\"landcolor\":\"#E5ECF6\",\"subunitcolor\":\"white\",\"showland\":true,\"showlakes\":true,\"lakecolor\":\"white\"},\"title\":{\"x\":0.05},\"mapbox\":{\"style\":\"light\"}}},\"xaxis\":{\"anchor\":\"y\",\"domain\":[0.0,1.0],\"title\":{\"text\":\"character\"},\"categoryorder\":\"total descending\"},\"yaxis\":{\"anchor\":\"x\",\"domain\":[0.0,1.0],\"title\":{\"text\":\"value\"}},\"legend\":{\"title\":{\"text\":\"variable\"},\"tracegroupgap\":0},\"title\":{\"text\":\"percent of total exposure duration in half\"},\"barmode\":\"group\"},                        {\"responsive\": true}                    ).then(function(){\n",
       "                            \n",
       "var gd = document.getElementById('c133101d-5e3c-4b85-bfa2-612e2da16750');\n",
       "var x = new MutationObserver(function (mutations, observer) {{\n",
       "        var display = window.getComputedStyle(gd).display;\n",
       "        if (!display || display === 'none') {{\n",
       "            console.log([gd, 'removed!']);\n",
       "            Plotly.purge(gd);\n",
       "            observer.disconnect();\n",
       "        }}\n",
       "}});\n",
       "\n",
       "// Listen for the removal of the full notebook cells\n",
       "var notebookContainer = gd.closest('#notebook-container');\n",
       "if (notebookContainer) {{\n",
       "    x.observe(notebookContainer, {childList: true});\n",
       "}}\n",
       "\n",
       "// Listen for the clearing of the current output cell\n",
       "var outputEl = gd.closest('.output');\n",
       "if (outputEl) {{\n",
       "    x.observe(outputEl, {childList: true});\n",
       "}}\n",
       "\n",
       "                        })                };                });            </script>        </div>"
      ]
     },
     "metadata": {},
     "output_type": "display_data"
    }
   ],
   "source": [
    "fig = px.bar(joined, x=\"character\", y=['duration_start', 'duration_end'], barmode='group', title='Percent of total exposure duration in half')\n",
    "fig.update_layout(barmode='group', xaxis={'categoryorder':'total descending'})\n",
    "fig.show()\n"
   ]
  },
  {
   "cell_type": "code",
   "execution_count": 93,
   "id": "995c9b45",
   "metadata": {},
   "outputs": [
    {
     "data": {
      "application/vnd.plotly.v1+json": {
       "config": {
        "plotlyServerURL": "https://plot.ly"
       },
       "data": [
        {
         "domain": {
          "x": [
           0,
           1
          ],
          "y": [
           0,
           1
          ]
         },
         "hovertemplate": "character=%{label}<br>duration_start=%{value}<extra></extra>",
         "labels": [
          "ABBIEHOFFMAN",
          "BOY",
          "BUBBA",
          "CROWD",
          "DAN",
          "DICKCAVETT",
          "ELVISPRESLEY",
          "FORREST",
          "FORRESTJR",
          "FORRESTVO",
          "GIRL",
          "JENNY",
          "JENNYSDAD",
          "JOHNLENNON",
          "MAN",
          "MEN",
          "MRSBLUE",
          "MRSGUMP",
          "OLDERBOYS",
          "OLDMAN",
          "OLDWOMAN",
          "PRESIDENTJOHNSON",
          "PRESIDENTKENNEDY",
          "PRESIDENTNIXON",
          "WOMAN"
         ],
         "legendgroup": "",
         "name": "",
         "showlegend": true,
         "type": "pie",
         "values": [
          23,
          62,
          227,
          161,
          249,
          0,
          47,
          1456,
          0,
          248,
          8,
          522,
          44,
          0,
          234,
          2,
          0,
          140,
          55,
          0,
          0,
          7,
          2,
          0,
          46
         ]
        }
       ],
       "layout": {
        "legend": {
         "tracegroupgap": 0
        },
        "template": {
         "data": {
          "bar": [
           {
            "error_x": {
             "color": "#2a3f5f"
            },
            "error_y": {
             "color": "#2a3f5f"
            },
            "marker": {
             "line": {
              "color": "#E5ECF6",
              "width": 0.5
             },
             "pattern": {
              "fillmode": "overlay",
              "size": 10,
              "solidity": 0.2
             }
            },
            "type": "bar"
           }
          ],
          "barpolar": [
           {
            "marker": {
             "line": {
              "color": "#E5ECF6",
              "width": 0.5
             },
             "pattern": {
              "fillmode": "overlay",
              "size": 10,
              "solidity": 0.2
             }
            },
            "type": "barpolar"
           }
          ],
          "carpet": [
           {
            "aaxis": {
             "endlinecolor": "#2a3f5f",
             "gridcolor": "white",
             "linecolor": "white",
             "minorgridcolor": "white",
             "startlinecolor": "#2a3f5f"
            },
            "baxis": {
             "endlinecolor": "#2a3f5f",
             "gridcolor": "white",
             "linecolor": "white",
             "minorgridcolor": "white",
             "startlinecolor": "#2a3f5f"
            },
            "type": "carpet"
           }
          ],
          "choropleth": [
           {
            "colorbar": {
             "outlinewidth": 0,
             "ticks": ""
            },
            "type": "choropleth"
           }
          ],
          "contour": [
           {
            "colorbar": {
             "outlinewidth": 0,
             "ticks": ""
            },
            "colorscale": [
             [
              0,
              "#0d0887"
             ],
             [
              0.1111111111111111,
              "#46039f"
             ],
             [
              0.2222222222222222,
              "#7201a8"
             ],
             [
              0.3333333333333333,
              "#9c179e"
             ],
             [
              0.4444444444444444,
              "#bd3786"
             ],
             [
              0.5555555555555556,
              "#d8576b"
             ],
             [
              0.6666666666666666,
              "#ed7953"
             ],
             [
              0.7777777777777778,
              "#fb9f3a"
             ],
             [
              0.8888888888888888,
              "#fdca26"
             ],
             [
              1,
              "#f0f921"
             ]
            ],
            "type": "contour"
           }
          ],
          "contourcarpet": [
           {
            "colorbar": {
             "outlinewidth": 0,
             "ticks": ""
            },
            "type": "contourcarpet"
           }
          ],
          "heatmap": [
           {
            "colorbar": {
             "outlinewidth": 0,
             "ticks": ""
            },
            "colorscale": [
             [
              0,
              "#0d0887"
             ],
             [
              0.1111111111111111,
              "#46039f"
             ],
             [
              0.2222222222222222,
              "#7201a8"
             ],
             [
              0.3333333333333333,
              "#9c179e"
             ],
             [
              0.4444444444444444,
              "#bd3786"
             ],
             [
              0.5555555555555556,
              "#d8576b"
             ],
             [
              0.6666666666666666,
              "#ed7953"
             ],
             [
              0.7777777777777778,
              "#fb9f3a"
             ],
             [
              0.8888888888888888,
              "#fdca26"
             ],
             [
              1,
              "#f0f921"
             ]
            ],
            "type": "heatmap"
           }
          ],
          "heatmapgl": [
           {
            "colorbar": {
             "outlinewidth": 0,
             "ticks": ""
            },
            "colorscale": [
             [
              0,
              "#0d0887"
             ],
             [
              0.1111111111111111,
              "#46039f"
             ],
             [
              0.2222222222222222,
              "#7201a8"
             ],
             [
              0.3333333333333333,
              "#9c179e"
             ],
             [
              0.4444444444444444,
              "#bd3786"
             ],
             [
              0.5555555555555556,
              "#d8576b"
             ],
             [
              0.6666666666666666,
              "#ed7953"
             ],
             [
              0.7777777777777778,
              "#fb9f3a"
             ],
             [
              0.8888888888888888,
              "#fdca26"
             ],
             [
              1,
              "#f0f921"
             ]
            ],
            "type": "heatmapgl"
           }
          ],
          "histogram": [
           {
            "marker": {
             "pattern": {
              "fillmode": "overlay",
              "size": 10,
              "solidity": 0.2
             }
            },
            "type": "histogram"
           }
          ],
          "histogram2d": [
           {
            "colorbar": {
             "outlinewidth": 0,
             "ticks": ""
            },
            "colorscale": [
             [
              0,
              "#0d0887"
             ],
             [
              0.1111111111111111,
              "#46039f"
             ],
             [
              0.2222222222222222,
              "#7201a8"
             ],
             [
              0.3333333333333333,
              "#9c179e"
             ],
             [
              0.4444444444444444,
              "#bd3786"
             ],
             [
              0.5555555555555556,
              "#d8576b"
             ],
             [
              0.6666666666666666,
              "#ed7953"
             ],
             [
              0.7777777777777778,
              "#fb9f3a"
             ],
             [
              0.8888888888888888,
              "#fdca26"
             ],
             [
              1,
              "#f0f921"
             ]
            ],
            "type": "histogram2d"
           }
          ],
          "histogram2dcontour": [
           {
            "colorbar": {
             "outlinewidth": 0,
             "ticks": ""
            },
            "colorscale": [
             [
              0,
              "#0d0887"
             ],
             [
              0.1111111111111111,
              "#46039f"
             ],
             [
              0.2222222222222222,
              "#7201a8"
             ],
             [
              0.3333333333333333,
              "#9c179e"
             ],
             [
              0.4444444444444444,
              "#bd3786"
             ],
             [
              0.5555555555555556,
              "#d8576b"
             ],
             [
              0.6666666666666666,
              "#ed7953"
             ],
             [
              0.7777777777777778,
              "#fb9f3a"
             ],
             [
              0.8888888888888888,
              "#fdca26"
             ],
             [
              1,
              "#f0f921"
             ]
            ],
            "type": "histogram2dcontour"
           }
          ],
          "mesh3d": [
           {
            "colorbar": {
             "outlinewidth": 0,
             "ticks": ""
            },
            "type": "mesh3d"
           }
          ],
          "parcoords": [
           {
            "line": {
             "colorbar": {
              "outlinewidth": 0,
              "ticks": ""
             }
            },
            "type": "parcoords"
           }
          ],
          "pie": [
           {
            "automargin": true,
            "type": "pie"
           }
          ],
          "scatter": [
           {
            "fillpattern": {
             "fillmode": "overlay",
             "size": 10,
             "solidity": 0.2
            },
            "type": "scatter"
           }
          ],
          "scatter3d": [
           {
            "line": {
             "colorbar": {
              "outlinewidth": 0,
              "ticks": ""
             }
            },
            "marker": {
             "colorbar": {
              "outlinewidth": 0,
              "ticks": ""
             }
            },
            "type": "scatter3d"
           }
          ],
          "scattercarpet": [
           {
            "marker": {
             "colorbar": {
              "outlinewidth": 0,
              "ticks": ""
             }
            },
            "type": "scattercarpet"
           }
          ],
          "scattergeo": [
           {
            "marker": {
             "colorbar": {
              "outlinewidth": 0,
              "ticks": ""
             }
            },
            "type": "scattergeo"
           }
          ],
          "scattergl": [
           {
            "marker": {
             "colorbar": {
              "outlinewidth": 0,
              "ticks": ""
             }
            },
            "type": "scattergl"
           }
          ],
          "scattermapbox": [
           {
            "marker": {
             "colorbar": {
              "outlinewidth": 0,
              "ticks": ""
             }
            },
            "type": "scattermapbox"
           }
          ],
          "scatterpolar": [
           {
            "marker": {
             "colorbar": {
              "outlinewidth": 0,
              "ticks": ""
             }
            },
            "type": "scatterpolar"
           }
          ],
          "scatterpolargl": [
           {
            "marker": {
             "colorbar": {
              "outlinewidth": 0,
              "ticks": ""
             }
            },
            "type": "scatterpolargl"
           }
          ],
          "scatterternary": [
           {
            "marker": {
             "colorbar": {
              "outlinewidth": 0,
              "ticks": ""
             }
            },
            "type": "scatterternary"
           }
          ],
          "surface": [
           {
            "colorbar": {
             "outlinewidth": 0,
             "ticks": ""
            },
            "colorscale": [
             [
              0,
              "#0d0887"
             ],
             [
              0.1111111111111111,
              "#46039f"
             ],
             [
              0.2222222222222222,
              "#7201a8"
             ],
             [
              0.3333333333333333,
              "#9c179e"
             ],
             [
              0.4444444444444444,
              "#bd3786"
             ],
             [
              0.5555555555555556,
              "#d8576b"
             ],
             [
              0.6666666666666666,
              "#ed7953"
             ],
             [
              0.7777777777777778,
              "#fb9f3a"
             ],
             [
              0.8888888888888888,
              "#fdca26"
             ],
             [
              1,
              "#f0f921"
             ]
            ],
            "type": "surface"
           }
          ],
          "table": [
           {
            "cells": {
             "fill": {
              "color": "#EBF0F8"
             },
             "line": {
              "color": "white"
             }
            },
            "header": {
             "fill": {
              "color": "#C8D4E3"
             },
             "line": {
              "color": "white"
             }
            },
            "type": "table"
           }
          ]
         },
         "layout": {
          "annotationdefaults": {
           "arrowcolor": "#2a3f5f",
           "arrowhead": 0,
           "arrowwidth": 1
          },
          "autotypenumbers": "strict",
          "coloraxis": {
           "colorbar": {
            "outlinewidth": 0,
            "ticks": ""
           }
          },
          "colorscale": {
           "diverging": [
            [
             0,
             "#8e0152"
            ],
            [
             0.1,
             "#c51b7d"
            ],
            [
             0.2,
             "#de77ae"
            ],
            [
             0.3,
             "#f1b6da"
            ],
            [
             0.4,
             "#fde0ef"
            ],
            [
             0.5,
             "#f7f7f7"
            ],
            [
             0.6,
             "#e6f5d0"
            ],
            [
             0.7,
             "#b8e186"
            ],
            [
             0.8,
             "#7fbc41"
            ],
            [
             0.9,
             "#4d9221"
            ],
            [
             1,
             "#276419"
            ]
           ],
           "sequential": [
            [
             0,
             "#0d0887"
            ],
            [
             0.1111111111111111,
             "#46039f"
            ],
            [
             0.2222222222222222,
             "#7201a8"
            ],
            [
             0.3333333333333333,
             "#9c179e"
            ],
            [
             0.4444444444444444,
             "#bd3786"
            ],
            [
             0.5555555555555556,
             "#d8576b"
            ],
            [
             0.6666666666666666,
             "#ed7953"
            ],
            [
             0.7777777777777778,
             "#fb9f3a"
            ],
            [
             0.8888888888888888,
             "#fdca26"
            ],
            [
             1,
             "#f0f921"
            ]
           ],
           "sequentialminus": [
            [
             0,
             "#0d0887"
            ],
            [
             0.1111111111111111,
             "#46039f"
            ],
            [
             0.2222222222222222,
             "#7201a8"
            ],
            [
             0.3333333333333333,
             "#9c179e"
            ],
            [
             0.4444444444444444,
             "#bd3786"
            ],
            [
             0.5555555555555556,
             "#d8576b"
            ],
            [
             0.6666666666666666,
             "#ed7953"
            ],
            [
             0.7777777777777778,
             "#fb9f3a"
            ],
            [
             0.8888888888888888,
             "#fdca26"
            ],
            [
             1,
             "#f0f921"
            ]
           ]
          },
          "colorway": [
           "#636efa",
           "#EF553B",
           "#00cc96",
           "#ab63fa",
           "#FFA15A",
           "#19d3f3",
           "#FF6692",
           "#B6E880",
           "#FF97FF",
           "#FECB52"
          ],
          "font": {
           "color": "#2a3f5f"
          },
          "geo": {
           "bgcolor": "white",
           "lakecolor": "white",
           "landcolor": "#E5ECF6",
           "showlakes": true,
           "showland": true,
           "subunitcolor": "white"
          },
          "hoverlabel": {
           "align": "left"
          },
          "hovermode": "closest",
          "mapbox": {
           "style": "light"
          },
          "paper_bgcolor": "white",
          "plot_bgcolor": "#E5ECF6",
          "polar": {
           "angularaxis": {
            "gridcolor": "white",
            "linecolor": "white",
            "ticks": ""
           },
           "bgcolor": "#E5ECF6",
           "radialaxis": {
            "gridcolor": "white",
            "linecolor": "white",
            "ticks": ""
           }
          },
          "scene": {
           "xaxis": {
            "backgroundcolor": "#E5ECF6",
            "gridcolor": "white",
            "gridwidth": 2,
            "linecolor": "white",
            "showbackground": true,
            "ticks": "",
            "zerolinecolor": "white"
           },
           "yaxis": {
            "backgroundcolor": "#E5ECF6",
            "gridcolor": "white",
            "gridwidth": 2,
            "linecolor": "white",
            "showbackground": true,
            "ticks": "",
            "zerolinecolor": "white"
           },
           "zaxis": {
            "backgroundcolor": "#E5ECF6",
            "gridcolor": "white",
            "gridwidth": 2,
            "linecolor": "white",
            "showbackground": true,
            "ticks": "",
            "zerolinecolor": "white"
           }
          },
          "shapedefaults": {
           "line": {
            "color": "#2a3f5f"
           }
          },
          "ternary": {
           "aaxis": {
            "gridcolor": "white",
            "linecolor": "white",
            "ticks": ""
           },
           "baxis": {
            "gridcolor": "white",
            "linecolor": "white",
            "ticks": ""
           },
           "bgcolor": "#E5ECF6",
           "caxis": {
            "gridcolor": "white",
            "linecolor": "white",
            "ticks": ""
           }
          },
          "title": {
           "x": 0.05
          },
          "xaxis": {
           "automargin": true,
           "gridcolor": "white",
           "linecolor": "white",
           "ticks": "",
           "title": {
            "standoff": 15
           },
           "zerolinecolor": "white",
           "zerolinewidth": 2
          },
          "yaxis": {
           "automargin": true,
           "gridcolor": "white",
           "linecolor": "white",
           "ticks": "",
           "title": {
            "standoff": 15
           },
           "zerolinecolor": "white",
           "zerolinewidth": 2
          }
         }
        },
        "title": {
         "text": "Beginning of movie character exposures"
        }
       }
      },
      "text/html": [
       "<div>                            <div id=\"a6cdf632-ab35-4f60-b64d-3b4c9dd02c91\" class=\"plotly-graph-div\" style=\"height:525px; width:100%;\"></div>            <script type=\"text/javascript\">                require([\"plotly\"], function(Plotly) {                    window.PLOTLYENV=window.PLOTLYENV || {};                                    if (document.getElementById(\"a6cdf632-ab35-4f60-b64d-3b4c9dd02c91\")) {                    Plotly.newPlot(                        \"a6cdf632-ab35-4f60-b64d-3b4c9dd02c91\",                        [{\"domain\":{\"x\":[0.0,1.0],\"y\":[0.0,1.0]},\"hovertemplate\":\"character=%{label}<br>duration_start=%{value}<extra></extra>\",\"labels\":[\"ABBIEHOFFMAN\",\"BOY\",\"BUBBA\",\"CROWD\",\"DAN\",\"DICKCAVETT\",\"ELVISPRESLEY\",\"FORREST\",\"FORRESTJR\",\"FORRESTVO\",\"GIRL\",\"JENNY\",\"JENNYSDAD\",\"JOHNLENNON\",\"MAN\",\"MEN\",\"MRSBLUE\",\"MRSGUMP\",\"OLDERBOYS\",\"OLDMAN\",\"OLDWOMAN\",\"PRESIDENTJOHNSON\",\"PRESIDENTKENNEDY\",\"PRESIDENTNIXON\",\"WOMAN\"],\"legendgroup\":\"\",\"name\":\"\",\"showlegend\":true,\"values\":[23.0,62.0,227.0,161.0,249.0,0.0,47.0,1456.0,0.0,248.0,8.0,522.0,44.0,0.0,234.0,2.0,0.0,140.0,55.0,0.0,0.0,7.0,2.0,0.0,46.0],\"type\":\"pie\"}],                        {\"template\":{\"data\":{\"histogram2dcontour\":[{\"type\":\"histogram2dcontour\",\"colorbar\":{\"outlinewidth\":0,\"ticks\":\"\"},\"colorscale\":[[0.0,\"#0d0887\"],[0.1111111111111111,\"#46039f\"],[0.2222222222222222,\"#7201a8\"],[0.3333333333333333,\"#9c179e\"],[0.4444444444444444,\"#bd3786\"],[0.5555555555555556,\"#d8576b\"],[0.6666666666666666,\"#ed7953\"],[0.7777777777777778,\"#fb9f3a\"],[0.8888888888888888,\"#fdca26\"],[1.0,\"#f0f921\"]]}],\"choropleth\":[{\"type\":\"choropleth\",\"colorbar\":{\"outlinewidth\":0,\"ticks\":\"\"}}],\"histogram2d\":[{\"type\":\"histogram2d\",\"colorbar\":{\"outlinewidth\":0,\"ticks\":\"\"},\"colorscale\":[[0.0,\"#0d0887\"],[0.1111111111111111,\"#46039f\"],[0.2222222222222222,\"#7201a8\"],[0.3333333333333333,\"#9c179e\"],[0.4444444444444444,\"#bd3786\"],[0.5555555555555556,\"#d8576b\"],[0.6666666666666666,\"#ed7953\"],[0.7777777777777778,\"#fb9f3a\"],[0.8888888888888888,\"#fdca26\"],[1.0,\"#f0f921\"]]}],\"heatmap\":[{\"type\":\"heatmap\",\"colorbar\":{\"outlinewidth\":0,\"ticks\":\"\"},\"colorscale\":[[0.0,\"#0d0887\"],[0.1111111111111111,\"#46039f\"],[0.2222222222222222,\"#7201a8\"],[0.3333333333333333,\"#9c179e\"],[0.4444444444444444,\"#bd3786\"],[0.5555555555555556,\"#d8576b\"],[0.6666666666666666,\"#ed7953\"],[0.7777777777777778,\"#fb9f3a\"],[0.8888888888888888,\"#fdca26\"],[1.0,\"#f0f921\"]]}],\"heatmapgl\":[{\"type\":\"heatmapgl\",\"colorbar\":{\"outlinewidth\":0,\"ticks\":\"\"},\"colorscale\":[[0.0,\"#0d0887\"],[0.1111111111111111,\"#46039f\"],[0.2222222222222222,\"#7201a8\"],[0.3333333333333333,\"#9c179e\"],[0.4444444444444444,\"#bd3786\"],[0.5555555555555556,\"#d8576b\"],[0.6666666666666666,\"#ed7953\"],[0.7777777777777778,\"#fb9f3a\"],[0.8888888888888888,\"#fdca26\"],[1.0,\"#f0f921\"]]}],\"contourcarpet\":[{\"type\":\"contourcarpet\",\"colorbar\":{\"outlinewidth\":0,\"ticks\":\"\"}}],\"contour\":[{\"type\":\"contour\",\"colorbar\":{\"outlinewidth\":0,\"ticks\":\"\"},\"colorscale\":[[0.0,\"#0d0887\"],[0.1111111111111111,\"#46039f\"],[0.2222222222222222,\"#7201a8\"],[0.3333333333333333,\"#9c179e\"],[0.4444444444444444,\"#bd3786\"],[0.5555555555555556,\"#d8576b\"],[0.6666666666666666,\"#ed7953\"],[0.7777777777777778,\"#fb9f3a\"],[0.8888888888888888,\"#fdca26\"],[1.0,\"#f0f921\"]]}],\"surface\":[{\"type\":\"surface\",\"colorbar\":{\"outlinewidth\":0,\"ticks\":\"\"},\"colorscale\":[[0.0,\"#0d0887\"],[0.1111111111111111,\"#46039f\"],[0.2222222222222222,\"#7201a8\"],[0.3333333333333333,\"#9c179e\"],[0.4444444444444444,\"#bd3786\"],[0.5555555555555556,\"#d8576b\"],[0.6666666666666666,\"#ed7953\"],[0.7777777777777778,\"#fb9f3a\"],[0.8888888888888888,\"#fdca26\"],[1.0,\"#f0f921\"]]}],\"mesh3d\":[{\"type\":\"mesh3d\",\"colorbar\":{\"outlinewidth\":0,\"ticks\":\"\"}}],\"scatter\":[{\"fillpattern\":{\"fillmode\":\"overlay\",\"size\":10,\"solidity\":0.2},\"type\":\"scatter\"}],\"parcoords\":[{\"type\":\"parcoords\",\"line\":{\"colorbar\":{\"outlinewidth\":0,\"ticks\":\"\"}}}],\"scatterpolargl\":[{\"type\":\"scatterpolargl\",\"marker\":{\"colorbar\":{\"outlinewidth\":0,\"ticks\":\"\"}}}],\"bar\":[{\"error_x\":{\"color\":\"#2a3f5f\"},\"error_y\":{\"color\":\"#2a3f5f\"},\"marker\":{\"line\":{\"color\":\"#E5ECF6\",\"width\":0.5},\"pattern\":{\"fillmode\":\"overlay\",\"size\":10,\"solidity\":0.2}},\"type\":\"bar\"}],\"scattergeo\":[{\"type\":\"scattergeo\",\"marker\":{\"colorbar\":{\"outlinewidth\":0,\"ticks\":\"\"}}}],\"scatterpolar\":[{\"type\":\"scatterpolar\",\"marker\":{\"colorbar\":{\"outlinewidth\":0,\"ticks\":\"\"}}}],\"histogram\":[{\"marker\":{\"pattern\":{\"fillmode\":\"overlay\",\"size\":10,\"solidity\":0.2}},\"type\":\"histogram\"}],\"scattergl\":[{\"type\":\"scattergl\",\"marker\":{\"colorbar\":{\"outlinewidth\":0,\"ticks\":\"\"}}}],\"scatter3d\":[{\"type\":\"scatter3d\",\"line\":{\"colorbar\":{\"outlinewidth\":0,\"ticks\":\"\"}},\"marker\":{\"colorbar\":{\"outlinewidth\":0,\"ticks\":\"\"}}}],\"scattermapbox\":[{\"type\":\"scattermapbox\",\"marker\":{\"colorbar\":{\"outlinewidth\":0,\"ticks\":\"\"}}}],\"scatterternary\":[{\"type\":\"scatterternary\",\"marker\":{\"colorbar\":{\"outlinewidth\":0,\"ticks\":\"\"}}}],\"scattercarpet\":[{\"type\":\"scattercarpet\",\"marker\":{\"colorbar\":{\"outlinewidth\":0,\"ticks\":\"\"}}}],\"carpet\":[{\"aaxis\":{\"endlinecolor\":\"#2a3f5f\",\"gridcolor\":\"white\",\"linecolor\":\"white\",\"minorgridcolor\":\"white\",\"startlinecolor\":\"#2a3f5f\"},\"baxis\":{\"endlinecolor\":\"#2a3f5f\",\"gridcolor\":\"white\",\"linecolor\":\"white\",\"minorgridcolor\":\"white\",\"startlinecolor\":\"#2a3f5f\"},\"type\":\"carpet\"}],\"table\":[{\"cells\":{\"fill\":{\"color\":\"#EBF0F8\"},\"line\":{\"color\":\"white\"}},\"header\":{\"fill\":{\"color\":\"#C8D4E3\"},\"line\":{\"color\":\"white\"}},\"type\":\"table\"}],\"barpolar\":[{\"marker\":{\"line\":{\"color\":\"#E5ECF6\",\"width\":0.5},\"pattern\":{\"fillmode\":\"overlay\",\"size\":10,\"solidity\":0.2}},\"type\":\"barpolar\"}],\"pie\":[{\"automargin\":true,\"type\":\"pie\"}]},\"layout\":{\"autotypenumbers\":\"strict\",\"colorway\":[\"#636efa\",\"#EF553B\",\"#00cc96\",\"#ab63fa\",\"#FFA15A\",\"#19d3f3\",\"#FF6692\",\"#B6E880\",\"#FF97FF\",\"#FECB52\"],\"font\":{\"color\":\"#2a3f5f\"},\"hovermode\":\"closest\",\"hoverlabel\":{\"align\":\"left\"},\"paper_bgcolor\":\"white\",\"plot_bgcolor\":\"#E5ECF6\",\"polar\":{\"bgcolor\":\"#E5ECF6\",\"angularaxis\":{\"gridcolor\":\"white\",\"linecolor\":\"white\",\"ticks\":\"\"},\"radialaxis\":{\"gridcolor\":\"white\",\"linecolor\":\"white\",\"ticks\":\"\"}},\"ternary\":{\"bgcolor\":\"#E5ECF6\",\"aaxis\":{\"gridcolor\":\"white\",\"linecolor\":\"white\",\"ticks\":\"\"},\"baxis\":{\"gridcolor\":\"white\",\"linecolor\":\"white\",\"ticks\":\"\"},\"caxis\":{\"gridcolor\":\"white\",\"linecolor\":\"white\",\"ticks\":\"\"}},\"coloraxis\":{\"colorbar\":{\"outlinewidth\":0,\"ticks\":\"\"}},\"colorscale\":{\"sequential\":[[0.0,\"#0d0887\"],[0.1111111111111111,\"#46039f\"],[0.2222222222222222,\"#7201a8\"],[0.3333333333333333,\"#9c179e\"],[0.4444444444444444,\"#bd3786\"],[0.5555555555555556,\"#d8576b\"],[0.6666666666666666,\"#ed7953\"],[0.7777777777777778,\"#fb9f3a\"],[0.8888888888888888,\"#fdca26\"],[1.0,\"#f0f921\"]],\"sequentialminus\":[[0.0,\"#0d0887\"],[0.1111111111111111,\"#46039f\"],[0.2222222222222222,\"#7201a8\"],[0.3333333333333333,\"#9c179e\"],[0.4444444444444444,\"#bd3786\"],[0.5555555555555556,\"#d8576b\"],[0.6666666666666666,\"#ed7953\"],[0.7777777777777778,\"#fb9f3a\"],[0.8888888888888888,\"#fdca26\"],[1.0,\"#f0f921\"]],\"diverging\":[[0,\"#8e0152\"],[0.1,\"#c51b7d\"],[0.2,\"#de77ae\"],[0.3,\"#f1b6da\"],[0.4,\"#fde0ef\"],[0.5,\"#f7f7f7\"],[0.6,\"#e6f5d0\"],[0.7,\"#b8e186\"],[0.8,\"#7fbc41\"],[0.9,\"#4d9221\"],[1,\"#276419\"]]},\"xaxis\":{\"gridcolor\":\"white\",\"linecolor\":\"white\",\"ticks\":\"\",\"title\":{\"standoff\":15},\"zerolinecolor\":\"white\",\"automargin\":true,\"zerolinewidth\":2},\"yaxis\":{\"gridcolor\":\"white\",\"linecolor\":\"white\",\"ticks\":\"\",\"title\":{\"standoff\":15},\"zerolinecolor\":\"white\",\"automargin\":true,\"zerolinewidth\":2},\"scene\":{\"xaxis\":{\"backgroundcolor\":\"#E5ECF6\",\"gridcolor\":\"white\",\"linecolor\":\"white\",\"showbackground\":true,\"ticks\":\"\",\"zerolinecolor\":\"white\",\"gridwidth\":2},\"yaxis\":{\"backgroundcolor\":\"#E5ECF6\",\"gridcolor\":\"white\",\"linecolor\":\"white\",\"showbackground\":true,\"ticks\":\"\",\"zerolinecolor\":\"white\",\"gridwidth\":2},\"zaxis\":{\"backgroundcolor\":\"#E5ECF6\",\"gridcolor\":\"white\",\"linecolor\":\"white\",\"showbackground\":true,\"ticks\":\"\",\"zerolinecolor\":\"white\",\"gridwidth\":2}},\"shapedefaults\":{\"line\":{\"color\":\"#2a3f5f\"}},\"annotationdefaults\":{\"arrowcolor\":\"#2a3f5f\",\"arrowhead\":0,\"arrowwidth\":1},\"geo\":{\"bgcolor\":\"white\",\"landcolor\":\"#E5ECF6\",\"subunitcolor\":\"white\",\"showland\":true,\"showlakes\":true,\"lakecolor\":\"white\"},\"title\":{\"x\":0.05},\"mapbox\":{\"style\":\"light\"}}},\"legend\":{\"tracegroupgap\":0},\"title\":{\"text\":\"Beginning of movie character exposures\"}},                        {\"responsive\": true}                    ).then(function(){\n",
       "                            \n",
       "var gd = document.getElementById('a6cdf632-ab35-4f60-b64d-3b4c9dd02c91');\n",
       "var x = new MutationObserver(function (mutations, observer) {{\n",
       "        var display = window.getComputedStyle(gd).display;\n",
       "        if (!display || display === 'none') {{\n",
       "            console.log([gd, 'removed!']);\n",
       "            Plotly.purge(gd);\n",
       "            observer.disconnect();\n",
       "        }}\n",
       "}});\n",
       "\n",
       "// Listen for the removal of the full notebook cells\n",
       "var notebookContainer = gd.closest('#notebook-container');\n",
       "if (notebookContainer) {{\n",
       "    x.observe(notebookContainer, {childList: true});\n",
       "}}\n",
       "\n",
       "// Listen for the clearing of the current output cell\n",
       "var outputEl = gd.closest('.output');\n",
       "if (outputEl) {{\n",
       "    x.observe(outputEl, {childList: true});\n",
       "}}\n",
       "\n",
       "                        })                };                });            </script>        </div>"
      ]
     },
     "metadata": {},
     "output_type": "display_data"
    },
    {
     "data": {
      "application/vnd.plotly.v1+json": {
       "config": {
        "plotlyServerURL": "https://plot.ly"
       },
       "data": [
        {
         "domain": {
          "x": [
           0,
           1
          ],
          "y": [
           0,
           1
          ]
         },
         "hovertemplate": "character=%{label}<br>duration_end=%{value}<extra></extra>",
         "labels": [
          "ABBIEHOFFMAN",
          "BOY",
          "BUBBA",
          "CROWD",
          "DAN",
          "DICKCAVETT",
          "ELVISPRESLEY",
          "FORREST",
          "FORRESTJR",
          "FORRESTVO",
          "GIRL",
          "JENNY",
          "JENNYSDAD",
          "JOHNLENNON",
          "MAN",
          "MEN",
          "MRSBLUE",
          "MRSGUMP",
          "OLDERBOYS",
          "OLDMAN",
          "OLDWOMAN",
          "PRESIDENTJOHNSON",
          "PRESIDENTKENNEDY",
          "PRESIDENTNIXON",
          "WOMAN"
         ],
         "legendgroup": "",
         "name": "",
         "showlegend": true,
         "type": "pie",
         "values": [
          0,
          0,
          0,
          81,
          432,
          16,
          0,
          1490,
          2,
          173,
          0,
          886,
          0,
          26,
          222,
          0,
          14,
          54,
          0,
          14,
          89,
          0,
          0,
          15,
          42
         ]
        }
       ],
       "layout": {
        "legend": {
         "tracegroupgap": 0
        },
        "template": {
         "data": {
          "bar": [
           {
            "error_x": {
             "color": "#2a3f5f"
            },
            "error_y": {
             "color": "#2a3f5f"
            },
            "marker": {
             "line": {
              "color": "#E5ECF6",
              "width": 0.5
             },
             "pattern": {
              "fillmode": "overlay",
              "size": 10,
              "solidity": 0.2
             }
            },
            "type": "bar"
           }
          ],
          "barpolar": [
           {
            "marker": {
             "line": {
              "color": "#E5ECF6",
              "width": 0.5
             },
             "pattern": {
              "fillmode": "overlay",
              "size": 10,
              "solidity": 0.2
             }
            },
            "type": "barpolar"
           }
          ],
          "carpet": [
           {
            "aaxis": {
             "endlinecolor": "#2a3f5f",
             "gridcolor": "white",
             "linecolor": "white",
             "minorgridcolor": "white",
             "startlinecolor": "#2a3f5f"
            },
            "baxis": {
             "endlinecolor": "#2a3f5f",
             "gridcolor": "white",
             "linecolor": "white",
             "minorgridcolor": "white",
             "startlinecolor": "#2a3f5f"
            },
            "type": "carpet"
           }
          ],
          "choropleth": [
           {
            "colorbar": {
             "outlinewidth": 0,
             "ticks": ""
            },
            "type": "choropleth"
           }
          ],
          "contour": [
           {
            "colorbar": {
             "outlinewidth": 0,
             "ticks": ""
            },
            "colorscale": [
             [
              0,
              "#0d0887"
             ],
             [
              0.1111111111111111,
              "#46039f"
             ],
             [
              0.2222222222222222,
              "#7201a8"
             ],
             [
              0.3333333333333333,
              "#9c179e"
             ],
             [
              0.4444444444444444,
              "#bd3786"
             ],
             [
              0.5555555555555556,
              "#d8576b"
             ],
             [
              0.6666666666666666,
              "#ed7953"
             ],
             [
              0.7777777777777778,
              "#fb9f3a"
             ],
             [
              0.8888888888888888,
              "#fdca26"
             ],
             [
              1,
              "#f0f921"
             ]
            ],
            "type": "contour"
           }
          ],
          "contourcarpet": [
           {
            "colorbar": {
             "outlinewidth": 0,
             "ticks": ""
            },
            "type": "contourcarpet"
           }
          ],
          "heatmap": [
           {
            "colorbar": {
             "outlinewidth": 0,
             "ticks": ""
            },
            "colorscale": [
             [
              0,
              "#0d0887"
             ],
             [
              0.1111111111111111,
              "#46039f"
             ],
             [
              0.2222222222222222,
              "#7201a8"
             ],
             [
              0.3333333333333333,
              "#9c179e"
             ],
             [
              0.4444444444444444,
              "#bd3786"
             ],
             [
              0.5555555555555556,
              "#d8576b"
             ],
             [
              0.6666666666666666,
              "#ed7953"
             ],
             [
              0.7777777777777778,
              "#fb9f3a"
             ],
             [
              0.8888888888888888,
              "#fdca26"
             ],
             [
              1,
              "#f0f921"
             ]
            ],
            "type": "heatmap"
           }
          ],
          "heatmapgl": [
           {
            "colorbar": {
             "outlinewidth": 0,
             "ticks": ""
            },
            "colorscale": [
             [
              0,
              "#0d0887"
             ],
             [
              0.1111111111111111,
              "#46039f"
             ],
             [
              0.2222222222222222,
              "#7201a8"
             ],
             [
              0.3333333333333333,
              "#9c179e"
             ],
             [
              0.4444444444444444,
              "#bd3786"
             ],
             [
              0.5555555555555556,
              "#d8576b"
             ],
             [
              0.6666666666666666,
              "#ed7953"
             ],
             [
              0.7777777777777778,
              "#fb9f3a"
             ],
             [
              0.8888888888888888,
              "#fdca26"
             ],
             [
              1,
              "#f0f921"
             ]
            ],
            "type": "heatmapgl"
           }
          ],
          "histogram": [
           {
            "marker": {
             "pattern": {
              "fillmode": "overlay",
              "size": 10,
              "solidity": 0.2
             }
            },
            "type": "histogram"
           }
          ],
          "histogram2d": [
           {
            "colorbar": {
             "outlinewidth": 0,
             "ticks": ""
            },
            "colorscale": [
             [
              0,
              "#0d0887"
             ],
             [
              0.1111111111111111,
              "#46039f"
             ],
             [
              0.2222222222222222,
              "#7201a8"
             ],
             [
              0.3333333333333333,
              "#9c179e"
             ],
             [
              0.4444444444444444,
              "#bd3786"
             ],
             [
              0.5555555555555556,
              "#d8576b"
             ],
             [
              0.6666666666666666,
              "#ed7953"
             ],
             [
              0.7777777777777778,
              "#fb9f3a"
             ],
             [
              0.8888888888888888,
              "#fdca26"
             ],
             [
              1,
              "#f0f921"
             ]
            ],
            "type": "histogram2d"
           }
          ],
          "histogram2dcontour": [
           {
            "colorbar": {
             "outlinewidth": 0,
             "ticks": ""
            },
            "colorscale": [
             [
              0,
              "#0d0887"
             ],
             [
              0.1111111111111111,
              "#46039f"
             ],
             [
              0.2222222222222222,
              "#7201a8"
             ],
             [
              0.3333333333333333,
              "#9c179e"
             ],
             [
              0.4444444444444444,
              "#bd3786"
             ],
             [
              0.5555555555555556,
              "#d8576b"
             ],
             [
              0.6666666666666666,
              "#ed7953"
             ],
             [
              0.7777777777777778,
              "#fb9f3a"
             ],
             [
              0.8888888888888888,
              "#fdca26"
             ],
             [
              1,
              "#f0f921"
             ]
            ],
            "type": "histogram2dcontour"
           }
          ],
          "mesh3d": [
           {
            "colorbar": {
             "outlinewidth": 0,
             "ticks": ""
            },
            "type": "mesh3d"
           }
          ],
          "parcoords": [
           {
            "line": {
             "colorbar": {
              "outlinewidth": 0,
              "ticks": ""
             }
            },
            "type": "parcoords"
           }
          ],
          "pie": [
           {
            "automargin": true,
            "type": "pie"
           }
          ],
          "scatter": [
           {
            "fillpattern": {
             "fillmode": "overlay",
             "size": 10,
             "solidity": 0.2
            },
            "type": "scatter"
           }
          ],
          "scatter3d": [
           {
            "line": {
             "colorbar": {
              "outlinewidth": 0,
              "ticks": ""
             }
            },
            "marker": {
             "colorbar": {
              "outlinewidth": 0,
              "ticks": ""
             }
            },
            "type": "scatter3d"
           }
          ],
          "scattercarpet": [
           {
            "marker": {
             "colorbar": {
              "outlinewidth": 0,
              "ticks": ""
             }
            },
            "type": "scattercarpet"
           }
          ],
          "scattergeo": [
           {
            "marker": {
             "colorbar": {
              "outlinewidth": 0,
              "ticks": ""
             }
            },
            "type": "scattergeo"
           }
          ],
          "scattergl": [
           {
            "marker": {
             "colorbar": {
              "outlinewidth": 0,
              "ticks": ""
             }
            },
            "type": "scattergl"
           }
          ],
          "scattermapbox": [
           {
            "marker": {
             "colorbar": {
              "outlinewidth": 0,
              "ticks": ""
             }
            },
            "type": "scattermapbox"
           }
          ],
          "scatterpolar": [
           {
            "marker": {
             "colorbar": {
              "outlinewidth": 0,
              "ticks": ""
             }
            },
            "type": "scatterpolar"
           }
          ],
          "scatterpolargl": [
           {
            "marker": {
             "colorbar": {
              "outlinewidth": 0,
              "ticks": ""
             }
            },
            "type": "scatterpolargl"
           }
          ],
          "scatterternary": [
           {
            "marker": {
             "colorbar": {
              "outlinewidth": 0,
              "ticks": ""
             }
            },
            "type": "scatterternary"
           }
          ],
          "surface": [
           {
            "colorbar": {
             "outlinewidth": 0,
             "ticks": ""
            },
            "colorscale": [
             [
              0,
              "#0d0887"
             ],
             [
              0.1111111111111111,
              "#46039f"
             ],
             [
              0.2222222222222222,
              "#7201a8"
             ],
             [
              0.3333333333333333,
              "#9c179e"
             ],
             [
              0.4444444444444444,
              "#bd3786"
             ],
             [
              0.5555555555555556,
              "#d8576b"
             ],
             [
              0.6666666666666666,
              "#ed7953"
             ],
             [
              0.7777777777777778,
              "#fb9f3a"
             ],
             [
              0.8888888888888888,
              "#fdca26"
             ],
             [
              1,
              "#f0f921"
             ]
            ],
            "type": "surface"
           }
          ],
          "table": [
           {
            "cells": {
             "fill": {
              "color": "#EBF0F8"
             },
             "line": {
              "color": "white"
             }
            },
            "header": {
             "fill": {
              "color": "#C8D4E3"
             },
             "line": {
              "color": "white"
             }
            },
            "type": "table"
           }
          ]
         },
         "layout": {
          "annotationdefaults": {
           "arrowcolor": "#2a3f5f",
           "arrowhead": 0,
           "arrowwidth": 1
          },
          "autotypenumbers": "strict",
          "coloraxis": {
           "colorbar": {
            "outlinewidth": 0,
            "ticks": ""
           }
          },
          "colorscale": {
           "diverging": [
            [
             0,
             "#8e0152"
            ],
            [
             0.1,
             "#c51b7d"
            ],
            [
             0.2,
             "#de77ae"
            ],
            [
             0.3,
             "#f1b6da"
            ],
            [
             0.4,
             "#fde0ef"
            ],
            [
             0.5,
             "#f7f7f7"
            ],
            [
             0.6,
             "#e6f5d0"
            ],
            [
             0.7,
             "#b8e186"
            ],
            [
             0.8,
             "#7fbc41"
            ],
            [
             0.9,
             "#4d9221"
            ],
            [
             1,
             "#276419"
            ]
           ],
           "sequential": [
            [
             0,
             "#0d0887"
            ],
            [
             0.1111111111111111,
             "#46039f"
            ],
            [
             0.2222222222222222,
             "#7201a8"
            ],
            [
             0.3333333333333333,
             "#9c179e"
            ],
            [
             0.4444444444444444,
             "#bd3786"
            ],
            [
             0.5555555555555556,
             "#d8576b"
            ],
            [
             0.6666666666666666,
             "#ed7953"
            ],
            [
             0.7777777777777778,
             "#fb9f3a"
            ],
            [
             0.8888888888888888,
             "#fdca26"
            ],
            [
             1,
             "#f0f921"
            ]
           ],
           "sequentialminus": [
            [
             0,
             "#0d0887"
            ],
            [
             0.1111111111111111,
             "#46039f"
            ],
            [
             0.2222222222222222,
             "#7201a8"
            ],
            [
             0.3333333333333333,
             "#9c179e"
            ],
            [
             0.4444444444444444,
             "#bd3786"
            ],
            [
             0.5555555555555556,
             "#d8576b"
            ],
            [
             0.6666666666666666,
             "#ed7953"
            ],
            [
             0.7777777777777778,
             "#fb9f3a"
            ],
            [
             0.8888888888888888,
             "#fdca26"
            ],
            [
             1,
             "#f0f921"
            ]
           ]
          },
          "colorway": [
           "#636efa",
           "#EF553B",
           "#00cc96",
           "#ab63fa",
           "#FFA15A",
           "#19d3f3",
           "#FF6692",
           "#B6E880",
           "#FF97FF",
           "#FECB52"
          ],
          "font": {
           "color": "#2a3f5f"
          },
          "geo": {
           "bgcolor": "white",
           "lakecolor": "white",
           "landcolor": "#E5ECF6",
           "showlakes": true,
           "showland": true,
           "subunitcolor": "white"
          },
          "hoverlabel": {
           "align": "left"
          },
          "hovermode": "closest",
          "mapbox": {
           "style": "light"
          },
          "paper_bgcolor": "white",
          "plot_bgcolor": "#E5ECF6",
          "polar": {
           "angularaxis": {
            "gridcolor": "white",
            "linecolor": "white",
            "ticks": ""
           },
           "bgcolor": "#E5ECF6",
           "radialaxis": {
            "gridcolor": "white",
            "linecolor": "white",
            "ticks": ""
           }
          },
          "scene": {
           "xaxis": {
            "backgroundcolor": "#E5ECF6",
            "gridcolor": "white",
            "gridwidth": 2,
            "linecolor": "white",
            "showbackground": true,
            "ticks": "",
            "zerolinecolor": "white"
           },
           "yaxis": {
            "backgroundcolor": "#E5ECF6",
            "gridcolor": "white",
            "gridwidth": 2,
            "linecolor": "white",
            "showbackground": true,
            "ticks": "",
            "zerolinecolor": "white"
           },
           "zaxis": {
            "backgroundcolor": "#E5ECF6",
            "gridcolor": "white",
            "gridwidth": 2,
            "linecolor": "white",
            "showbackground": true,
            "ticks": "",
            "zerolinecolor": "white"
           }
          },
          "shapedefaults": {
           "line": {
            "color": "#2a3f5f"
           }
          },
          "ternary": {
           "aaxis": {
            "gridcolor": "white",
            "linecolor": "white",
            "ticks": ""
           },
           "baxis": {
            "gridcolor": "white",
            "linecolor": "white",
            "ticks": ""
           },
           "bgcolor": "#E5ECF6",
           "caxis": {
            "gridcolor": "white",
            "linecolor": "white",
            "ticks": ""
           }
          },
          "title": {
           "x": 0.05
          },
          "xaxis": {
           "automargin": true,
           "gridcolor": "white",
           "linecolor": "white",
           "ticks": "",
           "title": {
            "standoff": 15
           },
           "zerolinecolor": "white",
           "zerolinewidth": 2
          },
          "yaxis": {
           "automargin": true,
           "gridcolor": "white",
           "linecolor": "white",
           "ticks": "",
           "title": {
            "standoff": 15
           },
           "zerolinecolor": "white",
           "zerolinewidth": 2
          }
         }
        },
        "title": {
         "text": "Beginning of movie character exposures"
        }
       }
      },
      "text/html": [
       "<div>                            <div id=\"e94081a8-d2af-441f-880c-9a439a3c0d91\" class=\"plotly-graph-div\" style=\"height:525px; width:100%;\"></div>            <script type=\"text/javascript\">                require([\"plotly\"], function(Plotly) {                    window.PLOTLYENV=window.PLOTLYENV || {};                                    if (document.getElementById(\"e94081a8-d2af-441f-880c-9a439a3c0d91\")) {                    Plotly.newPlot(                        \"e94081a8-d2af-441f-880c-9a439a3c0d91\",                        [{\"domain\":{\"x\":[0.0,1.0],\"y\":[0.0,1.0]},\"hovertemplate\":\"character=%{label}<br>duration_end=%{value}<extra></extra>\",\"labels\":[\"ABBIEHOFFMAN\",\"BOY\",\"BUBBA\",\"CROWD\",\"DAN\",\"DICKCAVETT\",\"ELVISPRESLEY\",\"FORREST\",\"FORRESTJR\",\"FORRESTVO\",\"GIRL\",\"JENNY\",\"JENNYSDAD\",\"JOHNLENNON\",\"MAN\",\"MEN\",\"MRSBLUE\",\"MRSGUMP\",\"OLDERBOYS\",\"OLDMAN\",\"OLDWOMAN\",\"PRESIDENTJOHNSON\",\"PRESIDENTKENNEDY\",\"PRESIDENTNIXON\",\"WOMAN\"],\"legendgroup\":\"\",\"name\":\"\",\"showlegend\":true,\"values\":[0.0,0.0,0.0,81.0,432.0,16.0,0.0,1490.0,2.0,173.0,0.0,886.0,0.0,26.0,222.0,0.0,14.0,54.0,0.0,14.0,89.0,0.0,0.0,15.0,42.0],\"type\":\"pie\"}],                        {\"template\":{\"data\":{\"histogram2dcontour\":[{\"type\":\"histogram2dcontour\",\"colorbar\":{\"outlinewidth\":0,\"ticks\":\"\"},\"colorscale\":[[0.0,\"#0d0887\"],[0.1111111111111111,\"#46039f\"],[0.2222222222222222,\"#7201a8\"],[0.3333333333333333,\"#9c179e\"],[0.4444444444444444,\"#bd3786\"],[0.5555555555555556,\"#d8576b\"],[0.6666666666666666,\"#ed7953\"],[0.7777777777777778,\"#fb9f3a\"],[0.8888888888888888,\"#fdca26\"],[1.0,\"#f0f921\"]]}],\"choropleth\":[{\"type\":\"choropleth\",\"colorbar\":{\"outlinewidth\":0,\"ticks\":\"\"}}],\"histogram2d\":[{\"type\":\"histogram2d\",\"colorbar\":{\"outlinewidth\":0,\"ticks\":\"\"},\"colorscale\":[[0.0,\"#0d0887\"],[0.1111111111111111,\"#46039f\"],[0.2222222222222222,\"#7201a8\"],[0.3333333333333333,\"#9c179e\"],[0.4444444444444444,\"#bd3786\"],[0.5555555555555556,\"#d8576b\"],[0.6666666666666666,\"#ed7953\"],[0.7777777777777778,\"#fb9f3a\"],[0.8888888888888888,\"#fdca26\"],[1.0,\"#f0f921\"]]}],\"heatmap\":[{\"type\":\"heatmap\",\"colorbar\":{\"outlinewidth\":0,\"ticks\":\"\"},\"colorscale\":[[0.0,\"#0d0887\"],[0.1111111111111111,\"#46039f\"],[0.2222222222222222,\"#7201a8\"],[0.3333333333333333,\"#9c179e\"],[0.4444444444444444,\"#bd3786\"],[0.5555555555555556,\"#d8576b\"],[0.6666666666666666,\"#ed7953\"],[0.7777777777777778,\"#fb9f3a\"],[0.8888888888888888,\"#fdca26\"],[1.0,\"#f0f921\"]]}],\"heatmapgl\":[{\"type\":\"heatmapgl\",\"colorbar\":{\"outlinewidth\":0,\"ticks\":\"\"},\"colorscale\":[[0.0,\"#0d0887\"],[0.1111111111111111,\"#46039f\"],[0.2222222222222222,\"#7201a8\"],[0.3333333333333333,\"#9c179e\"],[0.4444444444444444,\"#bd3786\"],[0.5555555555555556,\"#d8576b\"],[0.6666666666666666,\"#ed7953\"],[0.7777777777777778,\"#fb9f3a\"],[0.8888888888888888,\"#fdca26\"],[1.0,\"#f0f921\"]]}],\"contourcarpet\":[{\"type\":\"contourcarpet\",\"colorbar\":{\"outlinewidth\":0,\"ticks\":\"\"}}],\"contour\":[{\"type\":\"contour\",\"colorbar\":{\"outlinewidth\":0,\"ticks\":\"\"},\"colorscale\":[[0.0,\"#0d0887\"],[0.1111111111111111,\"#46039f\"],[0.2222222222222222,\"#7201a8\"],[0.3333333333333333,\"#9c179e\"],[0.4444444444444444,\"#bd3786\"],[0.5555555555555556,\"#d8576b\"],[0.6666666666666666,\"#ed7953\"],[0.7777777777777778,\"#fb9f3a\"],[0.8888888888888888,\"#fdca26\"],[1.0,\"#f0f921\"]]}],\"surface\":[{\"type\":\"surface\",\"colorbar\":{\"outlinewidth\":0,\"ticks\":\"\"},\"colorscale\":[[0.0,\"#0d0887\"],[0.1111111111111111,\"#46039f\"],[0.2222222222222222,\"#7201a8\"],[0.3333333333333333,\"#9c179e\"],[0.4444444444444444,\"#bd3786\"],[0.5555555555555556,\"#d8576b\"],[0.6666666666666666,\"#ed7953\"],[0.7777777777777778,\"#fb9f3a\"],[0.8888888888888888,\"#fdca26\"],[1.0,\"#f0f921\"]]}],\"mesh3d\":[{\"type\":\"mesh3d\",\"colorbar\":{\"outlinewidth\":0,\"ticks\":\"\"}}],\"scatter\":[{\"fillpattern\":{\"fillmode\":\"overlay\",\"size\":10,\"solidity\":0.2},\"type\":\"scatter\"}],\"parcoords\":[{\"type\":\"parcoords\",\"line\":{\"colorbar\":{\"outlinewidth\":0,\"ticks\":\"\"}}}],\"scatterpolargl\":[{\"type\":\"scatterpolargl\",\"marker\":{\"colorbar\":{\"outlinewidth\":0,\"ticks\":\"\"}}}],\"bar\":[{\"error_x\":{\"color\":\"#2a3f5f\"},\"error_y\":{\"color\":\"#2a3f5f\"},\"marker\":{\"line\":{\"color\":\"#E5ECF6\",\"width\":0.5},\"pattern\":{\"fillmode\":\"overlay\",\"size\":10,\"solidity\":0.2}},\"type\":\"bar\"}],\"scattergeo\":[{\"type\":\"scattergeo\",\"marker\":{\"colorbar\":{\"outlinewidth\":0,\"ticks\":\"\"}}}],\"scatterpolar\":[{\"type\":\"scatterpolar\",\"marker\":{\"colorbar\":{\"outlinewidth\":0,\"ticks\":\"\"}}}],\"histogram\":[{\"marker\":{\"pattern\":{\"fillmode\":\"overlay\",\"size\":10,\"solidity\":0.2}},\"type\":\"histogram\"}],\"scattergl\":[{\"type\":\"scattergl\",\"marker\":{\"colorbar\":{\"outlinewidth\":0,\"ticks\":\"\"}}}],\"scatter3d\":[{\"type\":\"scatter3d\",\"line\":{\"colorbar\":{\"outlinewidth\":0,\"ticks\":\"\"}},\"marker\":{\"colorbar\":{\"outlinewidth\":0,\"ticks\":\"\"}}}],\"scattermapbox\":[{\"type\":\"scattermapbox\",\"marker\":{\"colorbar\":{\"outlinewidth\":0,\"ticks\":\"\"}}}],\"scatterternary\":[{\"type\":\"scatterternary\",\"marker\":{\"colorbar\":{\"outlinewidth\":0,\"ticks\":\"\"}}}],\"scattercarpet\":[{\"type\":\"scattercarpet\",\"marker\":{\"colorbar\":{\"outlinewidth\":0,\"ticks\":\"\"}}}],\"carpet\":[{\"aaxis\":{\"endlinecolor\":\"#2a3f5f\",\"gridcolor\":\"white\",\"linecolor\":\"white\",\"minorgridcolor\":\"white\",\"startlinecolor\":\"#2a3f5f\"},\"baxis\":{\"endlinecolor\":\"#2a3f5f\",\"gridcolor\":\"white\",\"linecolor\":\"white\",\"minorgridcolor\":\"white\",\"startlinecolor\":\"#2a3f5f\"},\"type\":\"carpet\"}],\"table\":[{\"cells\":{\"fill\":{\"color\":\"#EBF0F8\"},\"line\":{\"color\":\"white\"}},\"header\":{\"fill\":{\"color\":\"#C8D4E3\"},\"line\":{\"color\":\"white\"}},\"type\":\"table\"}],\"barpolar\":[{\"marker\":{\"line\":{\"color\":\"#E5ECF6\",\"width\":0.5},\"pattern\":{\"fillmode\":\"overlay\",\"size\":10,\"solidity\":0.2}},\"type\":\"barpolar\"}],\"pie\":[{\"automargin\":true,\"type\":\"pie\"}]},\"layout\":{\"autotypenumbers\":\"strict\",\"colorway\":[\"#636efa\",\"#EF553B\",\"#00cc96\",\"#ab63fa\",\"#FFA15A\",\"#19d3f3\",\"#FF6692\",\"#B6E880\",\"#FF97FF\",\"#FECB52\"],\"font\":{\"color\":\"#2a3f5f\"},\"hovermode\":\"closest\",\"hoverlabel\":{\"align\":\"left\"},\"paper_bgcolor\":\"white\",\"plot_bgcolor\":\"#E5ECF6\",\"polar\":{\"bgcolor\":\"#E5ECF6\",\"angularaxis\":{\"gridcolor\":\"white\",\"linecolor\":\"white\",\"ticks\":\"\"},\"radialaxis\":{\"gridcolor\":\"white\",\"linecolor\":\"white\",\"ticks\":\"\"}},\"ternary\":{\"bgcolor\":\"#E5ECF6\",\"aaxis\":{\"gridcolor\":\"white\",\"linecolor\":\"white\",\"ticks\":\"\"},\"baxis\":{\"gridcolor\":\"white\",\"linecolor\":\"white\",\"ticks\":\"\"},\"caxis\":{\"gridcolor\":\"white\",\"linecolor\":\"white\",\"ticks\":\"\"}},\"coloraxis\":{\"colorbar\":{\"outlinewidth\":0,\"ticks\":\"\"}},\"colorscale\":{\"sequential\":[[0.0,\"#0d0887\"],[0.1111111111111111,\"#46039f\"],[0.2222222222222222,\"#7201a8\"],[0.3333333333333333,\"#9c179e\"],[0.4444444444444444,\"#bd3786\"],[0.5555555555555556,\"#d8576b\"],[0.6666666666666666,\"#ed7953\"],[0.7777777777777778,\"#fb9f3a\"],[0.8888888888888888,\"#fdca26\"],[1.0,\"#f0f921\"]],\"sequentialminus\":[[0.0,\"#0d0887\"],[0.1111111111111111,\"#46039f\"],[0.2222222222222222,\"#7201a8\"],[0.3333333333333333,\"#9c179e\"],[0.4444444444444444,\"#bd3786\"],[0.5555555555555556,\"#d8576b\"],[0.6666666666666666,\"#ed7953\"],[0.7777777777777778,\"#fb9f3a\"],[0.8888888888888888,\"#fdca26\"],[1.0,\"#f0f921\"]],\"diverging\":[[0,\"#8e0152\"],[0.1,\"#c51b7d\"],[0.2,\"#de77ae\"],[0.3,\"#f1b6da\"],[0.4,\"#fde0ef\"],[0.5,\"#f7f7f7\"],[0.6,\"#e6f5d0\"],[0.7,\"#b8e186\"],[0.8,\"#7fbc41\"],[0.9,\"#4d9221\"],[1,\"#276419\"]]},\"xaxis\":{\"gridcolor\":\"white\",\"linecolor\":\"white\",\"ticks\":\"\",\"title\":{\"standoff\":15},\"zerolinecolor\":\"white\",\"automargin\":true,\"zerolinewidth\":2},\"yaxis\":{\"gridcolor\":\"white\",\"linecolor\":\"white\",\"ticks\":\"\",\"title\":{\"standoff\":15},\"zerolinecolor\":\"white\",\"automargin\":true,\"zerolinewidth\":2},\"scene\":{\"xaxis\":{\"backgroundcolor\":\"#E5ECF6\",\"gridcolor\":\"white\",\"linecolor\":\"white\",\"showbackground\":true,\"ticks\":\"\",\"zerolinecolor\":\"white\",\"gridwidth\":2},\"yaxis\":{\"backgroundcolor\":\"#E5ECF6\",\"gridcolor\":\"white\",\"linecolor\":\"white\",\"showbackground\":true,\"ticks\":\"\",\"zerolinecolor\":\"white\",\"gridwidth\":2},\"zaxis\":{\"backgroundcolor\":\"#E5ECF6\",\"gridcolor\":\"white\",\"linecolor\":\"white\",\"showbackground\":true,\"ticks\":\"\",\"zerolinecolor\":\"white\",\"gridwidth\":2}},\"shapedefaults\":{\"line\":{\"color\":\"#2a3f5f\"}},\"annotationdefaults\":{\"arrowcolor\":\"#2a3f5f\",\"arrowhead\":0,\"arrowwidth\":1},\"geo\":{\"bgcolor\":\"white\",\"landcolor\":\"#E5ECF6\",\"subunitcolor\":\"white\",\"showland\":true,\"showlakes\":true,\"lakecolor\":\"white\"},\"title\":{\"x\":0.05},\"mapbox\":{\"style\":\"light\"}}},\"legend\":{\"tracegroupgap\":0},\"title\":{\"text\":\"Beginning of movie character exposures\"}},                        {\"responsive\": true}                    ).then(function(){\n",
       "                            \n",
       "var gd = document.getElementById('e94081a8-d2af-441f-880c-9a439a3c0d91');\n",
       "var x = new MutationObserver(function (mutations, observer) {{\n",
       "        var display = window.getComputedStyle(gd).display;\n",
       "        if (!display || display === 'none') {{\n",
       "            console.log([gd, 'removed!']);\n",
       "            Plotly.purge(gd);\n",
       "            observer.disconnect();\n",
       "        }}\n",
       "}});\n",
       "\n",
       "// Listen for the removal of the full notebook cells\n",
       "var notebookContainer = gd.closest('#notebook-container');\n",
       "if (notebookContainer) {{\n",
       "    x.observe(notebookContainer, {childList: true});\n",
       "}}\n",
       "\n",
       "// Listen for the clearing of the current output cell\n",
       "var outputEl = gd.closest('.output');\n",
       "if (outputEl) {{\n",
       "    x.observe(outputEl, {childList: true});\n",
       "}}\n",
       "\n",
       "                        })                };                });            </script>        </div>"
      ]
     },
     "metadata": {},
     "output_type": "display_data"
    }
   ],
   "source": [
    "px.pie(joined, values='duration_start', names='character', title='Beginning of movie character exposures').show()\n",
    "\n",
    "px.pie(joined, values='duration_end', names='character', title='Beginning of movie character exposures').show()"
   ]
  }
 ],
 "metadata": {
  "kernelspec": {
   "display_name": "Python 3 (ipykernel)",
   "language": "python",
   "name": "python3"
  },
  "language_info": {
   "codemirror_mode": {
    "name": "ipython",
    "version": 3
   },
   "file_extension": ".py",
   "mimetype": "text/x-python",
   "name": "python",
   "nbconvert_exporter": "python",
   "pygments_lexer": "ipython3",
   "version": "3.10.6"
  }
 },
 "nbformat": 4,
 "nbformat_minor": 5
}
